{
  "nbformat": 4,
  "nbformat_minor": 0,
  "metadata": {
    "colab": {
      "name": "python ders1",
      "provenance": [],
      "collapsed_sections": [],
      "mount_file_id": "1kouoaum9tcvP0ceFCwIO_v9iKyEmTqm1",
      "authorship_tag": "ABX9TyMCzBrin6wJb91jUQnCvKby",
      "include_colab_link": true
    },
    "kernelspec": {
      "name": "python3",
      "display_name": "Python 3"
    }
  },
  "cells": [
    {
      "cell_type": "markdown",
      "metadata": {
        "id": "view-in-github",
        "colab_type": "text"
      },
      "source": [
        "<a href=\"https://colab.research.google.com/github/nizamettinkaya/IT-project-0/blob/main/python_ders1.ipynb\" target=\"_parent\"><img src=\"https://colab.research.google.com/assets/colab-badge.svg\" alt=\"Open In Colab\"/></a>"
      ]
    },
    {
      "cell_type": "code",
      "metadata": {
        "colab": {
          "base_uri": "https://localhost:8080/"
        },
        "id": "8xbahHzEHqsj",
        "outputId": "c5e4dc01-2967-4b5e-ad08-54110254ff45"
      },
      "source": [
        "False and not True     "
      ],
      "execution_count": null,
      "outputs": [
        {
          "output_type": "execute_result",
          "data": {
            "text/plain": [
              "False"
            ]
          },
          "metadata": {
            "tags": []
          },
          "execution_count": 1
        }
      ]
    },
    {
      "cell_type": "code",
      "metadata": {
        "id": "znob81-ZOhFB"
      },
      "source": [
        ""
      ],
      "execution_count": null,
      "outputs": []
    },
    {
      "cell_type": "code",
      "metadata": {
        "colab": {
          "base_uri": "https://localhost:8080/"
        },
        "id": "oIMaij4gbvlq",
        "outputId": "a89e7b1f-3df1-409f-916b-6b13410fdd73"
      },
      "source": [
        "False or True"
      ],
      "execution_count": null,
      "outputs": [
        {
          "output_type": "execute_result",
          "data": {
            "text/plain": [
              "True"
            ]
          },
          "metadata": {
            "tags": []
          },
          "execution_count": 1
        }
      ]
    },
    {
      "cell_type": "code",
      "metadata": {
        "colab": {
          "base_uri": "https://localhost:8080/"
        },
        "id": "or6Qbfyvbv_g",
        "outputId": "5a943ba7-e5c6-4740-a530-a1430aa0d239"
      },
      "source": [
        "True and False and True #and False arar"
      ],
      "execution_count": null,
      "outputs": [
        {
          "output_type": "execute_result",
          "data": {
            "text/plain": [
              "False"
            ]
          },
          "metadata": {
            "tags": []
          },
          "execution_count": 5
        }
      ]
    },
    {
      "cell_type": "code",
      "metadata": {
        "colab": {
          "base_uri": "https://localhost:8080/"
        },
        "id": "OQUIIricbwD3",
        "outputId": "a47568b8-f4ca-433d-93dd-be03e4f34139"
      },
      "source": [
        "True or False or False  # or True arar"
      ],
      "execution_count": null,
      "outputs": [
        {
          "output_type": "execute_result",
          "data": {
            "text/plain": [
              "True"
            ]
          },
          "metadata": {
            "tags": []
          },
          "execution_count": 6
        }
      ]
    },
    {
      "cell_type": "code",
      "metadata": {
        "colab": {
          "base_uri": "https://localhost:8080/"
        },
        "id": "mJSbeJ8hbwHO",
        "outputId": "dac1387c-9530-4ea2-8f1a-8b023ebe85dd"
      },
      "source": [
        "print(2 and 3)"
      ],
      "execution_count": null,
      "outputs": [
        {
          "output_type": "stream",
          "text": [
            "3\n"
          ],
          "name": "stdout"
        }
      ]
    },
    {
      "cell_type": "code",
      "metadata": {
        "colab": {
          "base_uri": "https://localhost:8080/"
        },
        "id": "YOgMJDsd4tyc",
        "outputId": "f9d33c29-a6bf-4505-bcc1-731524bff01a"
      },
      "source": [
        "print(3 and 2)"
      ],
      "execution_count": null,
      "outputs": [
        {
          "output_type": "stream",
          "text": [
            "2\n"
          ],
          "name": "stdout"
        }
      ]
    },
    {
      "cell_type": "code",
      "metadata": {
        "colab": {
          "base_uri": "https://localhost:8080/"
        },
        "id": "OptnbjUDlOu6",
        "outputId": "aeffb588-e421-4c9d-bd0f-6a76677a3f2d"
      },
      "source": [
        "print(2 or 3)"
      ],
      "execution_count": null,
      "outputs": [
        {
          "output_type": "stream",
          "text": [
            "2\n"
          ],
          "name": "stdout"
        }
      ]
    },
    {
      "cell_type": "code",
      "metadata": {
        "colab": {
          "base_uri": "https://localhost:8080/"
        },
        "id": "bR89rP-5bwKs",
        "outputId": "f6a23acb-194a-4995-ba36-b9b3c3d1017c"
      },
      "source": [
        "print(1 and 0)"
      ],
      "execution_count": null,
      "outputs": [
        {
          "output_type": "stream",
          "text": [
            "0\n"
          ],
          "name": "stdout"
        }
      ]
    },
    {
      "cell_type": "code",
      "metadata": {
        "colab": {
          "base_uri": "https://localhost:8080/"
        },
        "id": "aJdjv6-pbwN3",
        "outputId": "6d836292-e5c1-436e-c5f0-1e8c30945e45"
      },
      "source": [
        "print(1 or 0)"
      ],
      "execution_count": null,
      "outputs": [
        {
          "output_type": "stream",
          "text": [
            "1\n"
          ],
          "name": "stdout"
        }
      ]
    },
    {
      "cell_type": "code",
      "metadata": {
        "colab": {
          "base_uri": "https://localhost:8080/"
        },
        "id": "EOnKpjyhbwRN",
        "outputId": "44888095-7584-4074-bff8-a8bf5bf76b5f"
      },
      "source": [
        "print(3 and 2 and 1)"
      ],
      "execution_count": null,
      "outputs": [
        {
          "output_type": "stream",
          "text": [
            "1\n"
          ],
          "name": "stdout"
        }
      ]
    },
    {
      "cell_type": "code",
      "metadata": {
        "colab": {
          "base_uri": "https://localhost:8080/"
        },
        "id": "cGdjI_gCbwU0",
        "outputId": "40e58ff4-d2ee-43df-beae-f72531cadd64"
      },
      "source": [
        "bool(1)"
      ],
      "execution_count": null,
      "outputs": [
        {
          "output_type": "execute_result",
          "data": {
            "text/plain": [
              "True"
            ]
          },
          "metadata": {
            "tags": []
          },
          "execution_count": 11
        }
      ]
    },
    {
      "cell_type": "code",
      "metadata": {
        "colab": {
          "base_uri": "https://localhost:8080/"
        },
        "id": "xSvxUyVCbwYP",
        "outputId": "f9883fcb-6f0c-439c-9339-c6378c87ffc0"
      },
      "source": [
        "bool(\"0\")"
      ],
      "execution_count": null,
      "outputs": [
        {
          "output_type": "execute_result",
          "data": {
            "text/plain": [
              "True"
            ]
          },
          "metadata": {
            "tags": []
          },
          "execution_count": 13
        }
      ]
    },
    {
      "cell_type": "code",
      "metadata": {
        "colab": {
          "base_uri": "https://localhost:8080/"
        },
        "id": "-VzjMYFJbwc5",
        "outputId": "32003b70-6b43-4193-b6fa-a1531d94e9df"
      },
      "source": [
        "bool(\" \")"
      ],
      "execution_count": null,
      "outputs": [
        {
          "output_type": "execute_result",
          "data": {
            "text/plain": [
              "True"
            ]
          },
          "metadata": {
            "tags": []
          },
          "execution_count": 14
        }
      ]
    },
    {
      "cell_type": "code",
      "metadata": {
        "colab": {
          "base_uri": "https://localhost:8080/"
        },
        "id": "AiCs-pe-bwgV",
        "outputId": "25768ea4-615c-4aa3-a919-bdce691955ba"
      },
      "source": [
        "bool(\"\")"
      ],
      "execution_count": null,
      "outputs": [
        {
          "output_type": "execute_result",
          "data": {
            "text/plain": [
              "False"
            ]
          },
          "metadata": {
            "tags": []
          },
          "execution_count": 15
        }
      ]
    },
    {
      "cell_type": "code",
      "metadata": {
        "colab": {
          "base_uri": "https://localhost:8080/"
        },
        "id": "7gLq6KyI484s",
        "outputId": "d60c52cb-a874-41dd-f89a-6e08dda64708"
      },
      "source": [
        "bool()"
      ],
      "execution_count": null,
      "outputs": [
        {
          "output_type": "execute_result",
          "data": {
            "text/plain": [
              "False"
            ]
          },
          "metadata": {
            "tags": []
          },
          "execution_count": 4
        }
      ]
    },
    {
      "cell_type": "code",
      "metadata": {
        "colab": {
          "base_uri": "https://localhost:8080/"
        },
        "id": "pza_Ce6Lbwko",
        "outputId": "cf0c6706-fe45-48a2-f1ac-a99a845e0b10"
      },
      "source": [
        "bool(1 or 2)"
      ],
      "execution_count": null,
      "outputs": [
        {
          "output_type": "execute_result",
          "data": {
            "text/plain": [
              "True"
            ]
          },
          "metadata": {
            "tags": []
          },
          "execution_count": 19
        }
      ]
    },
    {
      "cell_type": "code",
      "metadata": {
        "colab": {
          "base_uri": "https://localhost:8080/"
        },
        "id": "y0pAGmXB5D9x",
        "outputId": "1bc7291b-4d1c-4ee7-fa2c-8f3b17231e30"
      },
      "source": [
        "bool(-1 or -2)"
      ],
      "execution_count": null,
      "outputs": [
        {
          "output_type": "execute_result",
          "data": {
            "text/plain": [
              "True"
            ]
          },
          "metadata": {
            "tags": []
          },
          "execution_count": 6
        }
      ]
    },
    {
      "cell_type": "code",
      "metadata": {
        "colab": {
          "base_uri": "https://localhost:8080/"
        },
        "id": "qEgWMPeTbwp5",
        "outputId": "38659d73-aff2-4e60-b28e-619297d4a194"
      },
      "source": [
        "bool(1 and 2)"
      ],
      "execution_count": null,
      "outputs": [
        {
          "output_type": "execute_result",
          "data": {
            "text/plain": [
              "True"
            ]
          },
          "metadata": {
            "tags": []
          },
          "execution_count": 20
        }
      ]
    },
    {
      "cell_type": "code",
      "metadata": {
        "colab": {
          "base_uri": "https://localhost:8080/"
        },
        "id": "yeikHGqMjxqF",
        "outputId": "8eed45ae-8c7d-4d6a-d5a6-76ba0c81a366"
      },
      "source": [
        "print(1 and 2)"
      ],
      "execution_count": null,
      "outputs": [
        {
          "output_type": "stream",
          "text": [
            "2\n"
          ],
          "name": "stdout"
        }
      ]
    },
    {
      "cell_type": "code",
      "metadata": {
        "colab": {
          "base_uri": "https://localhost:8080/"
        },
        "id": "v33KOFc4jxtU",
        "outputId": "75a297dd-12fd-46cd-de73-6b7cd8a90127"
      },
      "source": [
        "print(1 or 2)"
      ],
      "execution_count": null,
      "outputs": [
        {
          "output_type": "stream",
          "text": [
            "1\n"
          ],
          "name": "stdout"
        }
      ]
    },
    {
      "cell_type": "code",
      "metadata": {
        "colab": {
          "base_uri": "https://localhost:8080/",
          "height": 37
        },
        "id": "hezGiYbVjxwV",
        "outputId": "a417b20f-3278-4587-b5d8-e9cc0e511587"
      },
      "source": [
        "\"ALİ\"[1]"
      ],
      "execution_count": null,
      "outputs": [
        {
          "output_type": "execute_result",
          "data": {
            "application/vnd.google.colaboratory.intrinsic+json": {
              "type": "string"
            },
            "text/plain": [
              "'L'"
            ]
          },
          "metadata": {
            "tags": []
          },
          "execution_count": 24
        }
      ]
    },
    {
      "cell_type": "code",
      "metadata": {
        "colab": {
          "base_uri": "https://localhost:8080/",
          "height": 37
        },
        "id": "PvujJsSajxzT",
        "outputId": "165cc678-cf7b-4992-fe38-50423aa6aa9b"
      },
      "source": [
        "\"ALİ\"[2]"
      ],
      "execution_count": null,
      "outputs": [
        {
          "output_type": "execute_result",
          "data": {
            "application/vnd.google.colaboratory.intrinsic+json": {
              "type": "string"
            },
            "text/plain": [
              "'İ'"
            ]
          },
          "metadata": {
            "tags": []
          },
          "execution_count": 25
        }
      ]
    },
    {
      "cell_type": "code",
      "metadata": {
        "colab": {
          "base_uri": "https://localhost:8080/",
          "height": 37
        },
        "id": "4mTtSrEFjx3B",
        "outputId": "3f74690a-b27c-49a6-b299-a67bf53fefdb"
      },
      "source": [
        "\"ALİ\"[0]"
      ],
      "execution_count": null,
      "outputs": [
        {
          "output_type": "execute_result",
          "data": {
            "application/vnd.google.colaboratory.intrinsic+json": {
              "type": "string"
            },
            "text/plain": [
              "'A'"
            ]
          },
          "metadata": {
            "tags": []
          },
          "execution_count": 26
        }
      ]
    },
    {
      "cell_type": "code",
      "metadata": {
        "colab": {
          "base_uri": "https://localhost:8080/",
          "height": 37
        },
        "id": "_s4EmoTwjx6A",
        "outputId": "170f0d95-599c-486e-a893-5e3a58b605d9"
      },
      "source": [
        "\"clarus-way .\"[6]"
      ],
      "execution_count": null,
      "outputs": [
        {
          "output_type": "execute_result",
          "data": {
            "application/vnd.google.colaboratory.intrinsic+json": {
              "type": "string"
            },
            "text/plain": [
              "'-'"
            ]
          },
          "metadata": {
            "tags": []
          },
          "execution_count": 29
        }
      ]
    },
    {
      "cell_type": "code",
      "metadata": {
        "colab": {
          "base_uri": "https://localhost:8080/",
          "height": 37
        },
        "id": "EZU5tKMejx9g",
        "outputId": "def3452c-0c08-4c1d-c37f-73828c3582c1"
      },
      "source": [
        "\"clarus-way .\"[7]"
      ],
      "execution_count": null,
      "outputs": [
        {
          "output_type": "execute_result",
          "data": {
            "application/vnd.google.colaboratory.intrinsic+json": {
              "type": "string"
            },
            "text/plain": [
              "'w'"
            ]
          },
          "metadata": {
            "tags": []
          },
          "execution_count": 30
        }
      ]
    },
    {
      "cell_type": "code",
      "metadata": {
        "colab": {
          "base_uri": "https://localhost:8080/",
          "height": 37
        },
        "id": "-ojrtMyujyAI",
        "outputId": "526a894c-7996-4831-fc1e-2f113b19a760"
      },
      "source": [
        "\"clarus-way .\"[10]                             #indexing bir sayı çağırır "
      ],
      "execution_count": null,
      "outputs": [
        {
          "output_type": "execute_result",
          "data": {
            "application/vnd.google.colaboratory.intrinsic+json": {
              "type": "string"
            },
            "text/plain": [
              "' '"
            ]
          },
          "metadata": {
            "tags": []
          },
          "execution_count": 31
        }
      ]
    },
    {
      "cell_type": "code",
      "metadata": {
        "colab": {
          "base_uri": "https://localhost:8080/",
          "height": 37
        },
        "id": "52LAXWYC6u86",
        "outputId": "ba50e697-27ba-408b-86b7-581b34222705"
      },
      "source": [
        "\"ahmet 34\""
      ],
      "execution_count": null,
      "outputs": [
        {
          "output_type": "execute_result",
          "data": {
            "application/vnd.google.colaboratory.intrinsic+json": {
              "type": "string"
            },
            "text/plain": [
              "'ahmet 34'"
            ]
          },
          "metadata": {
            "tags": []
          },
          "execution_count": 32
        }
      ]
    },
    {
      "cell_type": "code",
      "metadata": {
        "colab": {
          "base_uri": "https://localhost:8080/"
        },
        "id": "4xiWinZQ6vAT",
        "outputId": "51e7e476-1e8f-4619-d57a-663782afa952"
      },
      "source": [
        "var = \"ahmet 34\"\n",
        "var[6]\n",
        "type(var[6])"
      ],
      "execution_count": null,
      "outputs": [
        {
          "output_type": "execute_result",
          "data": {
            "text/plain": [
              "str"
            ]
          },
          "metadata": {
            "tags": []
          },
          "execution_count": 34
        }
      ]
    },
    {
      "cell_type": "code",
      "metadata": {
        "colab": {
          "base_uri": "https://localhost:8080/",
          "height": 37
        },
        "id": "ZmLuSNgQ6vDr",
        "outputId": "0dce7b9d-63dc-419d-9081-daf0449585af"
      },
      "source": [
        "\"clarus-way .\" [1:4]                       # slicing birden fazla eleman çağırabiliriz...."
      ],
      "execution_count": null,
      "outputs": [
        {
          "output_type": "execute_result",
          "data": {
            "application/vnd.google.colaboratory.intrinsic+json": {
              "type": "string"
            },
            "text/plain": [
              "'lar'"
            ]
          },
          "metadata": {
            "tags": []
          },
          "execution_count": 35
        }
      ]
    },
    {
      "cell_type": "code",
      "metadata": {
        "colab": {
          "base_uri": "https://localhost:8080/",
          "height": 37
        },
        "id": "iPqpCw5h6vG3",
        "outputId": "8396d190-3e3d-4405-8c2a-ac4e18fbed5a"
      },
      "source": [
        "\"clarus-way .\" [6:8]"
      ],
      "execution_count": null,
      "outputs": [
        {
          "output_type": "execute_result",
          "data": {
            "application/vnd.google.colaboratory.intrinsic+json": {
              "type": "string"
            },
            "text/plain": [
              "'-w'"
            ]
          },
          "metadata": {
            "tags": []
          },
          "execution_count": 37
        }
      ]
    },
    {
      "cell_type": "code",
      "metadata": {
        "id": "2h1X89kD6vNd",
        "colab": {
          "base_uri": "https://localhost:8080/"
        },
        "outputId": "fc3f9f60-d5d6-45d5-84ac-b5a3cf56d072"
      },
      "source": [
        "city = 'Phoenix'\n",
        "\n",
        "print(city[1:])  # starts from index 1 to the end\n",
        "print(city[:1])  # starts from zero to 5th index\n",
        "print(city[::2])  # starts from zero to end by 2 step\n",
        "print(city[1::2])  # starts from index 1 to the end by 2 step\n",
        "print(city[-3:])  # starts from index -3 to the end\n",
        "print(city[::-1])  # negative step starts from the end to zero"
      ],
      "execution_count": null,
      "outputs": [
        {
          "output_type": "stream",
          "text": [
            "hoenix\n",
            "P\n",
            "Ponx\n",
            "hei\n",
            "nix\n",
            "xineohP\n"
          ],
          "name": "stdout"
        }
      ]
    },
    {
      "cell_type": "code",
      "metadata": {
        "id": "E-3sBF0m6vQe",
        "colab": {
          "base_uri": "https://localhost:8080/"
        },
        "outputId": "79de6128-9136-431f-b981-67b3f6316368"
      },
      "source": [
        "apples = 5                            #while dögüsü\n",
        "oranges = 10\n",
        "while apples < oranges:\n",
        "  print(\"True\")\n",
        "  apples = apples + 1\n",
        "  print(apples)\n",
        "  "
      ],
      "execution_count": null,
      "outputs": [
        {
          "output_type": "stream",
          "text": [
            "True\n",
            "6\n",
            "True\n",
            "7\n",
            "True\n",
            "8\n",
            "True\n",
            "9\n",
            "True\n",
            "10\n"
          ],
          "name": "stdout"
        }
      ]
    },
    {
      "cell_type": "code",
      "metadata": {
        "id": "LiLJKNfl6vcs",
        "colab": {
          "base_uri": "https://localhost:8080/"
        },
        "outputId": "3ca77ada-9622-4ff9-d193-0c2adc884aa4"
      },
      "source": [
        "# ödev 4\n",
        "print(\"önemli not!!!!\")\n",
        "print(\"ölüm_riski_var = True\")\n",
        "print(\"ölüm risk yok = False\")\n",
        "\n",
        "olüm_riski_yok = False\n",
        "age =int(input(\"enter your age \"))\n",
        "if age>70:\n",
        "  print(True)\n",
        "else: \n",
        "  print(False)\n",
        "print(\"please your answers yes (write yes) your answers no clik just Enter\")\n",
        "\n",
        "chronic = input(\"how many do you have illness \")\n",
        "print(bool(chronic))\n",
        "smoking = input(\"do you smoke \")\n",
        "print(bool(smoking))\n",
        "immune = input(\"are your immune system weak \")\n",
        "print(bool(chronic))\n",
        "print(bool(chronic and smoking and immune))\n",
        "\n",
        "\n"
      ],
      "execution_count": null,
      "outputs": [
        {
          "output_type": "stream",
          "text": [
            "önemli not\n",
            "ölüm_riski_var = True\n",
            "ölüm risk yok = False\n",
            "enter your age 45\n",
            "False\n",
            "please your answers yes (write yes) your answers no clik just Enter\n",
            "how many do you have illness \n",
            "False\n",
            "do you smoke \n",
            "False\n",
            "are your immune system weak \n",
            "False\n",
            "False\n"
          ],
          "name": "stdout"
        }
      ]
    },
    {
      "cell_type": "code",
      "metadata": {
        "id": "rJEOoN506vm7",
        "colab": {
          "base_uri": "https://localhost:8080/"
        },
        "outputId": "495bc7c8-b180-400b-b687-b33fe45dbd83"
      },
      "source": [
        "\n",
        "chronic = input(\"how many do you have ch. ill \")\n",
        "print(bool(chronic))\n",
        "\n",
        "\n",
        "\n",
        "\n"
      ],
      "execution_count": null,
      "outputs": [
        {
          "output_type": "stream",
          "text": [
            "how many do you have ch. ill 1\n",
            "True\n"
          ],
          "name": "stdout"
        }
      ]
    },
    {
      "cell_type": "code",
      "metadata": {
        "id": "j787KeIQqyHD"
      },
      "source": [
        "print(\"Consider the following questions in terms of True/False regarding anyone\")\n",
        "\n",
        "age = Are you a cigarette addict older than 75 years old? Variable → age\n",
        "\n",
        "Do you have a severe chronic disease? Variable → chronic\n",
        "\n",
        "Is your immune system too weak? Variable → immune"
      ],
      "execution_count": null,
      "outputs": []
    },
    {
      "cell_type": "code",
      "metadata": {
        "id": "ethN-WIjqyEB"
      },
      "source": [
        "age =  # can be assigned only True/False\n",
        "chronic =  # can be assigned only True/False\n",
        "immune =  # can be assigned only True/False\n",
        "risk = ? (True or False)"
      ],
      "execution_count": null,
      "outputs": []
    },
    {
      "cell_type": "code",
      "metadata": {
        "id": "2aDJ1e1uqyBG",
        "colab": {
          "base_uri": "https://localhost:8080/"
        },
        "outputId": "57c5b450-df8c-4199-a330-0eae31ad61ad"
      },
      "source": [
        "pi = 3.1415\n",
        "r = float(input(\"lütfen daire yarı çapı giriniz \"))\n",
        "cevre = float(2*pi*r)\n",
        "alan = float(pi*(r*r))\n",
        "print('cevresi =', float(cevre), '\\nalanı =', float(alan))\n"
      ],
      "execution_count": null,
      "outputs": [
        {
          "output_type": "stream",
          "text": [
            "lütfen daire yarı çapı giriniz 5\n",
            "cevresi = 31.415000000000003 \n",
            "alanı = 78.53750000000001\n"
          ],
          "name": "stdout"
        }
      ]
    },
    {
      "cell_type": "code",
      "metadata": {
        "id": "AKsiOGD6qx96",
        "colab": {
          "base_uri": "https://localhost:8080/"
        },
        "outputId": "be07ffeb-7462-4413-dafa-078165bfe253"
      },
      "source": [
        "a = 200 / 700     #*********************************************************    digits\n",
        "print(\"{r:1.3}\".format(r = a))"
      ],
      "execution_count": null,
      "outputs": [
        {
          "output_type": "stream",
          "text": [
            "0.286\n"
          ],
          "name": "stdout"
        }
      ]
    },
    {
      "cell_type": "code",
      "metadata": {
        "id": "FxGoPTCLqx6d",
        "colab": {
          "base_uri": "https://localhost:8080/"
        },
        "outputId": "bad5e707-42c2-40ed-c424-973a9be01dcd"
      },
      "source": [
        "a = 200 / 700     #*********************************************************\n",
        "print(\"{r:1.2}\".format(r = a))"
      ],
      "execution_count": null,
      "outputs": [
        {
          "output_type": "stream",
          "text": [
            "0.29\n"
          ],
          "name": "stdout"
        }
      ]
    },
    {
      "cell_type": "code",
      "metadata": {
        "id": "rlWzaj9hqx1E",
        "colab": {
          "base_uri": "https://localhost:8080/"
        },
        "outputId": "22c0acf6-4d4a-4bd1-b508-8b9af0061393"
      },
      "source": [
        "name = \"enes\"\n",
        "surname = \"kaya\"\n",
        "age = \"7\"\n",
        "#tanım = (\"my name is \",  name,  \" \",  surname,  \" \",  \"I am \",  age,  \" years old.\" )\n",
        "print('my name is {0} {1} I am {2} years old.'.format(name, surname, age))"
      ],
      "execution_count": null,
      "outputs": [
        {
          "output_type": "stream",
          "text": [
            "my name is enes kaya I am 7 years old.\n"
          ],
          "name": "stdout"
        }
      ]
    },
    {
      "cell_type": "code",
      "metadata": {
        "id": "oLEGkdTzqxmM",
        "colab": {
          "base_uri": "https://localhost:8080/"
        },
        "outputId": "d0dac3df-a60c-4a19-e301-f3f0ee53a81c"
      },
      "source": [
        "website = \"www.clarusway.com\"\n",
        "course = \"python programlama dili\"\n",
        "print(len(course))\n",
        "print(website[0:3])\n",
        "print(website[-3:])\n",
        "print(course[:3])  #baştan 3 karekteri al\n",
        "print(course[-3:]) # sondan 3 karekteri al\n",
        "print(course[::-1])  # sondan başa tersten karekterleri al\n",
        "print(\"abc \"*3)   # bir ifadeyi yan yana istediğin kadar yazdır...."
      ],
      "execution_count": null,
      "outputs": [
        {
          "output_type": "stream",
          "text": [
            "23\n",
            "www\n",
            "com\n",
            "pyt\n",
            "ili\n",
            "ilid amalmargorp nohtyp\n",
            "abc abc abc \n"
          ],
          "name": "stdout"
        }
      ]
    },
    {
      "cell_type": "code",
      "metadata": {
        "colab": {
          "base_uri": "https://localhost:8080/"
        },
        "id": "trISQ6xXHMi4",
        "outputId": "55c0b9a8-9f56-4df1-8884-3b01aa19201c"
      },
      "source": [
        "website = \"www.clarusway.com\"\n",
        "course = \"python programlama dili\"\n",
        "message = \" hello world \"\n",
        "#message = message.strip()\n",
        "#print(message)\n",
        "message = course.strip()\n",
        "print(message)\n",
        "#print(course.upper())\n",
        "#result = website.startswith(\"w\") \n",
        "#print(result)\n",
        "result = website.endswith(\"w\") \n",
        "print(result)\n",
        "#print(website.find(\"com\"))\n",
        "#result = course.count('a')\n",
        "#print(result)\n"
      ],
      "execution_count": null,
      "outputs": [
        {
          "output_type": "stream",
          "text": [
            "python programlama dili\n",
            "False\n"
          ],
          "name": "stdout"
        }
      ]
    },
    {
      "cell_type": "code",
      "metadata": {
        "id": "6osN6wLtHMqv",
        "colab": {
          "base_uri": "https://localhost:8080/"
        },
        "outputId": "23c83b4b-75fa-4555-f0c1-18c2cc0a9880"
      },
      "source": [
        "print(\"orange\"[-2:-5:-1])"
      ],
      "execution_count": null,
      "outputs": [
        {
          "output_type": "stream",
          "text": [
            "gna\n"
          ],
          "name": "stdout"
        }
      ]
    },
    {
      "cell_type": "code",
      "metadata": {
        "id": "u94241V1HMt5",
        "colab": {
          "base_uri": "https://localhost:8080/"
        },
        "outputId": "7414062b-ee30-4ed0-fdcd-71b08e746a60"
      },
      "source": [
        "print(\"orange\"[4:1:-1])"
      ],
      "execution_count": null,
      "outputs": [
        {
          "output_type": "stream",
          "text": [
            "gna\n"
          ],
          "name": "stdout"
        }
      ]
    },
    {
      "cell_type": "code",
      "metadata": {
        "id": "5hT4WZ4-HMxT",
        "colab": {
          "base_uri": "https://localhost:8080/"
        },
        "outputId": "7919e44a-3717-4bba-f382-fd493dbfa02a"
      },
      "source": [
        "print(\"orange\"[4:1:-2])"
      ],
      "execution_count": null,
      "outputs": [
        {
          "output_type": "stream",
          "text": [
            "ga\n"
          ],
          "name": "stdout"
        }
      ]
    },
    {
      "cell_type": "code",
      "metadata": {
        "id": "2a7cE0AgHM3j",
        "colab": {
          "base_uri": "https://localhost:8080/"
        },
        "outputId": "97554672-ac44-4faa-8ec9-66786d627791"
      },
      "source": [
        "animal = \"hippopotamus\"\n",
        "print(animal[1:])\n",
        "print(animal[3:])\n",
        "print(animal[:1])\n",
        "print(animal[:3])"
      ],
      "execution_count": null,
      "outputs": [
        {
          "output_type": "stream",
          "text": [
            "ippopotamus\n",
            "popotamus\n",
            "h\n",
            "hip\n"
          ],
          "name": "stdout"
        }
      ]
    },
    {
      "cell_type": "code",
      "metadata": {
        "id": "QHqsqFbQHM6N",
        "colab": {
          "base_uri": "https://localhost:8080/"
        },
        "outputId": "8951dd59-8254-48ec-8e2e-e2d6cd7a2e96"
      },
      "source": [
        "print(animal[4:1:-1])\n",
        "print(animal[1:4])"
      ],
      "execution_count": null,
      "outputs": [
        {
          "output_type": "stream",
          "text": [
            "opp\n",
            "ipp\n"
          ],
          "name": "stdout"
        }
      ]
    },
    {
      "cell_type": "code",
      "metadata": {
        "id": "bLgW5wDYHM95",
        "colab": {
          "base_uri": "https://localhost:8080/"
        },
        "outputId": "4e9d710d-bc09-4225-d0b0-a65be07ac6e2"
      },
      "source": [
        "print(len(animal))"
      ],
      "execution_count": null,
      "outputs": [
        {
          "output_type": "stream",
          "text": [
            "12\n"
          ],
          "name": "stdout"
        }
      ]
    },
    {
      "cell_type": "code",
      "metadata": {
        "id": "pZd02QTbHNAh",
        "colab": {
          "base_uri": "https://localhost:8080/"
        },
        "outputId": "3b1808e4-1cf4-4cae-bb7d-636df44fcce3"
      },
      "source": [
        "print(\"upper\" + \"upper\" + \"upper\")\n",
        "print(\"upper\",\"upper\",\"upper\")"
      ],
      "execution_count": null,
      "outputs": [
        {
          "output_type": "stream",
          "text": [
            "upperupperupper\n",
            "upper upper upper\n"
          ],
          "name": "stdout"
        }
      ]
    },
    {
      "cell_type": "code",
      "metadata": {
        "id": "Nf-s5JD7HNDV",
        "colab": {
          "base_uri": "https://localhost:8080/"
        },
        "outputId": "5692d64e-aa0b-4c3e-9a16-c26d8b0d43f5"
      },
      "source": [
        "print(*\"clarusway\")"
      ],
      "execution_count": null,
      "outputs": [
        {
          "output_type": "stream",
          "text": [
            "c l a r u s w a y\n"
          ],
          "name": "stdout"
        }
      ]
    },
    {
      "cell_type": "code",
      "metadata": {
        "colab": {
          "base_uri": "https://localhost:8080/"
        },
        "id": "1odZkfDaL1wu",
        "outputId": "12d92b84-c67e-469a-f9dd-d8e52d7f77b2"
      },
      "source": [
        "print(*\"I am angry...\")"
      ],
      "execution_count": null,
      "outputs": [
        {
          "output_type": "stream",
          "text": [
            "I   a m   a n g r y . . .\n"
          ],
          "name": "stdout"
        }
      ]
    },
    {
      "cell_type": "code",
      "metadata": {
        "colab": {
          "base_uri": "https://localhost:8080/"
        },
        "id": "FlvGT144L17Q",
        "outputId": "061a7d6b-b1e2-4428-c1dd-296c2e163c09"
      },
      "source": [
        "print(*\"1453\")"
      ],
      "execution_count": null,
      "outputs": [
        {
          "output_type": "stream",
          "text": [
            "1 4 5 3\n"
          ],
          "name": "stdout"
        }
      ]
    },
    {
      "cell_type": "code",
      "metadata": {
        "colab": {
          "base_uri": "https://localhost:8080/"
        },
        "id": "-EhorB5mL1_H",
        "outputId": "919b4392-a736-425a-e121-caaeb18ddd13"
      },
      "source": [
        "x += \"a\"\n",
        "x = x + \"h\"\n",
        "print(x)\n",
        "x = x+\"me\"\n",
        "print(x)\n"
      ],
      "execution_count": null,
      "outputs": [
        {
          "output_type": "stream",
          "text": [
            "ahmeah\n",
            "ahmeahme\n"
          ],
          "name": "stdout"
        }
      ]
    },
    {
      "cell_type": "code",
      "metadata": {
        "colab": {
          "base_uri": "https://localhost:8080/"
        },
        "id": "hnkfkRbzL2Co",
        "outputId": "6ea953cc-0f75-41e0-8687-4bdc197a9b30"
      },
      "source": [
        "x += \"a\"\n",
        "print(x)"
      ],
      "execution_count": null,
      "outputs": [
        {
          "output_type": "stream",
          "text": [
            "aa\n"
          ],
          "name": "stdout"
        }
      ]
    },
    {
      "cell_type": "code",
      "metadata": {
        "colab": {
          "base_uri": "https://localhost:8080/"
        },
        "id": "yC4jtzNVL2GU",
        "outputId": "ae794e4a-857e-4849-f091-58ee5d8bc6a3"
      },
      "source": [
        "a = \"deneme\"    #**********************??????????????????\n",
        "b = \"yanılma\"\n",
        "output = f\"biz {a} ve {b} yöntemi ile öğreniriz\"\n",
        "print(output)"
      ],
      "execution_count": null,
      "outputs": [
        {
          "output_type": "stream",
          "text": [
            "biz deneme ve yanılma yöntemi ile öğreniriz\n"
          ],
          "name": "stdout"
        }
      ]
    },
    {
      "cell_type": "code",
      "metadata": {
        "colab": {
          "base_uri": "https://localhost:8080/"
        },
        "id": "0k32CGgjL2Jp",
        "outputId": "739df7d3-c069-48bc-bf05-9a1b0af3ba6b"
      },
      "source": [
        "a = \"deneme\"\n",
        "b = \"yanılma\"\n",
        "print(\"biz {0} ve {1} yöntemi ile öğreniriz.\".format(a,b))"
      ],
      "execution_count": null,
      "outputs": [
        {
          "output_type": "stream",
          "text": [
            "biz deneme ve yanılma yöntemi ile öğreniriz.\n"
          ],
          "name": "stdout"
        }
      ]
    },
    {
      "cell_type": "code",
      "metadata": {
        "id": "ygVYvkseL2Mp",
        "colab": {
          "base_uri": "https://localhost:8080/"
        },
        "outputId": "2d3af932-203a-4485-cd98-87c750fad27c"
      },
      "source": [
        "website = \"www.clarusway.com\"\n",
        "course = \"python programlama dili\"\n",
        "a = website.rstrip('moc')\n",
        "print(a)"
      ],
      "execution_count": null,
      "outputs": [
        {
          "output_type": "stream",
          "text": [
            "www.clarusway.\n"
          ],
          "name": "stdout"
        }
      ]
    },
    {
      "cell_type": "code",
      "metadata": {
        "id": "w7unlunvL2P_",
        "colab": {
          "base_uri": "https://localhost:8080/"
        },
        "outputId": "9eb5e390-0529-461a-f7bd-7e98ca389d0a"
      },
      "source": [
        "website = \"www.clarusway.com\"\n",
        "course = \"python programlama dili\"\n",
        "a = website.lstrip('w''.')\n",
        "print(a)"
      ],
      "execution_count": null,
      "outputs": [
        {
          "output_type": "stream",
          "text": [
            "clarusway.com\n"
          ],
          "name": "stdout"
        }
      ]
    },
    {
      "cell_type": "code",
      "metadata": {
        "colab": {
          "base_uri": "https://localhost:8080/"
        },
        "id": "m2kpya-oBIX6",
        "outputId": "ebb0387b-ecd3-4895-c601-57c24606d57f"
      },
      "source": [
        "website = \"www.clarusway.com\"\n",
        "course = \"python programlama dili\"\n",
        "a = website.split()\n",
        "print(a)\n",
        "print(course.count('a'))\n",
        "print(course.count('p'))\n",
        "print(course.count('a',0,15))\n",
        "print(course.startswith('a'))\n",
        "print(course.endswith('i'))\n",
        "print(course.index('python'))\n",
        "b = course.isalpha()\n",
        "print(b)"
      ],
      "execution_count": null,
      "outputs": [
        {
          "output_type": "stream",
          "text": [
            "['www.clarusway.com']\n",
            "3\n",
            "2\n",
            "1\n",
            "False\n",
            "True\n",
            "0\n",
            "False\n"
          ],
          "name": "stdout"
        }
      ]
    },
    {
      "cell_type": "code",
      "metadata": {
        "id": "Tke6c22ZBIaq",
        "colab": {
          "base_uri": "https://localhost:8080/"
        },
        "outputId": "9734bc63-2438-4432-8a58-fbd11b796145"
      },
      "source": [
        "b = course.isalpha()\n",
        "print(b)"
      ],
      "execution_count": null,
      "outputs": [
        {
          "output_type": "stream",
          "text": [
            "False\n"
          ],
          "name": "stdout"
        }
      ]
    },
    {
      "cell_type": "code",
      "metadata": {
        "id": "3n4TySGiBIdy",
        "colab": {
          "base_uri": "https://localhost:8080/"
        },
        "outputId": "1a95fe06-b8c4-4e9f-e1df-0b1422e38423"
      },
      "source": [
        "c = \"helloworld\"\n",
        "result = c.isalpha()\n",
        "print(result)"
      ],
      "execution_count": null,
      "outputs": [
        {
          "output_type": "stream",
          "text": [
            "True\n"
          ],
          "name": "stdout"
        }
      ]
    },
    {
      "cell_type": "code",
      "metadata": {
        "id": "bd6fwlykBIge",
        "colab": {
          "base_uri": "https://localhost:8080/"
        },
        "outputId": "52dd74da-bd11-427c-8812-cc64c8bfbc1d"
      },
      "source": [
        "d = \"12724344\"\n",
        "result = d.isdigit()\n",
        "print(result)"
      ],
      "execution_count": null,
      "outputs": [
        {
          "output_type": "stream",
          "text": [
            "True\n"
          ],
          "name": "stdout"
        }
      ]
    },
    {
      "cell_type": "code",
      "metadata": {
        "id": "bDXZF1bGBIjR",
        "colab": {
          "base_uri": "https://localhost:8080/"
        },
        "outputId": "2331799d-7a5d-40b8-851e-97bccab212f0"
      },
      "source": [
        "c = \"helloworld\"\n",
        "result = c.center(55,'*')\n",
        "print(result)"
      ],
      "execution_count": null,
      "outputs": [
        {
          "output_type": "stream",
          "text": [
            "***********************helloworld**********************\n"
          ],
          "name": "stdout"
        }
      ]
    },
    {
      "cell_type": "code",
      "metadata": {
        "id": "FzLwv-cEBImR",
        "colab": {
          "base_uri": "https://localhost:8080/"
        },
        "outputId": "41783e26-5737-44d1-e371-fea66df45d51"
      },
      "source": [
        "c = \"helloworld\"\n",
        "result = c.rjust(55,'*')\n",
        "print(result)"
      ],
      "execution_count": null,
      "outputs": [
        {
          "output_type": "stream",
          "text": [
            "*********************************************helloworld\n"
          ],
          "name": "stdout"
        }
      ]
    },
    {
      "cell_type": "code",
      "metadata": {
        "id": "JCLAGGswBIpg",
        "colab": {
          "base_uri": "https://localhost:8080/"
        },
        "outputId": "df9165a2-4740-432f-dd8a-5ebf27e21e67"
      },
      "source": [
        "c = \"hello world\"\n",
        "result = c.ljust(55,'*')\n",
        "print(result)"
      ],
      "execution_count": null,
      "outputs": [
        {
          "output_type": "stream",
          "text": [
            "hello world********************************************\n"
          ],
          "name": "stdout"
        }
      ]
    },
    {
      "cell_type": "code",
      "metadata": {
        "id": "jvJOsm-8BIsb",
        "colab": {
          "base_uri": "https://localhost:8080/"
        },
        "outputId": "829e3e42-4408-4be8-9644-4e6235cf0bb4"
      },
      "source": [
        "c = \"helloworld\"                   # elemanı değiştirme\n",
        "result = c.replace('','*')\n",
        "print(result)"
      ],
      "execution_count": null,
      "outputs": [
        {
          "output_type": "stream",
          "text": [
            "*h*e*l*l*o*w*o*r*l*d*\n"
          ],
          "name": "stdout"
        }
      ]
    },
    {
      "cell_type": "code",
      "metadata": {
        "colab": {
          "base_uri": "https://localhost:8080/"
        },
        "id": "9wc7A5RE_8MV",
        "outputId": "40ee8343-b35b-46fa-e1c0-248980aa02c3"
      },
      "source": [
        "c = \"hello world\"\n",
        "result = c.replace(' ','*')\n",
        "print(result)"
      ],
      "execution_count": null,
      "outputs": [
        {
          "output_type": "stream",
          "text": [
            "hello*world\n"
          ],
          "name": "stdout"
        }
      ]
    },
    {
      "cell_type": "code",
      "metadata": {
        "colab": {
          "base_uri": "https://localhost:8080/"
        },
        "id": "JaSQvtJW_8T-",
        "outputId": "651367d0-2658-4dc3-d4c8-ced2bfaaafb0"
      },
      "source": [
        "c = \"hello world\"\n",
        "result = c.replace('','*',5)\n",
        "print(result)"
      ],
      "execution_count": null,
      "outputs": [
        {
          "output_type": "stream",
          "text": [
            "*h*e*l*l*o world\n"
          ],
          "name": "stdout"
        }
      ]
    },
    {
      "cell_type": "code",
      "metadata": {
        "colab": {
          "base_uri": "https://localhost:8080/"
        },
        "id": "MduJUQCp_8XJ",
        "outputId": "fa5dde68-c42f-4287-84d5-c40fe09473a9"
      },
      "source": [
        "c = \"hello world\"\n",
        "result = c.replace('world','there')\n",
        "print(result)"
      ],
      "execution_count": null,
      "outputs": [
        {
          "output_type": "stream",
          "text": [
            "hello there\n"
          ],
          "name": "stdout"
        }
      ]
    },
    {
      "cell_type": "code",
      "metadata": {
        "colab": {
          "base_uri": "https://localhost:8080/"
        },
        "id": "GGKEQHB-_8aX",
        "outputId": "f1a0292e-8258-46dc-ed94-512d77ea433e"
      },
      "source": [
        "c = \"hello world\"\n",
        "result = c.split()\n",
        "print(result)"
      ],
      "execution_count": null,
      "outputs": [
        {
          "output_type": "stream",
          "text": [
            "['hello', 'world']\n"
          ],
          "name": "stdout"
        }
      ]
    },
    {
      "cell_type": "code",
      "metadata": {
        "colab": {
          "base_uri": "https://localhost:8080/"
        },
        "id": "NMtOdScW_8ds",
        "outputId": "120553bc-fb65-42df-da3f-a2d000a4e8b7"
      },
      "source": [
        "my_list = \"I want to be a good software developer\"\n",
        "result = my_list.split()\n",
        "print(result)\n",
        "print(result[2])"
      ],
      "execution_count": null,
      "outputs": [
        {
          "output_type": "stream",
          "text": [
            "['I', 'want', 'to', 'be', 'a', 'good', 'software', 'developer']\n",
            "to\n"
          ],
          "name": "stdout"
        }
      ]
    },
    {
      "cell_type": "code",
      "metadata": {
        "colab": {
          "base_uri": "https://localhost:8080/"
        },
        "id": "pDTaCeVo_8kn",
        "outputId": "b4bd8b20-b833-4b8c-a533-df6637064c8d"
      },
      "source": [
        "my_list = \"I want to be a good software developer\"\n",
        "result = my_list\n",
        "print(result)\n",
        "print(result[2])"
      ],
      "execution_count": null,
      "outputs": [
        {
          "output_type": "stream",
          "text": [
            "I want to be a good software developer\n",
            "w\n"
          ],
          "name": "stdout"
        }
      ]
    },
    {
      "cell_type": "code",
      "metadata": {
        "colab": {
          "base_uri": "https://localhost:8080/"
        },
        "id": "UwoYe9U6_8p_",
        "outputId": "8ab85ad3-a186-492a-8bc3-da168437dcc5"
      },
      "source": [
        "list1 = ['one', 'two', 'three']\n",
        "list2 = ['four', 'five', 'six']\n",
        "result = list1 + list2\n",
        "print(result)"
      ],
      "execution_count": null,
      "outputs": [
        {
          "output_type": "stream",
          "text": [
            "['one', 'two', 'three', 'four', 'five', 'six']\n"
          ],
          "name": "stdout"
        }
      ]
    },
    {
      "cell_type": "code",
      "metadata": {
        "colab": {
          "base_uri": "https://localhost:8080/"
        },
        "id": "jk7XfuaUr9WW",
        "outputId": "7c0f2b1c-fb02-49e2-be6c-7a7676c9dad7"
      },
      "source": [
        "list1 = ['one', 'two', 'three']\n",
        "list2 = ['four', 'five', 'six']\n",
        "result = list1 + list2\n",
        "print(len(result))"
      ],
      "execution_count": null,
      "outputs": [
        {
          "output_type": "stream",
          "text": [
            "6\n"
          ],
          "name": "stdout"
        }
      ]
    },
    {
      "cell_type": "code",
      "metadata": {
        "colab": {
          "base_uri": "https://localhost:8080/"
        },
        "id": "W41TDiRHr9ST",
        "outputId": "dc4dfcc5-422e-4f9a-d58f-b36d9fa0ae20"
      },
      "source": [
        "list1 = ['one', 'two', 'three']\n",
        "list2 = ['four', 'five', 'six']\n",
        "result = list1 + list2\n",
        "print(result[3])"
      ],
      "execution_count": null,
      "outputs": [
        {
          "output_type": "stream",
          "text": [
            "four\n"
          ],
          "name": "stdout"
        }
      ]
    },
    {
      "cell_type": "code",
      "metadata": {
        "colab": {
          "base_uri": "https://localhost:8080/",
          "height": 300
        },
        "id": "pWF2pOFor9On",
        "outputId": "ee90fe1e-e582-45c7-8914-027b1e243c95"
      },
      "source": [
        "list1 = ['bmw', 'mercees', 'opel', 'mazda']\n",
        "print(list1)\n",
        "print(len(list1))\n",
        "print(list1[0])\n",
        "print(list1[3])\n",
        "#deg = f\"list {} {}\"\n",
        "a = list1.replace('opel','toyota')        # replace liste elemanı değiştiremez\n",
        "print(a)\n",
        "\n"
      ],
      "execution_count": null,
      "outputs": [
        {
          "output_type": "stream",
          "text": [
            "['bmw', 'mercees', 'opel', 'mazda']\n",
            "4\n",
            "bmw\n",
            "mazda\n"
          ],
          "name": "stdout"
        },
        {
          "output_type": "error",
          "ename": "AttributeError",
          "evalue": "ignored",
          "traceback": [
            "\u001b[0;31m---------------------------------------------------------------------------\u001b[0m",
            "\u001b[0;31mAttributeError\u001b[0m                            Traceback (most recent call last)",
            "\u001b[0;32m<ipython-input-30-2fb4ef6ea8d5>\u001b[0m in \u001b[0;36m<module>\u001b[0;34m()\u001b[0m\n\u001b[1;32m      5\u001b[0m \u001b[0mprint\u001b[0m\u001b[0;34m(\u001b[0m\u001b[0mlist1\u001b[0m\u001b[0;34m[\u001b[0m\u001b[0;36m3\u001b[0m\u001b[0;34m]\u001b[0m\u001b[0;34m)\u001b[0m\u001b[0;34m\u001b[0m\u001b[0;34m\u001b[0m\u001b[0m\n\u001b[1;32m      6\u001b[0m \u001b[0;31m#deg = f\"list {} {}\"\u001b[0m\u001b[0;34m\u001b[0m\u001b[0;34m\u001b[0m\u001b[0;34m\u001b[0m\u001b[0m\n\u001b[0;32m----> 7\u001b[0;31m \u001b[0ma\u001b[0m \u001b[0;34m=\u001b[0m \u001b[0mlist1\u001b[0m\u001b[0;34m.\u001b[0m\u001b[0mreplace\u001b[0m\u001b[0;34m(\u001b[0m\u001b[0;34m'opel'\u001b[0m\u001b[0;34m,\u001b[0m\u001b[0;34m'toyota'\u001b[0m\u001b[0;34m)\u001b[0m\u001b[0;34m\u001b[0m\u001b[0;34m\u001b[0m\u001b[0m\n\u001b[0m\u001b[1;32m      8\u001b[0m \u001b[0mprint\u001b[0m\u001b[0;34m(\u001b[0m\u001b[0ma\u001b[0m\u001b[0;34m)\u001b[0m\u001b[0;34m\u001b[0m\u001b[0;34m\u001b[0m\u001b[0m\n\u001b[1;32m      9\u001b[0m \u001b[0;34m\u001b[0m\u001b[0m\n",
            "\u001b[0;31mAttributeError\u001b[0m: 'list' object has no attribute 'replace'"
          ]
        }
      ]
    },
    {
      "cell_type": "code",
      "metadata": {
        "colab": {
          "base_uri": "https://localhost:8080/"
        },
        "id": "HGWOKbTQr9Ld",
        "outputId": "4ed0f7d8-56a8-4ab2-ba28-f55bc1a03561"
      },
      "source": [
        "list1 = 'bmw', 'mercees', 'opel', 'mazda'.split()\n",
        "print(list1)\n",
        "a = f\"{2} {3} {0} {1}\"\n",
        "print(a)"
      ],
      "execution_count": null,
      "outputs": [
        {
          "output_type": "stream",
          "text": [
            "('bmw', 'mercees', 'opel', ['mazda'])\n",
            "2 3 0 1\n"
          ],
          "name": "stdout"
        }
      ]
    },
    {
      "cell_type": "code",
      "metadata": {
        "colab": {
          "base_uri": "https://localhost:8080/"
        },
        "id": "-rHADSAAr9HD",
        "outputId": "471acb58-95a2-4800-8e6a-efc8da5eff79"
      },
      "source": [
        "a = \"ali veli deli\"\n",
        "res = a.replace(\"ali\",\"weki\")\n",
        "print(res)"
      ],
      "execution_count": null,
      "outputs": [
        {
          "output_type": "stream",
          "text": [
            "weki veli deli\n"
          ],
          "name": "stdout"
        }
      ]
    },
    {
      "cell_type": "code",
      "metadata": {
        "id": "EfxMJl87r9Ea",
        "colab": {
          "base_uri": "https://localhost:8080/"
        },
        "outputId": "15c6ab2b-a609-49b9-a934-ebc32d319b21"
      },
      "source": [
        "arabalar = ['audi', 'bmw', 'mazda', 'opel']\n",
        "result = len(arabalar)\n",
        "print(result)"
      ],
      "execution_count": null,
      "outputs": [
        {
          "output_type": "stream",
          "text": [
            "4\n"
          ],
          "name": "stdout"
        }
      ]
    },
    {
      "cell_type": "code",
      "metadata": {
        "id": "z9XV4NZbOjNp",
        "colab": {
          "base_uri": "https://localhost:8080/"
        },
        "outputId": "bcf3f65d-df13-4f18-9b97-8402cb3d71b4"
      },
      "source": [
        "coins = 2000\n",
        "total = 4,152.32\n",
        "rice = 11\n",
        "day = 5\n",
        "result = f\"If we had bought {coins} crypto coins at the weekend, we would have had {total}$ with a profit share of {rice}% after {day} days.\"\n",
        "print(result)"
      ],
      "execution_count": null,
      "outputs": [
        {
          "output_type": "stream",
          "text": [
            "If we had bought 2000 crypto coins at the weekend, we would have had (4, 152.32)$ with a profit share of 11% after 5 days.\n"
          ],
          "name": "stdout"
        }
      ]
    },
    {
      "cell_type": "code",
      "metadata": {
        "id": "Z_roJcn8OjT5",
        "colab": {
          "base_uri": "https://localhost:8080/"
        },
        "outputId": "4cd27e1c-6004-4f0a-e63b-9388034ac5a3"
      },
      "source": [
        "s = f\"{2**3}\"\n",
        "print(s)"
      ],
      "execution_count": null,
      "outputs": [
        {
          "output_type": "stream",
          "text": [
            "8\n"
          ],
          "name": "stdout"
        }
      ]
    },
    {
      "cell_type": "code",
      "metadata": {
        "id": "HVS_gHu-OjXC",
        "colab": {
          "base_uri": "https://localhost:8080/"
        },
        "outputId": "1efa4370-cf41-448b-ea87-e609138dcd70"
      },
      "source": [
        "name = \"MERYEM\"\n",
        "result = f\"my name is {name.capitalize()}\"\n",
        "print(result)"
      ],
      "execution_count": null,
      "outputs": [
        {
          "output_type": "stream",
          "text": [
            "my name is Meryem\n"
          ],
          "name": "stdout"
        }
      ]
    },
    {
      "cell_type": "code",
      "metadata": {
        "id": "k_E2Hy98OjaH",
        "colab": {
          "base_uri": "https://localhost:8080/"
        },
        "outputId": "fb227bfc-2f46-47be-9a27-315072d9965c"
      },
      "source": [
        "name = \"Susan\"\n",
        "age = \"young\"\n",
        "gender = \"lady\"\n",
        "school = \"CLRWY IT university\"\n",
        "print(f\"{name} is a {age} {gender} \\\n",
        "and she is a student \\\n",
        "at the {school}.\")"
      ],
      "execution_count": null,
      "outputs": [
        {
          "output_type": "stream",
          "text": [
            "Susan is a young lady and she is a student at the CLRWY IT university.\n"
          ],
          "name": "stdout"
        }
      ]
    },
    {
      "cell_type": "code",
      "metadata": {
        "id": "iGKmGm66Ojc2",
        "colab": {
          "base_uri": "https://localhost:8080/"
        },
        "outputId": "1405f66e-dddb-4447-cc13-c6621074498b"
      },
      "source": [
        "x = 5\n",
        "x = x*4+x*6\n",
        "print(x)"
      ],
      "execution_count": null,
      "outputs": [
        {
          "output_type": "stream",
          "text": [
            "50\n"
          ],
          "name": "stdout"
        }
      ]
    },
    {
      "cell_type": "code",
      "metadata": {
        "id": "ERPnj4N8Ojf4",
        "colab": {
          "base_uri": "https://localhost:8080/"
        },
        "outputId": "32131998-d746-471e-af83-b060e715b034"
      },
      "source": [
        "text = \"{0} I am a {1} programmer and I {2} clarusway.\".format(\"Hello!\", \"new\", \"love\")\n",
        "print(text)"
      ],
      "execution_count": null,
      "outputs": [
        {
          "output_type": "stream",
          "text": [
            "Hello! I am a new programmer and I love clarusway.\n"
          ],
          "name": "stdout"
        }
      ]
    },
    {
      "cell_type": "code",
      "metadata": {
        "colab": {
          "base_uri": "https://localhost:8080/"
        },
        "id": "6vMikB2ao7LR",
        "outputId": "7c79c543-1848-410e-e8d4-93e42ff883bf"
      },
      "source": [
        "city = \"SARAJEVO\"\n",
        "result = f\"I live in {city.capitalize()}\"\n",
        "print(result)"
      ],
      "execution_count": null,
      "outputs": [
        {
          "output_type": "stream",
          "text": [
            "I live in Sarajevo\n"
          ],
          "name": "stdout"
        }
      ]
    },
    {
      "cell_type": "code",
      "metadata": {
        "colab": {
          "base_uri": "https://localhost:8080/"
        },
        "id": "Qg7vX3jco7PR",
        "outputId": "2a7d1d46-48a8-4bba-e7c5-3ece980af383"
      },
      "source": [
        "word = 'clarusway'\n",
        "\n",
        "front = \"cla\"\n",
        "back = \"usway\"\n",
        "print(front + back)"
      ],
      "execution_count": null,
      "outputs": [
        {
          "output_type": "stream",
          "text": [
            "clausway\n"
          ],
          "name": "stdout"
        }
      ]
    },
    {
      "cell_type": "code",
      "metadata": {
        "id": "BtIF7Ufdo7Sm",
        "colab": {
          "base_uri": "https://localhost:8080/"
        },
        "outputId": "bf53ea96-ec31-4562-ab24-d4c682e7de40"
      },
      "source": [
        "a = \"deneme\"\n",
        "print(a[2:5])"
      ],
      "execution_count": null,
      "outputs": [
        {
          "output_type": "stream",
          "text": [
            "nem\n"
          ],
          "name": "stdout"
        }
      ]
    },
    {
      "cell_type": "code",
      "metadata": {
        "id": "WsKPKrOio7Zo",
        "colab": {
          "base_uri": "https://localhost:8080/"
        },
        "outputId": "ce4f6b20-b51e-4d21-f0eb-8ddcf80d2074"
      },
      "source": [
        "a = \"ask bir içim sudur\"\n",
        "print(a.replace(\"sudur\", \"şaraptır\"))"
      ],
      "execution_count": null,
      "outputs": [
        {
          "output_type": "stream",
          "text": [
            "ask bir içim şaraptır\n"
          ],
          "name": "stdout"
        }
      ]
    },
    {
      "cell_type": "code",
      "metadata": {
        "colab": {
          "base_uri": "https://localhost:8080/"
        },
        "id": "obOdzdFw_Ooq",
        "outputId": "060fd8a1-24b1-4203-a445-ce66e125c263"
      },
      "source": [
        "sentence = \"ask BİR içim sudur\"\n",
        "title_sentence = sentence.title()\n",
        "print(title_sentence)"
      ],
      "execution_count": null,
      "outputs": [
        {
          "output_type": "stream",
          "text": [
            "Ask Bi̇r Içim Sudur\n"
          ],
          "name": "stdout"
        }
      ]
    },
    {
      "cell_type": "code",
      "metadata": {
        "colab": {
          "base_uri": "https://localhost:8080/"
        },
        "id": "m56EDbfh_Okc",
        "outputId": "12406a34-9430-4e0d-8f8c-0e66c1deb5ef"
      },
      "source": [
        "txt = 's0d0me and g0m0re'\n",
        "print(txt.replace(\"0\", \"o\").title())"
      ],
      "execution_count": null,
      "outputs": [
        {
          "output_type": "stream",
          "text": [
            "Sodome And Gomore\n"
          ],
          "name": "stdout"
        }
      ]
    },
    {
      "cell_type": "code",
      "metadata": {
        "colab": {
          "base_uri": "https://localhost:8080/"
        },
        "id": "IF7BMId7_Og1",
        "outputId": "57e2dedc-8a4e-48f1-960e-0071a35a1bfe"
      },
      "source": [
        "txt = 's0d0me and g0m0re'\n",
        "print(txt.replace(\"0\", \"o\",1).title())"
      ],
      "execution_count": null,
      "outputs": [
        {
          "output_type": "stream",
          "text": [
            "Sod0Me And G0M0Re\n"
          ],
          "name": "stdout"
        }
      ]
    },
    {
      "cell_type": "code",
      "metadata": {
        "colab": {
          "base_uri": "https://localhost:8080/"
        },
        "id": "FUVEFYJ1_OdP",
        "outputId": "71ce8862-ec4c-4ee9-fcab-b5278911a8bd"
      },
      "source": [
        "txt = 's0d0me and g0m0re'\n",
        "print(txt.replace(\"0\", \"o\",3).title())"
      ],
      "execution_count": null,
      "outputs": [
        {
          "output_type": "stream",
          "text": [
            "Sodome And Gom0Re\n"
          ],
          "name": "stdout"
        }
      ]
    },
    {
      "cell_type": "code",
      "metadata": {
        "colab": {
          "base_uri": "https://localhost:8080/"
        },
        "id": "Gxeck36D_OaE",
        "outputId": "7f542852-eb61-4cf1-fad5-ef3b84928bec"
      },
      "source": [
        "txt = 's0d0me and g0m0re'\n",
        "print(txt.replace(\"0\", \"o\",-1).title())"
      ],
      "execution_count": null,
      "outputs": [
        {
          "output_type": "stream",
          "text": [
            "Sodome And Gomore\n"
          ],
          "name": "stdout"
        }
      ]
    },
    {
      "cell_type": "code",
      "metadata": {
        "colab": {
          "base_uri": "https://localhost:8080/"
        },
        "id": "Z7mk_qnR_OUR",
        "outputId": "796c1c76-c8a6-4de5-d201-f5f899b3ea9b"
      },
      "source": [
        "txt = 's0d0me and g0m0res'\n",
        "print(txt.strip('s'))"
      ],
      "execution_count": null,
      "outputs": [
        {
          "output_type": "stream",
          "text": [
            "0d0me and g0m0re\n"
          ],
          "name": "stdout"
        }
      ]
    },
    {
      "cell_type": "code",
      "metadata": {
        "colab": {
          "base_uri": "https://localhost:8080/"
        },
        "id": "Dhc1jElGaaJT",
        "outputId": "0fdd0869-177a-446f-fd0e-20b0dc9da2f3"
      },
      "source": [
        "txt = 's0d0me and g0m0re'\n",
        "print(txt.strip('re'))"
      ],
      "execution_count": null,
      "outputs": [
        {
          "output_type": "stream",
          "text": [
            "s0d0me and g0m0\n"
          ],
          "name": "stdout"
        }
      ]
    },
    {
      "cell_type": "code",
      "metadata": {
        "colab": {
          "base_uri": "https://localhost:8080/"
        },
        "id": "YewquuMbThfG",
        "outputId": "43d1896e-afb2-4ef6-e800-2a22a2606305"
      },
      "source": [
        "txt = 's0d0me and g0m0re'\n",
        "print(txt.split('and'))"
      ],
      "execution_count": null,
      "outputs": [
        {
          "output_type": "stream",
          "text": [
            "['s0d0me ', ' g0m0re']\n"
          ],
          "name": "stdout"
        }
      ]
    },
    {
      "cell_type": "code",
      "metadata": {
        "colab": {
          "base_uri": "https://localhost:8080/"
        },
        "id": "ZenOzWvEThbV",
        "outputId": "eadcc4f5-f0d1-44d4-ddc6-cd3884d6336b"
      },
      "source": [
        "text = 'In God wee Trust'\n",
        "print(text.replace('e','',1).title())"
      ],
      "execution_count": null,
      "outputs": [
        {
          "output_type": "stream",
          "text": [
            "In God We Trust\n"
          ],
          "name": "stdout"
        }
      ]
    },
    {
      "cell_type": "code",
      "metadata": {
        "colab": {
          "base_uri": "https://localhost:8080/"
        },
        "id": "mHUM-1EGThX0",
        "outputId": "3c85455e-4251-48fa-9054-172e7704a686"
      },
      "source": [
        "tuple = (1,2,\"c\",5)\n",
        "print(len(tuple))"
      ],
      "execution_count": null,
      "outputs": [
        {
          "output_type": "stream",
          "text": [
            "4\n"
          ],
          "name": "stdout"
        }
      ]
    },
    {
      "cell_type": "code",
      "metadata": {
        "colab": {
          "base_uri": "https://localhost:8080/"
        },
        "id": "EC52PmtlThUI",
        "outputId": "03bf899e-7b98-4bd7-dc17-c61cd1c41b9d"
      },
      "source": [
        "sehirler = ['kocaeli', 'istanbul']\n",
        "plakalar = [41, 34]\n",
        "print(plakalar[sehirler.index('istanbul')])"
      ],
      "execution_count": null,
      "outputs": [
        {
          "output_type": "stream",
          "text": [
            "34\n"
          ],
          "name": "stdout"
        }
      ]
    },
    {
      "cell_type": "code",
      "metadata": {
        "colab": {
          "base_uri": "https://localhost:8080/"
        },
        "id": "m_-4C-7bThQQ",
        "outputId": "f5e2298b-6f7f-454f-8657-ba9661048c33"
      },
      "source": [
        "plakalar = { \"istanbul\" : 34,\"kocaeli\" : 41 }\n",
        "print(plakalar[\"istanbul\"])\n",
        "print(plakalar[\"kocaeli\"])\n",
        "plakalar[\"van\"] = 65\n",
        "print(plakalar)"
      ],
      "execution_count": null,
      "outputs": [
        {
          "output_type": "stream",
          "text": [
            "34\n",
            "41\n",
            "{'istanbul': 34, 'kocaeli': 41, 'van': 65}\n"
          ],
          "name": "stdout"
        }
      ]
    },
    {
      "cell_type": "code",
      "metadata": {
        "colab": {
          "base_uri": "https://localhost:8080/"
        },
        "id": "csq0YFcnThKT",
        "outputId": "be7ef14f-57ba-4d58-86e3-d20c1fa224a3"
      },
      "source": [
        "canavar = {\n",
        "    \"furkan\" : {\"yas\" : 5,\n",
        "                \"memleket\" : \"van\",\n",
        "                \"tel\" : 397432895739,\n",
        "                \"email\" : \"furkan@hotmail.com\"}\n",
        "}\n",
        "print(canavar[\"furkan\"][\"yas\"])\n",
        "print(canavar[\"furkan\"][\"email\"])\n",
        "a = input(\"isim giriniz: \")\n",
        "print(canavar[a])"
      ],
      "execution_count": null,
      "outputs": [
        {
          "output_type": "stream",
          "text": [
            "5\n",
            "furkan@hotmail.com\n",
            "isim giriniz: furkan\n",
            "{'yas': 5, 'memleket': 'van', 'tel': 397432895739, 'email': 'furkan@hotmail.com'}\n"
          ],
          "name": "stdout"
        }
      ]
    },
    {
      "cell_type": "code",
      "metadata": {
        "colab": {
          "base_uri": "https://localhost:8080/"
        },
        "id": "jz1QQvUDThEW",
        "outputId": "2c3f9582-42ca-45c1-93a5-aa760f50a17a"
      },
      "source": [
        "canavar = {\n",
        "    \"furkan\" : {\"yas\" : 5,\n",
        "                \"memleket\" : \"van\",\n",
        "               \"tel\" : 397432895739,\n",
        "                \"email\" : \"furkan@hotmail.com\"}\n",
        "      \n",
        "\n",
        "}\n",
        "\n",
        "a = input(\"isim giriniz: \")\n",
        "print(canavar[a])"
      ],
      "execution_count": null,
      "outputs": [
        {
          "output_type": "stream",
          "text": [
            "isim giriniz: furkan\n",
            "{'yas': 5, 'memleket': 'van', 'tel': 397432895739, 'email': 'furkan@hotmail.com'}\n"
          ],
          "name": "stdout"
        }
      ]
    },
    {
      "cell_type": "code",
      "metadata": {
        "id": "uPtDEsNATg9y",
        "colab": {
          "base_uri": "https://localhost:8080/"
        },
        "outputId": "7871aa2f-3912-4f29-c840-9b6d07edf0b0"
      },
      "source": [
        "year = int(input(\"Enter the year : \"))\n",
        "div4 = year % 4\n",
        "div100 = year % 100\n",
        "div400 = year % 400\n",
        "leap = not div4 and not div100 and not div400\n",
        "print(year, \"is a leap year : \", leap)"
      ],
      "execution_count": null,
      "outputs": [
        {
          "output_type": "stream",
          "text": [
            "Enter the year : 1999\n",
            "1999 is a leap year :  False\n"
          ],
          "name": "stdout"
        }
      ]
    },
    {
      "cell_type": "code",
      "metadata": {
        "id": "RjswNxvMTg1M",
        "colab": {
          "base_uri": "https://localhost:8080/"
        },
        "outputId": "f4b7b0a0-a664-479f-dcf0-1488e63db638"
      },
      "source": [
        "year = int(input(\"Enter the year \"))\n",
        "if year % 400==0:\n",
        "  print(year, \"is a leap year. \")\n",
        "else:\n",
        "  print(year, \"is not a leap year. \")\n"
      ],
      "execution_count": null,
      "outputs": [
        {
          "output_type": "stream",
          "text": [
            "Enter the year 1999\n",
            "1999 is not a leap year. \n"
          ],
          "name": "stdout"
        }
      ]
    },
    {
      "cell_type": "code",
      "metadata": {
        "id": "MiRQ4cF-TgXf",
        "colab": {
          "base_uri": "https://localhost:8080/"
        },
        "outputId": "5ed4fbdd-c6fb-4e42-84b7-0b2140377388"
      },
      "source": [
        "x = 5 == 5\n",
        "print(x)"
      ],
      "execution_count": null,
      "outputs": [
        {
          "output_type": "stream",
          "text": [
            "True\n"
          ],
          "name": "stdout"
        }
      ]
    },
    {
      "cell_type": "code",
      "metadata": {
        "id": "bcAi7Gze_OLY",
        "colab": {
          "base_uri": "https://localhost:8080/"
        },
        "outputId": "ee0d5348-fc50-4030-cfea-594694cec652"
      },
      "source": [
        "year = int(input(\"Enter the year : \"))\n",
        "\n",
        "div400 = year % 400\n",
        "leap = not div400 and not div400\n",
        "print(year, \"is a leap year : \", leap)"
      ],
      "execution_count": null,
      "outputs": [
        {
          "output_type": "stream",
          "text": [
            "Enter the year : 1999\n",
            "1999 is a leap year :  False\n"
          ],
          "name": "stdout"
        }
      ]
    },
    {
      "cell_type": "code",
      "metadata": {
        "colab": {
          "base_uri": "https://localhost:8080/"
        },
        "id": "OW_imZwcAS2W",
        "outputId": "612c2ce9-246c-4436-8d28-6e3f52736a44"
      },
      "source": [
        "year = int(input(\"Enter the year : \"))\n",
        "\n",
        "div400 = year // 400\n",
        "leap = not div400 and not div400\n",
        "if leap >= True:\n",
        "  print(year, \"is a leap year : \", leap)\n",
        "else:\n",
        "  print(year, \"is not a leap year : \", leap)"
      ],
      "execution_count": null,
      "outputs": [
        {
          "output_type": "stream",
          "text": [
            "Enter the year : 1999\n",
            "1999 is not a leap year :  False\n"
          ],
          "name": "stdout"
        }
      ]
    },
    {
      "cell_type": "code",
      "metadata": {
        "colab": {
          "base_uri": "https://localhost:8080/"
        },
        "id": "9RzqfOl-ASyU",
        "outputId": "e822f2db-81f7-4751-e934-883083542f4b"
      },
      "source": [
        "print(9%4)\n",
        "print(9//4)\n",
        "print(9/4)"
      ],
      "execution_count": null,
      "outputs": [
        {
          "output_type": "stream",
          "text": [
            "1\n",
            "2\n",
            "2.25\n"
          ],
          "name": "stdout"
        }
      ]
    },
    {
      "cell_type": "code",
      "metadata": {
        "colab": {
          "base_uri": "https://localhost:8080/"
        },
        "id": "5AUXjMSqASuo",
        "outputId": "57a423d7-4ae1-4f18-bb9d-fccbf6b5af98"
      },
      "source": [
        "a = (\"1\", \"2\", \"3\")\n",
        "print(type(a))\n",
        "b = a + (\"5\", \"6\")\n",
        "print(b)"
      ],
      "execution_count": null,
      "outputs": [
        {
          "output_type": "stream",
          "text": [
            "<class 'tuple'>\n",
            "('1', '2', '3', '5', '6')\n"
          ],
          "name": "stdout"
        }
      ]
    },
    {
      "cell_type": "code",
      "metadata": {
        "colab": {
          "base_uri": "https://localhost:8080/"
        },
        "id": "QvNMUG9cASfA",
        "outputId": "fcc63e10-af8e-44ce-f6d9-e263fa728559"
      },
      "source": [
        "a = [\"1\", \"2\", \"3\", \"5\", \"6\"]\n",
        "print(a + [\"0\", \"99\"])"
      ],
      "execution_count": null,
      "outputs": [
        {
          "output_type": "stream",
          "text": [
            "['1', '2', '3', '5', '6', '0', '99']\n"
          ],
          "name": "stdout"
        }
      ]
    },
    {
      "cell_type": "code",
      "metadata": {
        "colab": {
          "base_uri": "https://localhost:8080/"
        },
        "id": "9QnC9B6Q6CoP",
        "outputId": "b92f2adc-aca4-4e03-f7d1-ce5462c933eb"
      },
      "source": [
        "\n",
        "city = ['New York', 'London', 'Istanbul', 'Seoul', 'Sydney']\n",
        "city_list = []\n",
        "city_list.append(city) # we have created a nested list\n",
        "city_list.append(\"123\")\n",
        "city_list.append(\"456\")\n",
        "print(city_list)\n",
        "print(len(city_list))"
      ],
      "execution_count": null,
      "outputs": [
        {
          "output_type": "stream",
          "text": [
            "[['New York', 'London', 'Istanbul', 'Seoul', 'Sydney'], '123', '456']\n",
            "3\n"
          ],
          "name": "stdout"
        }
      ]
    },
    {
      "cell_type": "code",
      "metadata": {
        "id": "KHoD0W3z6Ckr",
        "colab": {
          "base_uri": "https://localhost:8080/"
        },
        "outputId": "d8a5a2a3-38b3-4366-bfdb-d57fe59a8621"
      },
      "source": [
        "list(\"111\")"
      ],
      "execution_count": null,
      "outputs": [
        {
          "output_type": "execute_result",
          "data": {
            "text/plain": [
              "['1', '1', '1']"
            ]
          },
          "metadata": {
            "tags": []
          },
          "execution_count": 129
        }
      ]
    },
    {
      "cell_type": "code",
      "metadata": {
        "id": "VFY4hfO06Cgq",
        "colab": {
          "base_uri": "https://localhost:8080/"
        },
        "outputId": "c6ece9ea-c177-4ab3-81fc-89749962a659"
      },
      "source": [
        "my_list = ['Joseph', 'Clarusway', 2020]\n",
        "new_list1 = list(my_list)  \n",
        "new_list2 = [my_list]  \n",
        "print(new_list1)\n",
        "print(len(new_list1)) \n",
        "print(new_list2)\n",
        "print(len(new_list2))"
      ],
      "execution_count": null,
      "outputs": [
        {
          "output_type": "stream",
          "text": [
            "['Joseph', 'Clarusway', 2020]\n",
            "3\n",
            "[['Joseph', 'Clarusway', 2020]]\n",
            "1\n"
          ],
          "name": "stdout"
        }
      ]
    },
    {
      "cell_type": "code",
      "metadata": {
        "id": "Fpab9YuS6Cdg",
        "colab": {
          "base_uri": "https://localhost:8080/"
        },
        "outputId": "299f2d7c-f92d-4e51-a55d-7c815cd09ec8"
      },
      "source": [
        "a = [\"2020's hard\"]\n",
        "print(a)"
      ],
      "execution_count": null,
      "outputs": [
        {
          "output_type": "stream",
          "text": [
            "[\"2020's hard\"]\n"
          ],
          "name": "stdout"
        }
      ]
    },
    {
      "cell_type": "code",
      "metadata": {
        "id": "tlVuerCA6CWg",
        "colab": {
          "base_uri": "https://localhost:8080/"
        },
        "outputId": "aa4d561f-f0d1-440d-c51a-b2af1872c6b2"
      },
      "source": [
        "a = list(\"2020's hard\")\n",
        "print(a)"
      ],
      "execution_count": null,
      "outputs": [
        {
          "output_type": "stream",
          "text": [
            "['2', '0', '2', '0', \"'\", 's', ' ', 'h', 'a', 'r', 'd']\n"
          ],
          "name": "stdout"
        }
      ]
    },
    {
      "cell_type": "code",
      "metadata": {
        "id": "af-WYA3l6CSb",
        "colab": {
          "base_uri": "https://localhost:8080/"
        },
        "outputId": "3b67e033-97b8-4588-ce9b-0b680e337630"
      },
      "source": [
        "a = list(\"2020's hard\")\n",
        "a.append(9)\n",
        "print(a)"
      ],
      "execution_count": null,
      "outputs": [
        {
          "output_type": "stream",
          "text": [
            "['2', '0', '2', '0', \"'\", 's', ' ', 'h', 'a', 'r', 'd', 9]\n"
          ],
          "name": "stdout"
        }
      ]
    },
    {
      "cell_type": "code",
      "metadata": {
        "id": "GnnLzW5T6CG4",
        "colab": {
          "base_uri": "https://localhost:8080/"
        },
        "outputId": "5b641de7-07d5-4748-8860-d8b9383f4734"
      },
      "source": [
        "a = list()\n",
        "a.append(\"2020's hard\")\n",
        "a.append(9)\n",
        "a.append(\"xa\")\n",
        "print(a)"
      ],
      "execution_count": null,
      "outputs": [
        {
          "output_type": "stream",
          "text": [
            "[\"2020's hard\", 9, 'xa']\n"
          ],
          "name": "stdout"
        }
      ]
    },
    {
      "cell_type": "code",
      "metadata": {
        "colab": {
          "base_uri": "https://localhost:8080/"
        },
        "id": "LVESIo93lcP1",
        "outputId": "18a35903-af72-489c-c853-4769e5e126bb"
      },
      "source": [
        "city = [\"los\", \"bet\", \"tokyo\"]\n",
        "city[0] = True\n",
        "print(city)\n",
        "city[1:] = \"van\"\n",
        "print(city)"
      ],
      "execution_count": null,
      "outputs": [
        {
          "output_type": "stream",
          "text": [
            "[True, 'bet', 'tokyo']\n",
            "[True, 'v', 'a', 'n']\n"
          ],
          "name": "stdout"
        }
      ]
    },
    {
      "cell_type": "code",
      "metadata": {
        "colab": {
          "base_uri": "https://localhost:8080/"
        },
        "id": "2Wwqo0FUlcF4",
        "outputId": "3a056338-7a6a-48ae-92b2-5ad28c7ddcff"
      },
      "source": [
        "a = \"\\\\\\\\\"\n",
        "print(a)"
      ],
      "execution_count": null,
      "outputs": [
        {
          "output_type": "stream",
          "text": [
            "\\\\\n"
          ],
          "name": "stdout"
        }
      ]
    },
    {
      "cell_type": "code",
      "metadata": {
        "colab": {
          "base_uri": "https://localhost:8080/"
        },
        "id": "7VRQcJP6lb_v",
        "outputId": "85e0f3f5-5a8a-488d-8d0a-ffeb02075e2d"
      },
      "source": [
        "a = 3\n",
        "b = 4\n",
        "print(\"{} + {}'nin toplamı {}'dir.\".format(a, b, a+b))"
      ],
      "execution_count": null,
      "outputs": [
        {
          "output_type": "stream",
          "text": [
            "3 + 4'nin toplamı 7'dir.\n"
          ],
          "name": "stdout"
        }
      ]
    },
    {
      "cell_type": "code",
      "metadata": {
        "colab": {
          "base_uri": "https://localhost:8080/"
        },
        "id": "GlFJ8UFjlb8R",
        "outputId": "853b1ec4-8559-46d2-9fc7-564391576c7a"
      },
      "source": [
        "text = \"{:.2f}, {:.2}, {:.3}\".format(3.1463, 5.367, 7.324567)   #kaç basamak almak istiyoruz..\n",
        "print(text)"
      ],
      "execution_count": null,
      "outputs": [
        {
          "output_type": "stream",
          "text": [
            "3.15, 5.4, 7.32\n"
          ],
          "name": "stdout"
        }
      ]
    },
    {
      "cell_type": "code",
      "metadata": {
        "colab": {
          "base_uri": "https://localhost:8080/"
        },
        "id": "OvYH2EVilb4r",
        "outputId": "84792968-bd13-4896-ccf5-b91f1c71d42c"
      },
      "source": [
        "text = \"{:.2s}, {:.2s}, {:.3s}\".format(\"3.1463\", \"5.367\", \"7.324567\")   #kaç basamak almak istiyoruz..\n",
        "print(text)"
      ],
      "execution_count": null,
      "outputs": [
        {
          "output_type": "stream",
          "text": [
            "3., 5., 7.3\n"
          ],
          "name": "stdout"
        }
      ]
    },
    {
      "cell_type": "code",
      "metadata": {
        "colab": {
          "base_uri": "https://localhost:8080/"
        },
        "id": "dPcTbsrJlb0t",
        "outputId": "7cafe76d-83c4-4dbc-974a-58737decbc34"
      },
      "source": [
        "text = \"{:>40}\".format(\"clarusway\")  #sağa yaslama\n",
        "print(text)"
      ],
      "execution_count": null,
      "outputs": [
        {
          "output_type": "stream",
          "text": [
            "                               clarusway\n"
          ],
          "name": "stdout"
        }
      ]
    },
    {
      "cell_type": "code",
      "metadata": {
        "colab": {
          "base_uri": "https://localhost:8080/"
        },
        "id": "0ajtnTB1lbw9",
        "outputId": "09000b6b-edd7-4a44-c2d8-ae372aa80692"
      },
      "source": [
        "text = \"{:<40}\".format(\"clarusway\")  #sola yaslama\n",
        "print(text)"
      ],
      "execution_count": null,
      "outputs": [
        {
          "output_type": "stream",
          "text": [
            "clarusway                               \n"
          ],
          "name": "stdout"
        }
      ]
    },
    {
      "cell_type": "code",
      "metadata": {
        "colab": {
          "base_uri": "https://localhost:8080/"
        },
        "id": "D02S_YldlbmH",
        "outputId": "c487a472-85eb-4142-fd84-8614a44ef23a"
      },
      "source": [
        "text1 = 'formatlama {:<30} formatlama'.format('test1')\n",
        "print(text1)"
      ],
      "execution_count": null,
      "outputs": [
        {
          "output_type": "stream",
          "text": [
            "formatlama test1                          formatlama\n"
          ],
          "name": "stdout"
        }
      ]
    },
    {
      "cell_type": "code",
      "metadata": {
        "colab": {
          "base_uri": "https://localhost:8080/"
        },
        "id": "fXacuUIa2FUS",
        "outputId": "c01f1b20-71a0-43c0-f92f-97a231ab9b38"
      },
      "source": [
        "text1 = 'formatlama {:>30} formatlama'.format('test1')\n",
        "print(text1)"
      ],
      "execution_count": null,
      "outputs": [
        {
          "output_type": "stream",
          "text": [
            "formatlama                          test1 formatlama\n"
          ],
          "name": "stdout"
        }
      ]
    },
    {
      "cell_type": "code",
      "metadata": {
        "colab": {
          "base_uri": "https://localhost:8080/"
        },
        "id": "tP8q_FTD2FQb",
        "outputId": "b77b7974-447e-4b9e-9865-fc4229d7eb4f"
      },
      "source": [
        "text1 = 'formatlama {:^30} formatlama'.format('test1') # ortalama yapar\n",
        "print(text1)"
      ],
      "execution_count": null,
      "outputs": [
        {
          "output_type": "stream",
          "text": [
            "formatlama             test1              formatlama\n"
          ],
          "name": "stdout"
        }
      ]
    },
    {
      "cell_type": "code",
      "metadata": {
        "colab": {
          "base_uri": "https://localhost:8080/"
        },
        "id": "LIIkjM522FNF",
        "outputId": "3648010b-c404-4da7-f235-f4735192b2a6"
      },
      "source": [
        "a = \"{:.5}\".format(\"hippopotamus\")\n",
        "print(a)"
      ],
      "execution_count": null,
      "outputs": [
        {
          "output_type": "stream",
          "text": [
            "hippo\n"
          ],
          "name": "stdout"
        }
      ]
    },
    {
      "cell_type": "code",
      "metadata": {
        "colab": {
          "base_uri": "https://localhost:8080/"
        },
        "id": "v-KYbspi2FJZ",
        "outputId": "1de0ffef-115f-4100-cd0c-282566e6e92a"
      },
      "source": [
        "a = \"{:10.3}\".format(\"hippopotamus\")\n",
        "print(a)"
      ],
      "execution_count": null,
      "outputs": [
        {
          "output_type": "stream",
          "text": [
            "hip       \n"
          ],
          "name": "stdout"
        }
      ]
    },
    {
      "cell_type": "code",
      "metadata": {
        "colab": {
          "base_uri": "https://localhost:8080/"
        },
        "id": "8JfCqmPE2FFK",
        "outputId": "d0da356a-f5a3-4d07-8650-fdaeab7246b7"
      },
      "source": [
        "a = \"{:>10.3}\".format(\"hippopotamus\")\n",
        "print(a)"
      ],
      "execution_count": null,
      "outputs": [
        {
          "output_type": "stream",
          "text": [
            "       hip\n"
          ],
          "name": "stdout"
        }
      ]
    },
    {
      "cell_type": "code",
      "metadata": {
        "id": "ujwcSo7x2E8l",
        "colab": {
          "base_uri": "https://localhost:8080/"
        },
        "outputId": "c22fcf0b-d555-4913-804c-a85d7965b592"
      },
      "source": [
        "list1 = [\"bmw\", \"mercedes\", \"opel\", \"mazda\"]  #Listeler\n",
        "print(list1)\n",
        "print(len(list1))"
      ],
      "execution_count": null,
      "outputs": [
        {
          "output_type": "stream",
          "text": [
            "['bmw', 'mercedes', 'opel', 'mazda']\n",
            "4\n"
          ],
          "name": "stdout"
        }
      ]
    },
    {
      "cell_type": "code",
      "metadata": {
        "id": "wt1Q2h0Z32sS",
        "colab": {
          "base_uri": "https://localhost:8080/"
        },
        "outputId": "1948d56a-fb6e-4ee5-9630-6b86f05fe51f"
      },
      "source": [
        "list1 = [\"bmw\", \"mercedes\", \"opel\", \"mazda\"]  #Listeler\n",
        "print(list1[0])\n",
        "print(list1[-1])"
      ],
      "execution_count": null,
      "outputs": [
        {
          "output_type": "stream",
          "text": [
            "bmw\n",
            "mazda\n"
          ],
          "name": "stdout"
        }
      ]
    },
    {
      "cell_type": "code",
      "metadata": {
        "id": "Cow5xGl332o-",
        "colab": {
          "base_uri": "https://localhost:8080/"
        },
        "outputId": "c946103b-fdde-49f7-d8cc-caac00c01d00"
      },
      "source": [
        "list1 = [\"bmw\", \"mercedes\", \"opel\", \"mazda\"]  #Listede eleman değiştirme\n",
        "list1[-1] = \"toyota\"\n",
        "print(list1)"
      ],
      "execution_count": null,
      "outputs": [
        {
          "output_type": "stream",
          "text": [
            "['bmw', 'mercedes', 'opel', 'toyota']\n"
          ],
          "name": "stdout"
        }
      ]
    },
    {
      "cell_type": "code",
      "metadata": {
        "id": "tZYbjTQT32nc",
        "colab": {
          "base_uri": "https://localhost:8080/"
        },
        "outputId": "56a21dbf-cae0-46fe-cea1-410c9508b923"
      },
      "source": [
        "list1 = [\"bmw\", \"mercedes\", \"opel\", \"mazda\"] \n",
        "list1[0] = \"seat\"\n",
        "print(list1)"
      ],
      "execution_count": null,
      "outputs": [
        {
          "output_type": "stream",
          "text": [
            "['seat', 'mercedes', 'opel', 'mazda']\n"
          ],
          "name": "stdout"
        }
      ]
    },
    {
      "cell_type": "code",
      "metadata": {
        "id": "-kcXIaEI32k0",
        "colab": {
          "base_uri": "https://localhost:8080/"
        },
        "outputId": "e64ea86b-3e0b-472e-b3bb-914e3877e0d9"
      },
      "source": [
        "list1 = [\"bmw\", \"mercedes\", \"opel\", \"mazda\"] \n",
        "print(list1[-2])"
      ],
      "execution_count": null,
      "outputs": [
        {
          "output_type": "stream",
          "text": [
            "opel\n"
          ],
          "name": "stdout"
        }
      ]
    },
    {
      "cell_type": "code",
      "metadata": {
        "id": "pk6_KyDc32iB",
        "colab": {
          "base_uri": "https://localhost:8080/"
        },
        "outputId": "5f5918fa-482d-4671-bf03-402e3e9bd155"
      },
      "source": [
        "list1 = [\"bmw\", \"mercedes\", \"opel\", \"mazda\"] \n",
        "result = \"mercedes\" in list1\n",
        "print(result)"
      ],
      "execution_count": null,
      "outputs": [
        {
          "output_type": "stream",
          "text": [
            "True\n"
          ],
          "name": "stdout"
        }
      ]
    },
    {
      "cell_type": "code",
      "metadata": {
        "id": "0KD4Pb0832fO",
        "colab": {
          "base_uri": "https://localhost:8080/"
        },
        "outputId": "8fcbe7eb-b84c-4e67-b28c-b0913ddafda6"
      },
      "source": [
        "list1 = [\"bmw\", \"mercedes\", \"opel\", \"mazda\"] \n",
        "result = \"seat\" in list1\n",
        "print(result)"
      ],
      "execution_count": null,
      "outputs": [
        {
          "output_type": "stream",
          "text": [
            "False\n"
          ],
          "name": "stdout"
        }
      ]
    },
    {
      "cell_type": "code",
      "metadata": {
        "id": "SakmXVz932bk",
        "colab": {
          "base_uri": "https://localhost:8080/"
        },
        "outputId": "b5ea170f-296a-403c-9c60-7703bddcda35"
      },
      "source": [
        "list1 = [\"bmw\", \"mercedes\", \"opel\", \"mazda\"] \n",
        "print(list1[:3])"
      ],
      "execution_count": null,
      "outputs": [
        {
          "output_type": "stream",
          "text": [
            "['bmw', 'mercedes', 'opel']\n"
          ],
          "name": "stdout"
        }
      ]
    },
    {
      "cell_type": "code",
      "metadata": {
        "id": "QoD_buTC32Y4",
        "colab": {
          "base_uri": "https://localhost:8080/"
        },
        "outputId": "ef50dfc3-0789-47b9-93fb-289ea2aa62e6"
      },
      "source": [
        "list1 = [\"bmw\", \"mercedes\", \"opel\", \"mazda\"] \n",
        "list1[-1] = \"renault\"\n",
        "list1[-2] = \"toyota\"\n",
        "print(list1)"
      ],
      "execution_count": null,
      "outputs": [
        {
          "output_type": "stream",
          "text": [
            "['bmw', 'mercedes', 'toyota', 'renault']\n"
          ],
          "name": "stdout"
        }
      ]
    },
    {
      "cell_type": "code",
      "metadata": {
        "colab": {
          "base_uri": "https://localhost:8080/"
        },
        "id": "5lyuJjnWmkQC",
        "outputId": "a1e01970-3ff9-4b01-bd4b-a58c858a73c7"
      },
      "source": [
        "list1 = [\"bmw\", \"mercedes\", \"opel\", \"mazda\"] \n",
        "list1[-2:] = \"renault\", \"toyota\"\n",
        "\n",
        "print(list1)"
      ],
      "execution_count": null,
      "outputs": [
        {
          "output_type": "stream",
          "text": [
            "['bmw', 'mercedes', 'renault', 'toyota']\n"
          ],
          "name": "stdout"
        }
      ]
    },
    {
      "cell_type": "code",
      "metadata": {
        "id": "JE7HmHO932VX",
        "colab": {
          "base_uri": "https://localhost:8080/"
        },
        "outputId": "fa18cea4-24d6-4cb5-ac83-dcc8d60ebadf"
      },
      "source": [
        "list1 = [\"bmw\", \"mercedes\", \"opel\", \"mazda\"] \n",
        "list1.append(\"audi\")\n",
        "list1.append(\"nissan\")\n",
        "print(list1)"
      ],
      "execution_count": null,
      "outputs": [
        {
          "output_type": "stream",
          "text": [
            "['bmw', 'mercedes', 'opel', 'mazda', 'audi', 'nissan']\n"
          ],
          "name": "stdout"
        }
      ]
    },
    {
      "cell_type": "code",
      "metadata": {
        "colab": {
          "base_uri": "https://localhost:8080/"
        },
        "id": "9R5BzCK0m7ex",
        "outputId": "f8c40193-d6b0-4faa-9191-7106942d429b"
      },
      "source": [
        "list1 = [\"bmw\", \"mercedes\", \"opel\", \"mazda\"] \n",
        "result = list1 + [\"audi\", \"nissan\"]\n",
        "print(result)"
      ],
      "execution_count": null,
      "outputs": [
        {
          "output_type": "stream",
          "text": [
            "['bmw', 'mercedes', 'opel', 'mazda', 'audi', 'nissan']\n"
          ],
          "name": "stdout"
        }
      ]
    },
    {
      "cell_type": "code",
      "metadata": {
        "colab": {
          "base_uri": "https://localhost:8080/"
        },
        "id": "BMOuLXyHnbyH",
        "outputId": "a7990596-8dae-49d9-8995-88f6d4d9dccb"
      },
      "source": [
        "list1 = [\"bmw\", \"mercedes\", \"opel\", \"mazda\"] # listenin bir elemanını silmek\n",
        "del list1[-1]\n",
        "print(list1)"
      ],
      "execution_count": null,
      "outputs": [
        {
          "output_type": "stream",
          "text": [
            "['bmw', 'mercedes', 'opel']\n"
          ],
          "name": "stdout"
        }
      ]
    },
    {
      "cell_type": "code",
      "metadata": {
        "colab": {
          "base_uri": "https://localhost:8080/"
        },
        "id": "xazx_Rxrh6ud",
        "outputId": "7addc56b-0b48-485b-a8d7-47166cb9ae9c"
      },
      "source": [
        "list1 = [\"bmw\", \"mercedes\", \"opel\", \"mazda\"] # listenin bir elemanını silmek\n",
        "list1.clear()\n",
        "print(list1)"
      ],
      "execution_count": null,
      "outputs": [
        {
          "output_type": "stream",
          "text": [
            "[]\n"
          ],
          "name": "stdout"
        }
      ]
    },
    {
      "cell_type": "code",
      "metadata": {
        "id": "Qhjjvblh32R2",
        "colab": {
          "base_uri": "https://localhost:8080/"
        },
        "outputId": "24835f6c-c46f-4a21-b90f-c19cb2b1bf47"
      },
      "source": [
        "list1 = [\"bmw\", \"mercedes\", \"opel\", \"mazda\"] \n",
        "print(list1[::-1])"
      ],
      "execution_count": null,
      "outputs": [
        {
          "output_type": "stream",
          "text": [
            "['mazda', 'opel', 'mercedes', 'bmw']\n"
          ],
          "name": "stdout"
        }
      ]
    },
    {
      "cell_type": "code",
      "metadata": {
        "colab": {
          "base_uri": "https://localhost:8080/"
        },
        "id": "slnyPDFiEuia",
        "outputId": "4f5802a5-f5f0-4502-c172-cb6ad196bfd5"
      },
      "source": [
        "list1 = [\"bmw\", \"mercedes\", \"opel\", \"mazda\"] #insert metodu istenilen indexin önune ekler.....................\n",
        "list1.insert(2, \"jaguar\")\n",
        "print(list1)"
      ],
      "execution_count": null,
      "outputs": [
        {
          "output_type": "stream",
          "text": [
            "['bmw', 'mercedes', 'jaguar', 'opel', 'mazda']\n"
          ],
          "name": "stdout"
        }
      ]
    },
    {
      "cell_type": "code",
      "metadata": {
        "id": "6YEzIyNB32Nz",
        "colab": {
          "base_uri": "https://localhost:8080/"
        },
        "outputId": "20a0889d-650d-49a7-e618-861c115a88ef"
      },
      "source": [
        "studentA = [\"yiğit\", \"bilgi\", 2010, [70,60,70]]\n",
        "studentB = [\"sena\", \"turan\", 1999, [80, 80, 70]]\n",
        "studentC = [\"ahmet\", \"turan\", 1998, [80, 70, 90]]\n",
        "result = studentA[0]\n",
        "print(result)\n",
        "result = studentB[1]\n",
        "print(result)\n",
        "result = studentC[0][2]\n",
        "print(result)\n",
        "result = f\"öğrencilerimizden {studentA[0]} in notu {studentA[3][1]} dir {studentB[0]} nın notu {studentB[3][1]} dir ve {studentC[0]} nın notu {studentC[3][2]}\"\n",
        "print(result)\n"
      ],
      "execution_count": null,
      "outputs": [
        {
          "output_type": "stream",
          "text": [
            "yiğit\n",
            "turan\n",
            "m\n",
            "öğrencilerimizden yiğit in notu 60 dir sena nın notu 80 dir ve ahmet nın notu 90\n"
          ],
          "name": "stdout"
        }
      ]
    },
    {
      "cell_type": "code",
      "metadata": {
        "colab": {
          "base_uri": "https://localhost:8080/"
        },
        "id": "NxgddX2RkBia",
        "outputId": "b1b5bb08-360a-4f27-b3d8-ea9b7048752d"
      },
      "source": [
        "studenta = ['ali', 'enes', 2000,[90,80,75]]\n",
        "studentb = ['ayse','fatma', 1998,[88,98,78]]\n",
        "studentc = ['canan', 'merve',1992,[90,80,70]]\n",
        "\n",
        "result = studenta[0]\n",
        "result = studentb[2]\n",
        "result = studentc[3][1]\n",
        "result = f\"{studenta[0]} 'nın doğum tarihi' {studenta[2]} 've notu' {studenta[3][1]} 'dır' \"\n",
        "print(result)"
      ],
      "execution_count": null,
      "outputs": [
        {
          "output_type": "stream",
          "text": [
            "ali 'nın doğum tarihi' 2000 've notu' 80 'dır' \n"
          ],
          "name": "stdout"
        }
      ]
    },
    {
      "cell_type": "code",
      "metadata": {
        "colab": {
          "base_uri": "https://localhost:8080/"
        },
        "id": "NheNOPlLk_kV",
        "outputId": "7f8d054f-bd8f-460a-cad1-8cb74c507ab7"
      },
      "source": [
        "numbers = [1, 2, 3, 4, 5, 6, 7]            #paythonda liste metotları\n",
        "letters = [\"a\", \"b\", \"c\", \"d\", \"e\"]\n",
        "result = min(numbers)\n",
        "print(result)\n",
        "result = max(numbers)\n",
        "print(result)\n",
        "result = max(letters)\n",
        "print(result)\n",
        "result = letters[:3]\n",
        "print(result)\n",
        "numbers[3] = 40\n",
        "print(numbers) #önemli detay\n",
        "letters[3] = \"aşk\"\n",
        "print(letters)"
      ],
      "execution_count": null,
      "outputs": [
        {
          "output_type": "stream",
          "text": [
            "1\n",
            "7\n",
            "e\n",
            "['a', 'b', 'c']\n",
            "[1, 2, 3, 40, 5, 6, 7]\n",
            "['a', 'b', 'c', 'aşk', 'e']\n"
          ],
          "name": "stdout"
        }
      ]
    },
    {
      "cell_type": "code",
      "metadata": {
        "colab": {
          "base_uri": "https://localhost:8080/"
        },
        "id": "gWz30iE2k_gw",
        "outputId": "e3215e2c-5f75-426f-8c89-0db3bb0a8747"
      },
      "source": [
        "numbers = [1, 2, 3, 4, 5, 6, 7]            #paythonda liste de eleman silme metotları\n",
        "letters = [\"a\", \"b\", \"c\", \"d\", \"e\"]\n",
        "del letters[-1]\n",
        "print(letters)"
      ],
      "execution_count": null,
      "outputs": [
        {
          "output_type": "stream",
          "text": [
            "['a', 'b', 'c', 'd']\n"
          ],
          "name": "stdout"
        }
      ]
    },
    {
      "cell_type": "code",
      "metadata": {
        "colab": {
          "base_uri": "https://localhost:8080/"
        },
        "id": "M-Axtm8Tk_d8",
        "outputId": "294c14bd-c2a1-4c5b-946d-c87239762a21"
      },
      "source": [
        "numbers = [1, 2, 3, 4, 5, 6, 7]            #paythonda liste de eleman silme metotları\n",
        "letters = [\"a\", \"b\", \"c\", \"d\", \"e\"]\n",
        "letters.pop(-1)\n",
        "print(letters)"
      ],
      "execution_count": null,
      "outputs": [
        {
          "output_type": "stream",
          "text": [
            "['a', 'b', 'c', 'd']\n"
          ],
          "name": "stdout"
        }
      ]
    },
    {
      "cell_type": "code",
      "metadata": {
        "colab": {
          "base_uri": "https://localhost:8080/"
        },
        "id": "hszGJGWAk_a9",
        "outputId": "87015138-9ebb-4c14-f100-9bda29224017"
      },
      "source": [
        "numbers = [1, 2, 3, 4, 5, 6, 7]            #paythonda liste de eleman silme metotları\n",
        "letters = [\"a\", \"b\", \"c\", \"dot\", \"e\"]\n",
        "letters.remove(\"dot\")                            # remove da yazdığınız elemanı arar bulur ve siler.............\n",
        "print(letters)"
      ],
      "execution_count": null,
      "outputs": [
        {
          "output_type": "stream",
          "text": [
            "['a', 'b', 'c', 'e']\n"
          ],
          "name": "stdout"
        }
      ]
    },
    {
      "cell_type": "code",
      "metadata": {
        "colab": {
          "base_uri": "https://localhost:8080/"
        },
        "id": "RCMa6Cggk_X9",
        "outputId": "4f54b311-5298-40a4-b2dd-b57074616396"
      },
      "source": [
        "numbers = [1, 2, 3, 4, 5, 6, 7]            #paythonda liste de eleman silme metotları\n",
        "letters = [\"a\", \"b\", \"c\", \"d\", \"e\"]\n",
        "letters.sort()                               # listeyi doğru sırala\n",
        "print(letters)\n",
        "letters.reverse()                                   # listeyi tersten sırala..........\n",
        "print(letters)"
      ],
      "execution_count": null,
      "outputs": [
        {
          "output_type": "stream",
          "text": [
            "['a', 'b', 'c', 'd', 'e']\n",
            "['e', 'd', 'c', 'b', 'a']\n"
          ],
          "name": "stdout"
        }
      ]
    },
    {
      "cell_type": "code",
      "metadata": {
        "colab": {
          "base_uri": "https://localhost:8080/"
        },
        "id": "s2kO37qBk_U-",
        "outputId": "9726952a-b7eb-46e8-f972-cdc66559a543"
      },
      "source": [
        "numbers = [1, 2, 3, 44, 5, 6, 7,3]            #paythonda liste de elemanlarını sayma metotları\n",
        "letters = [\"a\", \"b\", \"c\", \"d\", \"e\"]\n",
        "print(len(numbers))\n",
        "print(len(letters))\n",
        "print(numbers.count(3))                # bir elemandan kaç adet olduğunu arar bulur........."
      ],
      "execution_count": null,
      "outputs": [
        {
          "output_type": "stream",
          "text": [
            "8\n",
            "5\n",
            "2\n"
          ],
          "name": "stdout"
        }
      ]
    },
    {
      "cell_type": "code",
      "metadata": {
        "id": "CxCJqQzuk-4D",
        "colab": {
          "base_uri": "https://localhost:8080/"
        },
        "outputId": "7f446551-5f28-47cd-ac02-375e5fe10517"
      },
      "source": [
        "names = [\"ali\", \"yağmur\", \"enes\", \"furkan\"]\n",
        "years = [1998, 2000, 2013, 2016]\n",
        "names.append(\"cenk\")\n",
        "print(names)"
      ],
      "execution_count": null,
      "outputs": [
        {
          "output_type": "stream",
          "text": [
            "['ali', 'yağmur', 'enes', 'furkan', 'cenk']\n"
          ],
          "name": "stdout"
        }
      ]
    },
    {
      "cell_type": "code",
      "metadata": {
        "id": "azQMqW9fk-0z",
        "colab": {
          "base_uri": "https://localhost:8080/"
        },
        "outputId": "93da41fb-347f-4ad0-f723-0a9ee52e74e7"
      },
      "source": [
        "names = [\"ali\", \"yağmur\", \"enes\", \"furkan\"]\n",
        "years = [1998, 2000, 2013, 2016]\n",
        "names.insert(0, \"sena\")\n",
        "print(names)"
      ],
      "execution_count": null,
      "outputs": [
        {
          "output_type": "stream",
          "text": [
            "['sena', 'ali', 'yağmur', 'enes', 'furkan']\n"
          ],
          "name": "stdout"
        }
      ]
    },
    {
      "cell_type": "code",
      "metadata": {
        "id": "D3dZGr96k-yK",
        "colab": {
          "base_uri": "https://localhost:8080/"
        },
        "outputId": "cdcedff5-45a8-4c52-ae6c-bfb500b4c569"
      },
      "source": [
        "names = [\"ali\", \"yağmur\", \"enes\", \"furkan\"]\n",
        "years = [1998, 2000, 2013, 2016]\n",
        "names.pop(3)\n",
        "print(names)"
      ],
      "execution_count": null,
      "outputs": [
        {
          "output_type": "stream",
          "text": [
            "['ali', 'yağmur', 'enes']\n"
          ],
          "name": "stdout"
        }
      ]
    },
    {
      "cell_type": "code",
      "metadata": {
        "id": "ItJ5dBrCk-vi",
        "colab": {
          "base_uri": "https://localhost:8080/"
        },
        "outputId": "09aa3f93-c37f-4de0-8fe6-5db83fe32bb3"
      },
      "source": [
        "names = [\"ali\", \"yağmur\", \"enes\", \"furkan\"]\n",
        "years = [1998, 2000, 2013, 2016]\n",
        "result = names.index(\"enes\")\n",
        "print(result)"
      ],
      "execution_count": null,
      "outputs": [
        {
          "output_type": "stream",
          "text": [
            "2\n"
          ],
          "name": "stdout"
        }
      ]
    },
    {
      "cell_type": "code",
      "metadata": {
        "id": "bDSvAE_9k-so",
        "colab": {
          "base_uri": "https://localhost:8080/"
        },
        "outputId": "28d0fe7a-c20f-4155-e23b-274c57bf6c87"
      },
      "source": [
        "names = [\"ali\", \"yağmur\", \"enes\", \"furkan\"]\n",
        "years = [1998, 2000, 2013, 2016]\n",
        "result = \"ali\" in names\n",
        "print(result)"
      ],
      "execution_count": null,
      "outputs": [
        {
          "output_type": "stream",
          "text": [
            "True\n"
          ],
          "name": "stdout"
        }
      ]
    },
    {
      "cell_type": "code",
      "metadata": {
        "id": "3_0rVLe-k-pc",
        "colab": {
          "base_uri": "https://localhost:8080/"
        },
        "outputId": "87d1ce22-8137-4d82-95bf-6b3125a98c34"
      },
      "source": [
        "names = [\"ali\", \"yağmur\", \"enes\", \"furkan\"]\n",
        "years = [1998, 2000, 2013, 2016]\n",
        "\n",
        "print(names[::-1])"
      ],
      "execution_count": null,
      "outputs": [
        {
          "output_type": "stream",
          "text": [
            "['furkan', 'enes', 'yağmur', 'ali']\n"
          ],
          "name": "stdout"
        }
      ]
    },
    {
      "cell_type": "code",
      "metadata": {
        "id": "-nSJIVhIk-g3",
        "colab": {
          "base_uri": "https://localhost:8080/"
        },
        "outputId": "352f951a-3906-437c-abe1-a500f0bf907b"
      },
      "source": [
        "names = [\"ali\", \"yağmur\", \"enes\", \"furkan\"]\n",
        "years = [1998, 2000, 2013, 2016]\n",
        "names.sort()\n",
        "print(names)\n",
        "years.reverse()\n",
        "print(years)\n",
        "years.sort()\n",
        "print(years)"
      ],
      "execution_count": null,
      "outputs": [
        {
          "output_type": "stream",
          "text": [
            "['ali', 'enes', 'furkan', 'yağmur']\n",
            "[2016, 2013, 2000, 1998]\n",
            "[1998, 2000, 2013, 2016]\n"
          ],
          "name": "stdout"
        }
      ]
    },
    {
      "cell_type": "code",
      "metadata": {
        "colab": {
          "base_uri": "https://localhost:8080/"
        },
        "id": "ZuWYn_hgG_Rt",
        "outputId": "e44fc550-b3ce-4aa3-df10-d9d6990568ce"
      },
      "source": [
        "a = \"chevrolet,dacia\"\n",
        "result = a.split(',')\n",
        "print(result)"
      ],
      "execution_count": null,
      "outputs": [
        {
          "output_type": "stream",
          "text": [
            "['chevrolet', 'dacia']\n"
          ],
          "name": "stdout"
        }
      ]
    },
    {
      "cell_type": "code",
      "metadata": {
        "colab": {
          "base_uri": "https://localhost:8080/"
        },
        "id": "RuGwBhT1G_PM",
        "outputId": "f30ca5a1-cb5a-42e8-a785-fd47c908515a"
      },
      "source": [
        "a = \"chevrolet,dacia\"\n",
        "result = a. split()\n",
        "print(result)"
      ],
      "execution_count": null,
      "outputs": [
        {
          "output_type": "stream",
          "text": [
            "['chevrolet,dacia']\n"
          ],
          "name": "stdout"
        }
      ]
    },
    {
      "cell_type": "code",
      "metadata": {
        "id": "6ecrVDztG_Lk",
        "colab": {
          "base_uri": "https://localhost:8080/"
        },
        "outputId": "d040f883-f521-48c3-80f1-281d4728c8b3"
      },
      "source": [
        "print(ord(\"*\"))\n",
        "print(chr(42))"
      ],
      "execution_count": null,
      "outputs": [
        {
          "output_type": "stream",
          "text": [
            "42\n",
            "*\n"
          ],
          "name": "stdout"
        }
      ]
    },
    {
      "cell_type": "code",
      "metadata": {
        "id": "FrV_o0TJG_IF",
        "colab": {
          "base_uri": "https://localhost:8080/"
        },
        "outputId": "96bac081-423d-45bf-a8f9-a5d9cf259b46"
      },
      "source": [
        "print(ord(\"@\"))"
      ],
      "execution_count": null,
      "outputs": [
        {
          "output_type": "stream",
          "text": [
            "64\n"
          ],
          "name": "stdout"
        }
      ]
    },
    {
      "cell_type": "code",
      "metadata": {
        "id": "M0xFkln-G_FO",
        "colab": {
          "base_uri": "https://localhost:8080/"
        },
        "outputId": "7ea744d7-857a-4746-880d-d7f5329369f0"
      },
      "source": [
        "print(ord(\"-\"))"
      ],
      "execution_count": null,
      "outputs": [
        {
          "output_type": "stream",
          "text": [
            "45\n"
          ],
          "name": "stdout"
        }
      ]
    },
    {
      "cell_type": "code",
      "metadata": {
        "id": "YzbXLUl8G_CG",
        "colab": {
          "base_uri": "https://localhost:8080/"
        },
        "outputId": "ca5eda2e-d69f-4ce8-a3f7-df97ebf7443b"
      },
      "source": [
        "print(chr(77))"
      ],
      "execution_count": null,
      "outputs": [
        {
          "output_type": "stream",
          "text": [
            "M\n"
          ],
          "name": "stdout"
        }
      ]
    },
    {
      "cell_type": "code",
      "metadata": {
        "id": "442cIx61G--8",
        "colab": {
          "base_uri": "https://localhost:8080/"
        },
        "outputId": "e3e37ca9-db75-4ce0-c2ee-e114cab1d73f"
      },
      "source": [
        "list = [1, [1, \"one\", 2, \"two\", 3, \"three\"], 4]\n",
        "print(list[1][1::2])"
      ],
      "execution_count": null,
      "outputs": [
        {
          "output_type": "stream",
          "text": [
            "['one', 'two', 'three']\n"
          ],
          "name": "stdout"
        }
      ]
    },
    {
      "cell_type": "code",
      "metadata": {
        "id": "9-ukIF4rG-7z"
      },
      "source": [
        ""
      ],
      "execution_count": null,
      "outputs": []
    },
    {
      "cell_type": "code",
      "metadata": {
        "id": "mGycFeMdG-4V",
        "colab": {
          "base_uri": "https://localhost:8080/"
        },
        "outputId": "4e9e7c8e-4c33-4681-a92c-3b1f1ab1606a"
      },
      "source": [
        "print(\"new\" \"line\", \"end\", 3)"
      ],
      "execution_count": null,
      "outputs": [
        {
          "output_type": "stream",
          "text": [
            "newline end 3\n"
          ],
          "name": "stdout"
        }
      ]
    },
    {
      "cell_type": "code",
      "metadata": {
        "id": "ir3VjAT-G-04",
        "colab": {
          "base_uri": "https://localhost:8080/",
          "height": 130
        },
        "outputId": "772e5b30-18bf-465a-f782-ce100e7a3b2c"
      },
      "source": [
        "print(\"new\" \"line\" \"end\" 3)"
      ],
      "execution_count": null,
      "outputs": [
        {
          "output_type": "error",
          "ename": "SyntaxError",
          "evalue": "ignored",
          "traceback": [
            "\u001b[0;36m  File \u001b[0;32m\"<ipython-input-63-693762d2e4e6>\"\u001b[0;36m, line \u001b[0;32m1\u001b[0m\n\u001b[0;31m    print(\"new\" \"line\" \"end\" 3)\u001b[0m\n\u001b[0m                             ^\u001b[0m\n\u001b[0;31mSyntaxError\u001b[0m\u001b[0;31m:\u001b[0m invalid syntax\n"
          ]
        }
      ]
    },
    {
      "cell_type": "code",
      "metadata": {
        "id": "d2TUoYZ0G-xL",
        "colab": {
          "base_uri": "https://localhost:8080/"
        },
        "outputId": "e5dc4dae-9784-4515-a0a4-0028885092cd"
      },
      "source": [
        "print(\"new\" \"line\")"
      ],
      "execution_count": null,
      "outputs": [
        {
          "output_type": "stream",
          "text": [
            "newline\n"
          ],
          "name": "stdout"
        }
      ]
    },
    {
      "cell_type": "code",
      "metadata": {
        "id": "IB2nBCgPG9-v",
        "colab": {
          "base_uri": "https://localhost:8080/"
        },
        "outputId": "693d33a5-0086-49c3-ee2c-22cdc02dac48"
      },
      "source": [
        "print(r\"\\nhello\")"
      ],
      "execution_count": null,
      "outputs": [
        {
          "output_type": "stream",
          "text": [
            "\\nhello\n"
          ],
          "name": "stdout"
        }
      ]
    },
    {
      "cell_type": "code",
      "metadata": {
        "colab": {
          "base_uri": "https://localhost:8080/"
        },
        "id": "U2tk12yNUD9k",
        "outputId": "dbd3c3f1-a14c-4d50-b693-5287a80d02ff"
      },
      "source": [
        "\n",
        "for i in range(5):\n",
        "    print(i)"
      ],
      "execution_count": null,
      "outputs": [
        {
          "output_type": "stream",
          "text": [
            "0\n",
            "1\n",
            "2\n",
            "3\n",
            "4\n"
          ],
          "name": "stdout"
        }
      ]
    },
    {
      "cell_type": "code",
      "metadata": {
        "colab": {
          "base_uri": "https://localhost:8080/"
        },
        "id": "IHMFfLVkUD5p",
        "outputId": "aaaae0e8-f4b2-4c40-f2fa-e02853094bbc"
      },
      "source": [
        "markalar = []                    #input ile liste oluşturmak\n",
        "marka = input(\"marka: \")\n",
        "markalar.append(marka)\n",
        "marka = input(\"marka: \")\n",
        "markalar.append(marka)\n",
        "marka = input(\"marka: \")\n",
        "markalar.append(marka)\n",
        "print(markalar)"
      ],
      "execution_count": null,
      "outputs": [
        {
          "output_type": "stream",
          "text": [
            "marka: opel\n",
            "marka: mazda\n",
            "marka: toyota\n",
            "['opel', 'mazda', 'toyota']\n"
          ],
          "name": "stdout"
        }
      ]
    },
    {
      "cell_type": "code",
      "metadata": {
        "colab": {
          "base_uri": "https://localhost:8080/"
        },
        "id": "tAL0z8dtUD21",
        "outputId": "706e1a21-765f-4276-db29-e24b1e4b5494"
      },
      "source": [
        "list = [1, \"iki\", 3]                             #tuple ile liste oluşturmak\n",
        "tuple = (\"a\", \"b\", \"c\")                      #tuple da bir eleman değiştirilemez...\n",
        "print(type(list))\n",
        "print(type(tuple))\n",
        "print(list[2])\n",
        "print(tuple[2])\n",
        "print(len(list))\n",
        "print(len(tuple))"
      ],
      "execution_count": null,
      "outputs": [
        {
          "output_type": "stream",
          "text": [
            "<class 'list'>\n",
            "<class 'tuple'>\n",
            "3\n",
            "c\n",
            "3\n",
            "3\n"
          ],
          "name": "stdout"
        }
      ]
    },
    {
      "cell_type": "code",
      "metadata": {
        "colab": {
          "base_uri": "https://localhost:8080/"
        },
        "id": "Op0_22bNUDzc",
        "outputId": "7a9cd048-4cf7-4ff5-8073-e133be1d4979"
      },
      "source": [
        "#ditionary ile liste ( key - value)\n",
        "plakalar = { \"istanbul\" : 34,\"kocaeli\" : 41 }\n",
        "print(plakalar[\"istanbul\"])\n",
        "print(plakalar[\"kocaeli\"])\n",
        "plakalar[\"kocaeli\"] = 65\n",
        "print(plakalar)"
      ],
      "execution_count": null,
      "outputs": [
        {
          "output_type": "stream",
          "text": [
            "34\n",
            "41\n",
            "{'istanbul': 34, 'kocaeli': 65}\n"
          ],
          "name": "stdout"
        }
      ]
    },
    {
      "cell_type": "code",
      "metadata": {
        "colab": {
          "base_uri": "https://localhost:8080/"
        },
        "id": "lwAeLeE8UDwd",
        "outputId": "1cebeb0f-0bd6-40d9-8d4b-a8efda782ac1"
      },
      "source": [
        "sehirler = [\"istanbul\", \"kocaeli\"] # dictionary olmadan.....\n",
        "plakalar = [34, 41]\n",
        "print(plakalar[sehirler.index(\"istanbul\")])\n",
        "print(plakalar[şehirler.index(\"kocaeli\")])\n"
      ],
      "execution_count": null,
      "outputs": [
        {
          "output_type": "stream",
          "text": [
            "34\n",
            "41\n"
          ],
          "name": "stdout"
        }
      ]
    },
    {
      "cell_type": "code",
      "metadata": {
        "colab": {
          "base_uri": "https://localhost:8080/"
        },
        "id": "Py9UgAC7UDtT",
        "outputId": "314be139-dd1c-42d9-8b3f-9b8c27cf047d"
      },
      "source": [
        "users = {\n",
        "    'sadıkturan': {\n",
        "        'age': 36,\n",
        "        'phone': '3748364328569',\n",
        "        'email': 'sturan@hotmail.com',\n",
        "        'adres': 'dfh kfo kfjo ist'\n",
        "    },\n",
        "    'eneskaya' : {\n",
        "        'age' : 7,\n",
        "        'phone' : '8373845948',\n",
        "        'email' : 'enes@hotmail.com',\n",
        "        'adres' : 'jjlk ffhok lko van'\n",
        "    }\n",
        "     }\n",
        "print(users['sadıkturan'])\n",
        "print(users['sadıkturan']['age'])\n",
        "print(users['eneskaya']['phone'])"
      ],
      "execution_count": null,
      "outputs": [
        {
          "output_type": "stream",
          "text": [
            "{'age': 36, 'phone': '3748364328569', 'email': 'sturan@hotmail.com', 'adres': 'dfh kfo kfjo ist'}\n",
            "36\n",
            "8373845948\n"
          ],
          "name": "stdout"
        }
      ]
    },
    {
      "cell_type": "code",
      "metadata": {
        "colab": {
          "base_uri": "https://localhost:8080/"
        },
        "id": "7K4driWpUDqj",
        "outputId": "fe1ba474-75f7-4131-da90-d3ef79ed00c5"
      },
      "source": [
        "fruits = { 'orange', 'apple', 'banana'}    #Sets listeleme\n",
        "\n",
        "for x in fruits:\n",
        "  print(x)\n",
        "fruits.add(\"cherry\")\n",
        "print(fruits)\n",
        "fruits.update([\"mango\", \"grape\"])\n",
        "print(fruits)\n",
        "fruits.remove('apple')\n",
        "print(fruits)\n",
        "fruits.discard('orange')\n",
        "print(fruits)\n",
        "fruits.pop()\n",
        "print(fruits)\n",
        "fruits.clear()\n",
        "print(fruits)\n"
      ],
      "execution_count": null,
      "outputs": [
        {
          "output_type": "stream",
          "text": [
            "apple\n",
            "banana\n",
            "orange\n",
            "{'apple', 'banana', 'orange', 'cherry'}\n",
            "{'apple', 'orange', 'banana', 'cherry', 'grape', 'mango'}\n",
            "{'orange', 'banana', 'cherry', 'grape', 'mango'}\n",
            "{'banana', 'cherry', 'grape', 'mango'}\n",
            "{'cherry', 'grape', 'mango'}\n",
            "set()\n"
          ],
          "name": "stdout"
        }
      ]
    },
    {
      "cell_type": "code",
      "metadata": {
        "colab": {
          "base_uri": "https://localhost:8080/"
        },
        "id": "rxY2941wUDnb",
        "outputId": "798ed523-76ac-49c3-8e14-c814f9280cab"
      },
      "source": [
        "my_list = [1,2,3,4,5,4,5,5]\n",
        "print(set(my_list))"
      ],
      "execution_count": null,
      "outputs": [
        {
          "output_type": "stream",
          "text": [
            "{1, 2, 3, 4, 5}\n"
          ],
          "name": "stdout"
        }
      ]
    },
    {
      "cell_type": "code",
      "metadata": {
        "colab": {
          "base_uri": "https://localhost:8080/"
        },
        "id": "celJ4kKkUDj9",
        "outputId": "08e76dc9-bd69-4ec8-e4a4-f6460a913ffb"
      },
      "source": [
        "vlist = 1, 2, 3, \n",
        "x, y, z = vlist\n",
        "print(x, y, z)"
      ],
      "execution_count": null,
      "outputs": [
        {
          "output_type": "stream",
          "text": [
            "1 2 3\n"
          ],
          "name": "stdout"
        }
      ]
    },
    {
      "cell_type": "code",
      "metadata": {
        "colab": {
          "base_uri": "https://localhost:8080/"
        },
        "id": "gLoOKoQjUDg-",
        "outputId": "47e992ff-9085-43f6-e338-cc0bf09cde09"
      },
      "source": [
        "vlist = 1, 2, 3, 4, 5\n",
        "x, y, *z = vlist\n",
        "print(x, y, z)"
      ],
      "execution_count": null,
      "outputs": [
        {
          "output_type": "stream",
          "text": [
            "1 2 [3, 4, 5]\n"
          ],
          "name": "stdout"
        }
      ]
    },
    {
      "cell_type": "code",
      "metadata": {
        "colab": {
          "base_uri": "https://localhost:8080/"
        },
        "id": "Cf55DDemLFK5",
        "outputId": "27e6f592-ffbb-4ccb-9b1b-c63458e68d4a"
      },
      "source": [
        "x, y, z = 2, 5, 203\n",
        "#numbers = 1, 5, 7, 10, 6\n",
        "sayı = int(input(\"bir sayı giriniz \"))\n",
        "sayı2 = int(input(\"bir sayı daha giriniz \"))\n",
        "\n",
        "print((sayı * sayı2) - (x + y + z))\n",
        "print(y//x)"
      ],
      "execution_count": null,
      "outputs": [
        {
          "output_type": "stream",
          "text": [
            "bir sayı giriniz 5\n",
            "bir sayı daha giriniz 8\n",
            "-170\n",
            "2\n"
          ],
          "name": "stdout"
        }
      ]
    },
    {
      "cell_type": "code",
      "metadata": {
        "colab": {
          "base_uri": "https://localhost:8080/"
        },
        "id": "zW7aROXELFFp",
        "outputId": "0ef5822b-babb-4fd1-81b2-f1baade7cc1c"
      },
      "source": [
        "x, y, z = 2, 5, 203\n",
        "result = x + y + z\n",
        "print(result % 3)"
      ],
      "execution_count": null,
      "outputs": [
        {
          "output_type": "stream",
          "text": [
            "0\n"
          ],
          "name": "stdout"
        }
      ]
    },
    {
      "cell_type": "code",
      "metadata": {
        "colab": {
          "base_uri": "https://localhost:8080/"
        },
        "id": "9K9OBHeKLFDd",
        "outputId": "7fba2a51-894f-40ae-e5c9-806e5a6147b4"
      },
      "source": [
        "x, y, z = 2, 5, 203\n",
        "print(y**x)"
      ],
      "execution_count": null,
      "outputs": [
        {
          "output_type": "stream",
          "text": [
            "25\n"
          ],
          "name": "stdout"
        }
      ]
    },
    {
      "cell_type": "code",
      "metadata": {
        "colab": {
          "base_uri": "https://localhost:8080/"
        },
        "id": "eELvUSimLFAm",
        "outputId": "470aa5c8-5145-4b9b-8cd4-24e15a46e2bd"
      },
      "source": [
        "x, y, z = 2, 5, 203\n",
        "numbers = 1, 5, 7, 10, 6\n",
        "x, *y, z = numbers\n",
        "print(z**3)"
      ],
      "execution_count": null,
      "outputs": [
        {
          "output_type": "stream",
          "text": [
            "216\n"
          ],
          "name": "stdout"
        }
      ]
    },
    {
      "cell_type": "code",
      "metadata": {
        "colab": {
          "base_uri": "https://localhost:8080/"
        },
        "id": "EEsd5ax0LE9j",
        "outputId": "c5940a37-8fdb-41da-8939-22da41ec51a3"
      },
      "source": [
        "x, y, z = 2, 5, 203\n",
        "numbers = 1, 5, 7, 10, 6\n",
        "x, *y, z = numbers\n",
        "result = y\n",
        "print(y[0] + y[1] + y[2])"
      ],
      "execution_count": null,
      "outputs": [
        {
          "output_type": "stream",
          "text": [
            "22\n"
          ],
          "name": "stdout"
        }
      ]
    },
    {
      "cell_type": "code",
      "metadata": {
        "id": "RZu8ltBLLE6t"
      },
      "source": [
        "a == b #a b ye eşit mi?????????\n",
        "a != b # a b ye eşit değil mi???????   sonucu True ve false olarak verir........"
      ],
      "execution_count": null,
      "outputs": []
    },
    {
      "cell_type": "code",
      "metadata": {
        "colab": {
          "base_uri": "https://localhost:8080/"
        },
        "id": "qXexdMVbLE3U",
        "outputId": "b2d55ad9-a9ba-4057-99f4-f44db8198ce7"
      },
      "source": [
        "a = int(input(\"bir sayı giriniz \"))\n",
        "b = int(input(\"bir sayı daha giriniz \"))\n",
        "result = (a >= b)\n",
        "if (a >= b):\n",
        "  print(f\" a: {a} b: {b} den büyüktür: {result}\")\n",
        "else:\n",
        "  print(f\" a: {a} b: {b} den küçüktür: {result}\")"
      ],
      "execution_count": null,
      "outputs": [
        {
          "output_type": "stream",
          "text": [
            "bir sayı giriniz 55\n",
            "bir sayı daha giriniz 66\n",
            " a: 55 b: 66 den küçüktür: False\n"
          ],
          "name": "stdout"
        }
      ]
    },
    {
      "cell_type": "code",
      "metadata": {
        "colab": {
          "base_uri": "https://localhost:8080/"
        },
        "id": "EMN7dYRxLE0H",
        "outputId": "a7d52a71-b0b2-4e5e-f832-a007336bb629"
      },
      "source": [
        "vize1 = int(input(\"vize1 notu: \"))\n",
        "vize2 = int(input(\"vize2 notu: \"))\n",
        "final = int(input(\"final notu: \"))\n",
        "result = ((vize1 * 0.6) + (vize2 * 0.6))/2 +(final * 0.4)\n",
        "\n",
        "if (result > 50):\n",
        "  print(\"Geçtiniz \", result) \n",
        "else:\n",
        "  print(\"Kaldıniz \",  result)"
      ],
      "execution_count": null,
      "outputs": [
        {
          "output_type": "stream",
          "text": [
            "vize1 notu: 30\n",
            "vize2 notu: 40\n",
            "final notu: 50\n",
            "Kaldıniz  41.0\n"
          ],
          "name": "stdout"
        }
      ]
    },
    {
      "cell_type": "code",
      "metadata": {
        "colab": {
          "base_uri": "https://localhost:8080/"
        },
        "id": "4Yn1hWWQLElh",
        "outputId": "6bc4d343-b611-4d20-b455-3e8bdd6eb267"
      },
      "source": [
        "sayı = int(input(\"bir sayı giriniz \"))\n",
        "\n",
        "if (sayı % 2 == 0):\n",
        "  print(\"çift sayı\")\n",
        "else:\n",
        "  print(\"Tek sayı\")\n"
      ],
      "execution_count": null,
      "outputs": [
        {
          "output_type": "stream",
          "text": [
            "bir sayı giriniz 20\n",
            "çift sayı\n"
          ],
          "name": "stdout"
        }
      ]
    },
    {
      "cell_type": "code",
      "metadata": {
        "colab": {
          "base_uri": "https://localhost:8080/"
        },
        "id": "nWnPnGEbUDY6",
        "outputId": "803aad61-2570-4d6f-e5e5-a7faa7c73d88"
      },
      "source": [
        "x = 5                     #mantıksal operatörler.......\n",
        "result = 5 < x < 10 \n",
        "print(result)"
      ],
      "execution_count": null,
      "outputs": [
        {
          "output_type": "stream",
          "text": [
            "False\n"
          ],
          "name": "stdout"
        }
      ]
    },
    {
      "cell_type": "code",
      "metadata": {
        "id": "bU-cr9mikJ6s",
        "colab": {
          "base_uri": "https://localhost:8080/"
        },
        "outputId": "9b41c95e-0ddc-4117-d7e4-1d903eaf0f97"
      },
      "source": [
        "sayı = int(input(\"bir sayı giriniz \"))\n",
        "result = (0< sayı) and (sayı < 100)\n",
        "print(result)"
      ],
      "execution_count": null,
      "outputs": [
        {
          "output_type": "stream",
          "text": [
            "bir sayı giriniz 112\n",
            "False\n"
          ],
          "name": "stdout"
        }
      ]
    },
    {
      "cell_type": "code",
      "metadata": {
        "id": "iEmy-YTHkJ3q",
        "colab": {
          "base_uri": "https://localhost:8080/"
        },
        "outputId": "178b3cf9-949c-4ff8-bf37-c9c61a9a88d3"
      },
      "source": [
        "sayı = int(input(\"bir sayı giriniz \"))\n",
        "result = (0< sayı) and (sayı % 2 == 0)\n",
        "print(result)"
      ],
      "execution_count": null,
      "outputs": [
        {
          "output_type": "stream",
          "text": [
            "bir sayı giriniz 1223214324\n",
            "True\n"
          ],
          "name": "stdout"
        }
      ]
    },
    {
      "cell_type": "code",
      "metadata": {
        "id": "EWnbpMWOkJ0H",
        "colab": {
          "base_uri": "https://localhost:8080/"
        },
        "outputId": "5a4369a2-4f94-46ff-ad35-6b36bda3d392"
      },
      "source": [
        "email = \"kaya_nk@hotmail.com\"\n",
        "sifre = \"kaya\"\n",
        "login = input(\"enter your e-mail \")\n",
        "password = input(\"enter your password \")\n",
        "result = login == email\n",
        "result2 = password == sifre\n",
        "print(result and result2)"
      ],
      "execution_count": null,
      "outputs": [
        {
          "output_type": "stream",
          "text": [
            "enter your e-mail kaya_nk@hotmail.com\n",
            "enter your password kaya\n",
            "True\n"
          ],
          "name": "stdout"
        }
      ]
    },
    {
      "cell_type": "code",
      "metadata": {
        "id": "3ih_aAfDkJwn",
        "colab": {
          "base_uri": "https://localhost:8080/"
        },
        "outputId": "2304d1e9-5d8c-4395-9da1-f3a734754929"
      },
      "source": [
        "sayı1 = int(input(\"bir sayı gir \"))\n",
        "sayı2 = int(input(\"bir sayı gir \"))\n",
        "sayı3 = int(input(\"bir sayı gir \"))\n",
        "result = [sayı1, sayı2, sayı3]\n",
        "result.sort()\n",
        "print(result)"
      ],
      "execution_count": null,
      "outputs": [
        {
          "output_type": "stream",
          "text": [
            "bir sayı gir 1\n",
            "bir sayı gir 7\n",
            "bir sayı gir 5\n",
            "[1, 5, 7]\n"
          ],
          "name": "stdout"
        }
      ]
    },
    {
      "cell_type": "code",
      "metadata": {
        "id": "l9wxU1CzkJtT",
        "colab": {
          "base_uri": "https://localhost:8080/"
        },
        "outputId": "8b5fbd9b-96bc-4b57-83f7-302b3def13eb"
      },
      "source": [
        "vize1 = float(input(\"vize1 notu: \"))\n",
        "vize2 = float(input(\"vize2 notu: \"))\n",
        "final = float(input(\"final notu: \"))\n",
        "result = ((vize1 * 0.6) + (vize2 * 0.6))/2 +(final * 0.4)\n",
        "end = (50 < result) and (final < 50) or (70 < final) \n",
        "print(end, result)"
      ],
      "execution_count": null,
      "outputs": [
        {
          "output_type": "stream",
          "text": [
            "vize1 notu: 15\n",
            "vize2 notu: 25\n",
            "final notu: 55\n",
            "False 34.0\n"
          ],
          "name": "stdout"
        }
      ]
    },
    {
      "cell_type": "code",
      "metadata": {
        "id": "7SFO1OVSkJqS",
        "colab": {
          "base_uri": "https://localhost:8080/"
        },
        "outputId": "e1ff063f-7c20-42c7-9ab9-696c6811e1d0"
      },
      "source": [
        "kilo = float(input(\"lütfen kilonuzu giriniz (kg) \"))\n",
        "boy = float(input(\"lütfen boyunuzu giriniz (m) \"))\n",
        "result = kilo/(boy*boy)\n",
        "end0 = (0 < result < 18.4)\n",
        "end1 = (18.5 < result < 24.9)\n",
        "end2 = (25 < result < 29.9) \n",
        "end3 = (30 < result < 34.9) \n",
        "end4 = f\" V.K.İ.: {result} dir.   zayıf: {end0},  normal: {end1},  fazla kilolu: {end2}, obez: {end3}\"\n",
        "print(end4)"
      ],
      "execution_count": null,
      "outputs": [
        {
          "output_type": "stream",
          "text": [
            "lütfen kilonuzu giriniz (kg) 75\n",
            "lütfen boyunuzu giriniz (m) 1.77\n",
            " 23.93948099205209 :   zayıf: False,  normal: True,  fazla kilolu: False,    obez: False\n"
          ],
          "name": "stdout"
        }
      ]
    },
    {
      "cell_type": "code",
      "metadata": {
        "id": "Vl7YokEBkJm5",
        "colab": {
          "base_uri": "https://localhost:8080/"
        },
        "outputId": "787c4d51-7abd-47d3-f8ae-2dae0ce6f613"
      },
      "source": [
        "x = [1, 2, 3]     # is ve in operatürleri (aynı adrestemidir diye sorgular)\n",
        "y = [1, 2, 3]\n",
        "print(x is y)"
      ],
      "execution_count": null,
      "outputs": [
        {
          "output_type": "stream",
          "text": [
            "False\n"
          ],
          "name": "stdout"
        }
      ]
    },
    {
      "cell_type": "code",
      "metadata": {
        "id": "4bUXKzkXkJkE",
        "colab": {
          "base_uri": "https://localhost:8080/"
        },
        "outputId": "450ce935-7b23-49f3-db5e-a13311ebc2e9"
      },
      "source": [
        "liste = [\"apple\", \"banana\"]\n",
        "print(\"apple\" in liste)\n",
        "print(\"charry\" in liste)"
      ],
      "execution_count": null,
      "outputs": [
        {
          "output_type": "stream",
          "text": [
            "True\n",
            "False\n"
          ],
          "name": "stdout"
        }
      ]
    },
    {
      "cell_type": "code",
      "metadata": {
        "id": "8D7xS_-TkJgt",
        "colab": {
          "base_uri": "https://localhost:8080/"
        },
        "outputId": "f6425fdd-1cc7-4447-de25-934a3349a293"
      },
      "source": [
        "x = 22\n",
        "y = 28\n",
        "if x > y:\n",
        "  print(\"x y den büyüktür\")\n",
        "elif x == y:\n",
        "  print(\"x y ye eşittir\")\n",
        "else:\n",
        "  print(\"y x ten büyüktür\")"
      ],
      "execution_count": null,
      "outputs": [
        {
          "output_type": "stream",
          "text": [
            "y x ten büyüktür\n"
          ],
          "name": "stdout"
        }
      ]
    },
    {
      "cell_type": "code",
      "metadata": {
        "id": "D1YUwpzbkJdU",
        "colab": {
          "base_uri": "https://localhost:8080/"
        },
        "outputId": "a62b1bc4-eaad-4dfe-b077-00b2b3791560"
      },
      "source": [
        "isim = input(\"isminizi giriniz \")\n",
        "yaş = int(input(\"yaşınızı giriniz \"))\n",
        "eğitim = input(\"eğitim durumunuz \")\n",
        "if (yaş >= 18) and (eğitim == \"lise\") or (eğitim == \"üniversite\"):\n",
        "  print(\"ehliyet alabilirsınız\")\n",
        "else:\n",
        "  print(\"ehliyet alamazsınız\")"
      ],
      "execution_count": null,
      "outputs": [
        {
          "output_type": "stream",
          "text": [
            "isminizi giriniz ali\n",
            "yaşınızı giriniz 17\n",
            "eğitim durumunuz lise\n",
            "ehliyet alamazsınız\n"
          ],
          "name": "stdout"
        }
      ]
    },
    {
      "cell_type": "code",
      "metadata": {
        "id": "N53kUxBdkJab",
        "colab": {
          "base_uri": "https://localhost:8080/"
        },
        "outputId": "66637a1f-679d-448c-9dab-8e5a860a4ea5"
      },
      "source": [
        "yazılı1 = int(input(\"birinci yazılı \"))\n",
        "yazılı2 = int(input(\"ikinci yazılı \"))\n",
        "sözlü = int(input(\"sözlü notu \"))\n",
        "x = (yazılı1 + yazılı2 + sözlü)/3\n",
        "if (0 < x <= 24):\n",
        "  print(\"ortalamanız:\", x, \"notunuz:\", 0)\n",
        "elif (25 < x <= 44):\n",
        "  print(\"ortalamanız:\", x, \"notunuz:\", 1)\n",
        "elif (45 < x <= 54):\n",
        "  print(\"ortalamanız:\", x, \"notunuz:\", 2)\n",
        "elif (55 < x <= 69):\n",
        "  print(\"ortalamanız:\", x, \"notunuz:\", 3)\n",
        "elif (70 < x <= 84):\n",
        "  print(\"ortalamanız:\", x, \"notunuz:\", 4)\n",
        "elif (85 < x <= 100):\n",
        "  print(\"ortalamanız:\", x, \"notunuz:\", 5)\n",
        "else:\n",
        "  print(\"yanlış bilgi girdiniz\")\n"
      ],
      "execution_count": null,
      "outputs": [
        {
          "output_type": "stream",
          "text": [
            "birinci yazılı 44\n",
            "ikinci yazılı 44\n",
            "sözlü notu 55\n",
            "ortalamanız: 47.666666666666664 notunuz: 2\n"
          ],
          "name": "stdout"
        }
      ]
    },
    {
      "cell_type": "code",
      "metadata": {
        "id": "CMYcbrS0kJXd",
        "colab": {
          "base_uri": "https://localhost:8080/"
        },
        "outputId": "fecd07c1-3092-475f-8704-ed60962434a4"
      },
      "source": [
        "import datetime\n",
        "tarih = input(\"t.ç. tarihi giriniz (xxxx/x/x) \")\n",
        "tarih = tarih.split(\"/\")\n",
        "tç = datetime.datetime(int(tarih[0]), int(tarih[1]), int(tarih[2]))\n",
        "bg = datetime.datetime.now()\n",
        "fark = bg - tç\n",
        "days = fark.days\n",
        "\n",
        "if (365 <= days < 2*365):\n",
        "  print(\"1. servis yılı \")\n",
        "elif (days > 365) and (days <= 2*365):\n",
        "  print(\"2. servis yılı \")\n",
        "elif (days > 2*365) and (days <= 3*365):\n",
        "  print(\"3. servis yılı \")\n",
        "else:\n",
        "  print(fark, \"servis tarihi aralığında değilsiniz\")\n",
        "\n",
        "\n"
      ],
      "execution_count": null,
      "outputs": [
        {
          "output_type": "stream",
          "text": [
            "t.ç. tarihi giriniz (xxxx/x/x) 2017/7/7\n",
            "1369 days, 18:32:51.705459 servis tarih aralığında değilsiniz\n"
          ],
          "name": "stdout"
        }
      ]
    },
    {
      "cell_type": "code",
      "metadata": {
        "id": "Alj5ri8VkJUg",
        "colab": {
          "base_uri": "https://localhost:8080/"
        },
        "outputId": "9ba6549f-5bac-4ac3-b5f0-1cdf175bafc3"
      },
      "source": [
        "import datetime\n",
        "time = datetime.datetime.now()\n",
        "print(time)\n"
      ],
      "execution_count": null,
      "outputs": [
        {
          "output_type": "stream",
          "text": [
            "2021-04-05 18:10:04.472993\n"
          ],
          "name": "stdout"
        }
      ]
    },
    {
      "cell_type": "code",
      "metadata": {
        "id": "U4lqunJYkJLF",
        "colab": {
          "base_uri": "https://localhost:8080/"
        },
        "outputId": "475d524d-ab67-41c2-baa7-fe78e58255ca"
      },
      "source": [
        "sayı = float(input(\"bir sayı giriniz \"))\n",
        "if 0 < sayı and sayı < 100:\n",
        "  print(\"bu sayı 0 ile 100 arasındadır\")\n",
        "else:\n",
        "  print(\"bu sayı 0 ile 100 arasında değil\")\n"
      ],
      "execution_count": null,
      "outputs": [
        {
          "output_type": "stream",
          "text": [
            "bir sayı giriniz 333\n",
            "bu sayı 0 ile 100 arasında değil\n"
          ],
          "name": "stdout"
        }
      ]
    },
    {
      "cell_type": "code",
      "metadata": {
        "id": "OLk0oLWZbWPp",
        "colab": {
          "base_uri": "https://localhost:8080/"
        },
        "outputId": "ed8b2ab4-3741-4bcb-eb11-5d62751adb98"
      },
      "source": [
        "numbers = [1, 2, 3, 4, 5] # for döngüsü\n",
        "for x in numbers:\n",
        "  print(x)\n"
      ],
      "execution_count": null,
      "outputs": [
        {
          "output_type": "stream",
          "text": [
            "1\n",
            "2\n",
            "3\n",
            "4\n",
            "5\n"
          ],
          "name": "stdout"
        }
      ]
    },
    {
      "cell_type": "code",
      "metadata": {
        "id": "CH8ZMvQybWIB",
        "colab": {
          "base_uri": "https://localhost:8080/"
        },
        "outputId": "bbc023e7-ecf1-461e-9c55-c9059626374e"
      },
      "source": [
        "numbers = [1, 2, 3, 4, 5]\n",
        "for x in numbers:\n",
        "  print(\"hello\")\n"
      ],
      "execution_count": null,
      "outputs": [
        {
          "output_type": "stream",
          "text": [
            "hello\n",
            "hello\n",
            "hello\n",
            "hello\n",
            "hello\n"
          ],
          "name": "stdout"
        }
      ]
    },
    {
      "cell_type": "code",
      "metadata": {
        "colab": {
          "base_uri": "https://localhost:8080/"
        },
        "id": "Ki-Y-YOTC5VK",
        "outputId": "86f1740c-f6dd-4176-9126-1bbe5647b347"
      },
      "source": [
        "for x in range(5):\n",
        "  print(x)"
      ],
      "execution_count": null,
      "outputs": [
        {
          "output_type": "stream",
          "text": [
            "0\n",
            "1\n",
            "2\n",
            "3\n",
            "4\n"
          ],
          "name": "stdout"
        }
      ]
    },
    {
      "cell_type": "code",
      "metadata": {
        "id": "b1s6M_l5bWCt",
        "colab": {
          "base_uri": "https://localhost:8080/"
        },
        "outputId": "75faa7a2-8038-459f-e48d-6806c574b766"
      },
      "source": [
        "names = [\"enes\", \"furkan\", \"kaya\"]\n",
        "for name in names:\n",
        "  print(f\"my name is {name}\")"
      ],
      "execution_count": null,
      "outputs": [
        {
          "output_type": "stream",
          "text": [
            "my name is enes\n",
            "my name is furkan\n",
            "my name is kaya\n"
          ],
          "name": "stdout"
        }
      ]
    },
    {
      "cell_type": "code",
      "metadata": {
        "id": "1V5D47dGbV-D",
        "colab": {
          "base_uri": "https://localhost:8080/"
        },
        "outputId": "b79c9a65-5249-4d1e-c814-d59ba96e0932"
      },
      "source": [
        "sayılar = [1, 3, 5, 7, 9, 12, 19, 21]\n",
        "for d in sayılar:\n",
        "  if (d % 3 == 0):\n",
        "    print(d)"
      ],
      "execution_count": null,
      "outputs": [
        {
          "output_type": "stream",
          "text": [
            "3\n",
            "9\n",
            "12\n",
            "21\n"
          ],
          "name": "stdout"
        }
      ]
    },
    {
      "cell_type": "code",
      "metadata": {
        "id": "uWrnIdo8bV6a",
        "colab": {
          "base_uri": "https://localhost:8080/"
        },
        "outputId": "df716b31-0dc5-4cc4-f1be-02ca745540d2"
      },
      "source": [
        "sayılar = [1, 3, 5, 7, 9, 12, 19, 21]        #sayaç işlemi\n",
        "toplam = 0\n",
        "for sayı in sayılar:\n",
        "    toplam += sayı   # toplam = toplam + sayı\n",
        "print(toplam)"
      ],
      "execution_count": null,
      "outputs": [
        {
          "output_type": "stream",
          "text": [
            "77\n"
          ],
          "name": "stdout"
        }
      ]
    },
    {
      "cell_type": "code",
      "metadata": {
        "id": "vZKBB6IybV2B",
        "colab": {
          "base_uri": "https://localhost:8080/"
        },
        "outputId": "49a112c2-d21b-4b45-d1b2-fdb88badd2f3"
      },
      "source": [
        "sayılar = [1, 3, 5, 7, 9, 12, 19, 21]\n",
        "for sayı in sayılar:\n",
        "  if (sayı % 2 == 1):\n",
        "    print(sayı**2)\n",
        "\n"
      ],
      "execution_count": null,
      "outputs": [
        {
          "output_type": "stream",
          "text": [
            "1\n",
            "9\n",
            "25\n",
            "49\n",
            "81\n",
            "361\n",
            "441\n"
          ],
          "name": "stdout"
        }
      ]
    },
    {
      "cell_type": "code",
      "metadata": {
        "id": "bz8X2Cp2bVxs",
        "colab": {
          "base_uri": "https://localhost:8080/"
        },
        "outputId": "b8911626-6576-4c36-fa09-6ad81de0fdca"
      },
      "source": [
        "şehirler = [\"istanbul\", \"ankara\", \"van\", \"kocaeli\", \"rize\"]\n",
        "for sehir in şehirler:\n",
        "  if (len(sehir) <= 5):\n",
        "    print(sehir)"
      ],
      "execution_count": null,
      "outputs": [
        {
          "output_type": "stream",
          "text": [
            "van\n",
            "rize\n"
          ],
          "name": "stdout"
        }
      ]
    },
    {
      "cell_type": "code",
      "metadata": {
        "id": "spPnhlSebVsC",
        "colab": {
          "base_uri": "https://localhost:8080/"
        },
        "outputId": "8a859cd0-d75d-4d00-91c0-d20efb11d45e"
      },
      "source": [
        "# 1 - 10 e kadar\n",
        "x = 0\n",
        "while x < 10:\n",
        "  print(x)\n",
        "  x = x + 1\n",
        "print(\"Bitti....\")"
      ],
      "execution_count": null,
      "outputs": [
        {
          "output_type": "stream",
          "text": [
            "0\n",
            "1\n",
            "2\n",
            "3\n",
            "4\n",
            "5\n",
            "6\n",
            "7\n",
            "8\n",
            "9\n",
            "Bitti....\n"
          ],
          "name": "stdout"
        }
      ]
    },
    {
      "cell_type": "code",
      "metadata": {
        "id": "nwtgvIefbVly",
        "colab": {
          "base_uri": "https://localhost:8080/"
        },
        "outputId": "c1ffe514-7501-416a-da3c-8a5d62932294"
      },
      "source": [
        "x = 0\n",
        "while x <= 10:\n",
        "  if x % 2 == 0:\n",
        "    print(x)\n",
        "  x += 1\n",
        "print(\"Bitti......\")"
      ],
      "execution_count": null,
      "outputs": [
        {
          "output_type": "stream",
          "text": [
            "0\n",
            "2\n",
            "4\n",
            "6\n",
            "8\n",
            "10\n",
            "Bitti......\n"
          ],
          "name": "stdout"
        }
      ]
    },
    {
      "cell_type": "code",
      "metadata": {
        "id": "ntvinpeAbVZl",
        "colab": {
          "base_uri": "https://localhost:8080/"
        },
        "outputId": "9e125716-43d6-4421-9e23-7e76eef58627"
      },
      "source": [
        "name = \"\" #false\n",
        "while not name:\n",
        "  name = input(\"isminizi giriniz \")\n",
        "  print(f\"merhaba {name}\")"
      ],
      "execution_count": null,
      "outputs": [
        {
          "output_type": "stream",
          "text": [
            "isminizi giriniz elf\n",
            "merhaba elf\n"
          ],
          "name": "stdout"
        }
      ]
    },
    {
      "cell_type": "code",
      "metadata": {
        "colab": {
          "base_uri": "https://localhost:8080/"
        },
        "id": "czr0npCNMQ-W",
        "outputId": "5d2c2c58-022b-4281-9096-e3ef8e4a798b"
      },
      "source": [
        "name = input(\"isminizi giriniz \")\n",
        "print(f\"merhaba {name}\")"
      ],
      "execution_count": null,
      "outputs": [
        {
          "output_type": "stream",
          "text": [
            "isminizi giriniz rgr\n",
            "merhaba rgr\n"
          ],
          "name": "stdout"
        }
      ]
    },
    {
      "cell_type": "code",
      "metadata": {
        "colab": {
          "base_uri": "https://localhost:8080/"
        },
        "id": "s_7HJTzhhAf_",
        "outputId": "3e386bcb-6986-4a5b-8e23-635436374816"
      },
      "source": [
        "name = \" \"\n",
        "while not name.strip():\n",
        "  name = input(\"isminizi giriniz \")\n",
        "  print(name)"
      ],
      "execution_count": null,
      "outputs": [
        {
          "output_type": "stream",
          "text": [
            "isminizi giriniz bhsdl\n",
            "bhsdl\n"
          ],
          "name": "stdout"
        }
      ]
    },
    {
      "cell_type": "code",
      "metadata": {
        "colab": {
          "base_uri": "https://localhost:8080/"
        },
        "id": "mMESR7vFhAcl",
        "outputId": "944ed134-bdeb-492a-fc46-6cb66e5b924d"
      },
      "source": [
        "sayılar = [1,3,5,7,9,12,19,21]\n",
        "i = 0\n",
        "while (i < len(sayılar)):\n",
        "  print(sayılar[i])\n",
        "  i += 1"
      ],
      "execution_count": null,
      "outputs": [
        {
          "output_type": "stream",
          "text": [
            "1\n",
            "3\n",
            "5\n",
            "7\n",
            "9\n",
            "12\n",
            "19\n",
            "21\n"
          ],
          "name": "stdout"
        }
      ]
    },
    {
      "cell_type": "code",
      "metadata": {
        "colab": {
          "base_uri": "https://localhost:8080/"
        },
        "id": "jep4nokIhAZ1",
        "outputId": "55f89550-b4fa-41c9-c50a-5aeb3f89674f"
      },
      "source": [
        "sayı1 = int(input(\"ilk sayıyı giriniz \"))\n",
        "sayı2 = int(input(\"bir sayı daha giriniz \"))\n",
        "i = sayı1\n",
        "while i < sayı2:\n",
        "    i += 1\n",
        "    if (i % 2 == 1):\n",
        "      print(i)"
      ],
      "execution_count": null,
      "outputs": [
        {
          "output_type": "stream",
          "text": [
            "ilk sayıyı giriniz 3\n",
            "bir sayı daha giriniz 13\n",
            "5\n",
            "7\n",
            "9\n",
            "11\n",
            "13\n"
          ],
          "name": "stdout"
        }
      ]
    },
    {
      "cell_type": "code",
      "metadata": {
        "colab": {
          "base_uri": "https://localhost:8080/"
        },
        "id": "Oh_JmgOvhAVk",
        "outputId": "96eaef20-6ddc-4e1f-9300-8a612803bbf2"
      },
      "source": [
        "letters = ['a', 'b', 'c', 'd', 'e', 'f', 'g', 'h', 'i', 'j']\n",
        "print(letters[7:3:-1])\n",
        "print(letters[2:6:-1])"
      ],
      "execution_count": null,
      "outputs": [
        {
          "output_type": "stream",
          "text": [
            "['h', 'g', 'f', 'e']\n",
            "[]\n"
          ],
          "name": "stdout"
        }
      ]
    },
    {
      "cell_type": "code",
      "metadata": {
        "colab": {
          "base_uri": "https://localhost:8080/"
        },
        "id": "Sg9wtadhhASu",
        "outputId": "99bbcd87-9341-4af1-90a9-4a1af9fd583d"
      },
      "source": [
        "şehirler = [\"van\", \"istanbul\", \"bursa\"]\n",
        "print(sorted(şehirler, key = len))"
      ],
      "execution_count": null,
      "outputs": [
        {
          "output_type": "stream",
          "text": [
            "['van', 'bursa', 'istanbul']\n"
          ],
          "name": "stdout"
        }
      ]
    },
    {
      "cell_type": "code",
      "metadata": {
        "colab": {
          "base_uri": "https://localhost:8080/"
        },
        "id": "KKC8INvahAPl",
        "outputId": "8c9cbef3-0c33-4606-e89e-3018728ede8a"
      },
      "source": [
        "şehirler = [\"van\", \"istanbul\", \"bursa\", \"diyarbakır\"]\n",
        "print(sorted(şehirler, key=len, reverse=True))"
      ],
      "execution_count": null,
      "outputs": [
        {
          "output_type": "stream",
          "text": [
            "['istanbul', 'bursa', 'van']\n"
          ],
          "name": "stdout"
        }
      ]
    },
    {
      "cell_type": "code",
      "metadata": {
        "colab": {
          "base_uri": "https://localhost:8080/"
        },
        "id": "AjXnzdAPhAL-",
        "outputId": "b0ef7d65-fefb-4bdc-f89f-8564314d2c15"
      },
      "source": [
        "şehirler = [\"van\", \"istanbul\", \"bursa\", \"diyarbakır\"]\n",
        "şehirler.sort(key=len, reverse=True)\n",
        "print(şehirler)"
      ],
      "execution_count": null,
      "outputs": [
        {
          "output_type": "stream",
          "text": [
            "['diyarbakır', 'istanbul', 'bursa', 'van']\n"
          ],
          "name": "stdout"
        }
      ]
    },
    {
      "cell_type": "code",
      "metadata": {
        "colab": {
          "base_uri": "https://localhost:8080/"
        },
        "id": "Hel9VLP3hAIf",
        "outputId": "8fc0aff7-233a-4031-ac56-116e845309c5"
      },
      "source": [
        "şehirler = (\"van\", \"istanbul\", \"bursa\", \"diyarbakır\")\n",
        "print(şehirler)\n",
        "print(type(şehirler))"
      ],
      "execution_count": null,
      "outputs": [
        {
          "output_type": "stream",
          "text": [
            "('van', 'istanbul', 'bursa', 'diyarbakır')\n",
            "<class 'tuple'>\n"
          ],
          "name": "stdout"
        }
      ]
    },
    {
      "cell_type": "code",
      "metadata": {
        "colab": {
          "base_uri": "https://localhost:8080/"
        },
        "id": "c2Ue5Absg_55",
        "outputId": "82e620bd-cd21-4dde-91a4-24fd3d398624"
      },
      "source": [
        "tuple = ()\n",
        "print(tuple)"
      ],
      "execution_count": null,
      "outputs": [
        {
          "output_type": "stream",
          "text": [
            "()\n"
          ],
          "name": "stdout"
        }
      ]
    },
    {
      "cell_type": "code",
      "metadata": {
        "colab": {
          "base_uri": "https://localhost:8080/"
        },
        "id": "1aFdfvaujsuO",
        "outputId": "bfac01a6-b311-4102-c40d-55692b90a2bf"
      },
      "source": [
        "x = 1, 2, 3\n",
        "print(x)\n",
        "print(type(x))\n"
      ],
      "execution_count": null,
      "outputs": [
        {
          "output_type": "stream",
          "text": [
            "(1, 2, 3)\n",
            "<class 'tuple'>\n"
          ],
          "name": "stdout"
        }
      ]
    },
    {
      "cell_type": "code",
      "metadata": {
        "colab": {
          "base_uri": "https://localhost:8080/"
        },
        "id": "kPuIXzEajspC",
        "outputId": "ddcd2491-dbbb-4ef5-c959-962a05736c63"
      },
      "source": [
        "sayılar = [1,2,3,4,5,6,7,8,9,10]\n",
        "i = 0\n",
        "while (i < len(sayılar)):\n",
        "      \n",
        "      print(sayılar[i])\n",
        "      i += 1"
      ],
      "execution_count": null,
      "outputs": [
        {
          "output_type": "stream",
          "text": [
            "1\n",
            "2\n",
            "3\n",
            "4\n",
            "5\n",
            "6\n",
            "7\n",
            "8\n",
            "9\n",
            "10\n"
          ],
          "name": "stdout"
        }
      ]
    },
    {
      "cell_type": "code",
      "metadata": {
        "colab": {
          "base_uri": "https://localhost:8080/"
        },
        "id": "t44eNXMOjsgr",
        "outputId": "fb589648-db34-4e56-9456-71b6e8ad2df3"
      },
      "source": [
        "şehirler = [400, 500, 2]\n",
        "i = 0\n",
        "while (i < len(şehirler)):\n",
        "  print(şehirler[i])\n",
        "  i += 1"
      ],
      "execution_count": null,
      "outputs": [
        {
          "output_type": "stream",
          "text": [
            "400\n",
            "500\n",
            "2\n"
          ],
          "name": "stdout"
        }
      ]
    },
    {
      "cell_type": "code",
      "metadata": {
        "colab": {
          "base_uri": "https://localhost:8080/"
        },
        "id": "kIfBw8g1jsVF",
        "outputId": "ebbc5bcd-9a48-4a82-a888-dddb6303c169"
      },
      "source": [
        "sayı1 = int(input(\"bir sayı giriniz \"))\n",
        "sayı2 = int(input(\"bir sayı daha giriniz \"))\n",
        "i = sayı1\n",
        "while (sayı1 <= i <= sayı2):\n",
        "  if (i % 2 == 1):\n",
        "    print(i)\n",
        "  i += 1"
      ],
      "execution_count": null,
      "outputs": [
        {
          "output_type": "stream",
          "text": [
            "bir sayı giriniz 4\n",
            "bir sayı daha giriniz 11\n",
            "5\n",
            "7\n",
            "9\n",
            "11\n"
          ],
          "name": "stdout"
        }
      ]
    },
    {
      "cell_type": "code",
      "metadata": {
        "colab": {
          "base_uri": "https://localhost:8080/"
        },
        "id": "ezhdLlvT_fWs",
        "outputId": "823505ca-e5af-4492-880d-47aca1e6cbec"
      },
      "source": [
        "i = 20\n",
        "while (0 <= i):\n",
        " \n",
        "  print(i)\n",
        "  i -= 1"
      ],
      "execution_count": null,
      "outputs": [
        {
          "output_type": "stream",
          "text": [
            "20\n",
            "19\n",
            "18\n",
            "17\n",
            "16\n",
            "15\n",
            "14\n",
            "13\n",
            "12\n",
            "11\n",
            "10\n",
            "9\n",
            "8\n",
            "7\n",
            "6\n",
            "5\n",
            "4\n",
            "3\n",
            "2\n",
            "1\n",
            "0\n"
          ],
          "name": "stdout"
        }
      ]
    },
    {
      "cell_type": "code",
      "metadata": {
        "colab": {
          "base_uri": "https://localhost:8080/"
        },
        "id": "JDndasUY_fSf",
        "outputId": "03c262ff-cf4e-42ec-9e11-4a95b675692e"
      },
      "source": [
        "numbers = []\n",
        "i = 0\n",
        "while i < 5:\n",
        "  a = int(input(\"bir sayı giriniz \"))\n",
        "  numbers.append(a)\n",
        "  i += 1\n",
        "numbers.sort()\n",
        "print(numbers)\n",
        "\n"
      ],
      "execution_count": null,
      "outputs": [
        {
          "output_type": "stream",
          "text": [
            "bir sayı giriniz 33\n",
            "bir sayı giriniz 44\n",
            "bir sayı giriniz 11\n",
            "bir sayı giriniz 99\n",
            "bir sayı giriniz 55\n",
            "[11, 33, 44, 55, 99]\n"
          ],
          "name": "stdout"
        }
      ]
    },
    {
      "cell_type": "code",
      "metadata": {
        "id": "Q34xkg4V_fOC",
        "colab": {
          "base_uri": "https://localhost:8080/"
        },
        "outputId": "cb84ea32-eaf8-4bf4-d8cd-18dacd00f281"
      },
      "source": [
        "fruits = ['Apples', 'Oranges', 'Bananas']\n",
        "quantities = [5, 3, 4]\n",
        "prices = [1.50, 2.25, 0.89]\n",
        "i = 0\n",
        "output = []\n",
        "for fruit in fruits:\n",
        " temp_qty = quantities[i]\n",
        " temp_price = prices[i]\n",
        " output.append((fruit, temp_qty, temp_price))\n",
        " i += 1\n",
        "print(output)"
      ],
      "execution_count": null,
      "outputs": [
        {
          "output_type": "stream",
          "text": [
            "[('Apples', 5, 1.5), ('Oranges', 3, 2.25), ('Bananas', 4, 0.89)]\n"
          ],
          "name": "stdout"
        }
      ]
    },
    {
      "cell_type": "code",
      "metadata": {
        "id": "l0qQC5cL_fKW",
        "colab": {
          "base_uri": "https://localhost:8080/"
        },
        "outputId": "3d053c22-cce4-4985-ce9d-5ee9849b9a62"
      },
      "source": [
        "sehir1 = \"Ankara\"\n",
        "nüfus = 1000\n",
        "sehirler = {1 : \"sehir\" , 2 : \"sehir1\" , \"nüfusum\" : \"nüfus\"}\n",
        "print(sehirler)\n",
        "print(sehirler[2])\n"
      ],
      "execution_count": null,
      "outputs": [
        {
          "output_type": "stream",
          "text": [
            "{1: 'sehir', 2: 'sehir1', 'nüfusum': 'nüfus'}\n",
            "sehir1\n"
          ],
          "name": "stdout"
        }
      ]
    },
    {
      "cell_type": "code",
      "metadata": {
        "id": "MjQDmgPg_fGK",
        "colab": {
          "base_uri": "https://localhost:8080/"
        },
        "outputId": "a18d571a-ea76-4fd8-d4d9-1c767da81317"
      },
      "source": [
        "state_capitals = {'Arkansas': 'Little Rock',\n",
        "'Colorado': 'Denver',\n",
        "'California': 'Sacramento',\n",
        "'Georgia': 'Atlanta'}\n",
        "state_capitals['Virginia'] = 'Richmond' # adding a new item\n",
        "print(state_capitals)"
      ],
      "execution_count": null,
      "outputs": [
        {
          "output_type": "stream",
          "text": [
            "{'Arkansas': 'Little Rock', 'Colorado': 'Denver', 'California': 'Sacramento', 'Georgia': 'Atlanta', 'Virginia': 'Richmond'}\n"
          ],
          "name": "stdout"
        }
      ]
    },
    {
      "cell_type": "code",
      "metadata": {
        "id": "YYf40x24_fCB",
        "colab": {
          "base_uri": "https://localhost:8080/"
        },
        "outputId": "217d99cc-2a35-499b-8047-404125e889d6"
      },
      "source": [
        "family = {\"wife\" : \"canan\", \"son\" : \"enes\", \"son2\" : \"furkan\"}\n",
        "print(family)\n"
      ],
      "execution_count": null,
      "outputs": [
        {
          "output_type": "stream",
          "text": [
            "{'wife': 'canan', 'son': 'enes', 'son2': 'furkan'}\n"
          ],
          "name": "stdout"
        }
      ]
    },
    {
      "cell_type": "code",
      "metadata": {
        "id": "gsAoV0U0_e-Z",
        "colab": {
          "base_uri": "https://localhost:8080/"
        },
        "outputId": "e5251f7c-b45b-4c0a-f4ca-6606552a35e5"
      },
      "source": [
        "family =  {\n",
        "  \"name1\": \"Mesut\",\n",
        "  \"name2\": \"Pınar\",\n",
        "  \"name3\": \"ümit\",\n",
        "  \"name4\": \"cevdet\"\n",
        "}\n",
        "print(family)"
      ],
      "execution_count": null,
      "outputs": [
        {
          "output_type": "stream",
          "text": [
            "{'name1': 'Mesut', 'name2': 'Pınar', 'name3': 'ümit', 'name4': 'cevdet'}\n"
          ],
          "name": "stdout"
        }
      ]
    },
    {
      "cell_type": "code",
      "metadata": {
        "id": "Lmqth2fb_e1-",
        "colab": {
          "base_uri": "https://localhost:8080/"
        },
        "outputId": "a0109cbc-9fae-4103-d4f9-aec5dc56da19"
      },
      "source": [
        "family = {\"wife\" : \"canan\", \"son\" : \"enes\", \"son2\" : \"furkan\"}\n",
        "print(family[\"wife\"])"
      ],
      "execution_count": null,
      "outputs": [
        {
          "output_type": "stream",
          "text": [
            "canan\n"
          ],
          "name": "stdout"
        }
      ]
    },
    {
      "cell_type": "code",
      "metadata": {
        "colab": {
          "base_uri": "https://localhost:8080/"
        },
        "id": "GcNJJ9kU9ZvS",
        "outputId": "e5fd9e87-8082-44bd-c172-bd3c01aaad94"
      },
      "source": [
        "family = dict(wife = \"canan\", son = \"enes\", son2 = \"furkan\")  \n",
        "\n",
        "print(family)"
      ],
      "execution_count": null,
      "outputs": [
        {
          "output_type": "stream",
          "text": [
            "{'wife': 'canan', 'son': 'enes', 'son2': 'furkan'}\n"
          ],
          "name": "stdout"
        }
      ]
    },
    {
      "cell_type": "code",
      "metadata": {
        "colab": {
          "base_uri": "https://localhost:8080/"
        },
        "id": "vOqzTcS99ZsZ",
        "outputId": "0554a72a-5e18-44ae-a65a-29182d331da0"
      },
      "source": [
        "family = {\"wife\" : \"canan\", \"son\" : \"enes\", \"son2\" : \"furkan\"}      # yeni item ekleme\n",
        "family[\"cat\"] = \"lenny\"\n",
        "print(family)"
      ],
      "execution_count": null,
      "outputs": [
        {
          "output_type": "stream",
          "text": [
            "{'wife': 'canan', 'son': 'enes', 'son2': 'furkan', 'cat': 'lenny'}\n"
          ],
          "name": "stdout"
        }
      ]
    },
    {
      "cell_type": "code",
      "metadata": {
        "colab": {
          "base_uri": "https://localhost:8080/"
        },
        "id": "mQgtwVFM9ZpU",
        "outputId": "fbf577b7-4f47-4913-9333-34b8d3741e5e"
      },
      "source": [
        "dict_by_dict = dict(animal='dog', planet='neptun', number=40, pi=3.14, is_good=True)\n",
        "print(dict_by_dict)"
      ],
      "execution_count": null,
      "outputs": [
        {
          "output_type": "stream",
          "text": [
            "{'animal': 'dog', 'planet': 'neptun', 'number': 40, 'pi': 3.14, 'is_good': True}\n"
          ],
          "name": "stdout"
        }
      ]
    },
    {
      "cell_type": "code",
      "metadata": {
        "colab": {
          "base_uri": "https://localhost:8080/"
        },
        "id": "8fQBbEP69Zlt",
        "outputId": "e8f5c9ee-9e2c-4553-9673-23caf3dc87d7"
      },
      "source": [
        "family = {\"name1\" : \"canan\",\n",
        "         \"name2\" : \"enes\",                # dict te del ile silme \n",
        "         \"name3\" : \"furkan\"}\n",
        "del family['name2'], family['name3']\n",
        "print(list(family))\n",
        "print(list(family.items()))\n",
        "print(family.values())\n",
        "print(family.keys())\n"
      ],
      "execution_count": null,
      "outputs": [
        {
          "output_type": "stream",
          "text": [
            "['name1']\n",
            "[('name1', 'canan')]\n",
            "dict_values(['canan'])\n",
            "dict_keys(['name1'])\n"
          ],
          "name": "stdout"
        }
      ]
    },
    {
      "cell_type": "code",
      "metadata": {
        "colab": {
          "base_uri": "https://localhost:8080/"
        },
        "id": "IAGIa6bi9Zi6",
        "outputId": "f4ed2d53-bbc5-4d01-d37e-846c4b06859f"
      },
      "source": [
        "family = dict(name1 = \"Selo\", name2 = \"Gülo\", name3 = \"Buro\", name4 = 'Berko', name5 = 'Mira')\n",
        "team = {1: \"football\", 1: \"basketball\"}\n",
        "family.update(team)\n",
        "print(family)"
      ],
      "execution_count": null,
      "outputs": [
        {
          "output_type": "stream",
          "text": [
            "{'name1': 'Selo', 'name2': 'Gülo', 'name3': 'Buro', 'name4': 'Berko', 'name5': 'Mira', 1: 'basketball'}\n"
          ],
          "name": "stdout"
        }
      ]
    },
    {
      "cell_type": "code",
      "metadata": {
        "colab": {
          "base_uri": "https://localhost:8080/"
        },
        "id": "B3pA-N_o9Zf6",
        "outputId": "ceb97769-1117-4e2a-8708-79d889407d4b"
      },
      "source": [
        "family = {\"name1\" : \"canan\",\n",
        "         \"name2\" : \"enes\",                # dict te del ile silme \n",
        "         \"name3\" : \"furkan\"}\n",
        "del family['name2']\n",
        "del family['name3']\n",
        "print(family)"
      ],
      "execution_count": null,
      "outputs": [
        {
          "output_type": "stream",
          "text": [
            "{'name1': 'canan'}\n"
          ],
          "name": "stdout"
        }
      ]
    },
    {
      "cell_type": "code",
      "metadata": {
        "colab": {
          "base_uri": "https://localhost:8080/"
        },
        "id": "6t-JS9Hj9Zce",
        "outputId": "e7dcc37c-d9e4-47be-f968-18ff09f389fc"
      },
      "source": [
        "school_records={\n",
        "    \"personal_info\":\n",
        "        {\"kid\":{\"tom\": {\"class\": \"intermediate\", \"age\": 10},\n",
        "                \"sue\": {\"class\": \"elementary\", \"age\": 8}\n",
        "               },\n",
        "         \"teen\":{\"joseph\":{\"class\": \"college\", \"age\": 19},\n",
        "                 \"marry\":{\"class\": \"high school\", \"age\": 16}\n",
        "               },\n",
        "        },\n",
        "    \"grades_info\":\n",
        "        {\"kid\":{\"tom\": {\"math\": 88, \"speech\": 69},\n",
        "                \"sue\": {\"math\": 90, \"speech\": 81}\n",
        "               },\n",
        "         \"teen\":{\"joseph\":{\"coding\": 80, \"math\": 89},\n",
        "                 \"marry\":{\"coding\": 70, \"math\": 96}\n",
        "               },\n",
        "        },\n",
        "}\n",
        "print(school_records)\n",
        "print(school_records['personal_info']['teen']['marry'])\n",
        "print(len (school_records['personal_info']['teen']['marry']))\n"
      ],
      "execution_count": null,
      "outputs": [
        {
          "output_type": "stream",
          "text": [
            "{'personal_info': {'kid': {'tom': {'class': 'intermediate', 'age': 10}, 'sue': {'class': 'elementary', 'age': 8}}, 'teen': {'joseph': {'class': 'college', 'age': 19}, 'marry': {'class': 'high school', 'age': 16}}}, 'grades_info': {'kid': {'tom': {'math': 88, 'speech': 69}, 'sue': {'math': 90, 'speech': 81}}, 'teen': {'joseph': {'coding': 80, 'math': 89}, 'marry': {'coding': 70, 'math': 96}}}}\n",
            "{'class': 'high school', 'age': 16}\n",
            "2\n"
          ],
          "name": "stdout"
        }
      ]
    },
    {
      "cell_type": "code",
      "metadata": {
        "colab": {
          "base_uri": "https://localhost:8080/"
        },
        "id": "rtBiVXCG9ZZS",
        "outputId": "bee176d2-bdcb-46f1-d182-a8e89f61a1e7"
      },
      "source": [
        "set_1 = {'red', 'blue', 'pink', 'red'}\n",
        "colors = 'red', 'blue', 'pink', 'red'\n",
        "set_2 = set(colors)\n",
        "print(set_1)\n",
        "print(set_2)"
      ],
      "execution_count": null,
      "outputs": [
        {
          "output_type": "stream",
          "text": [
            "{'pink', 'blue', 'red'}\n",
            "{'pink', 'blue', 'red'}\n"
          ],
          "name": "stdout"
        }
      ]
    },
    {
      "cell_type": "code",
      "metadata": {
        "id": "7LAjIII69ZVt"
      },
      "source": [
        "letters = {'t', 'j', 'u', 'r', 'n', 'e', 'k', 'v', 'i', 'm', 'o', 's', 'z', 'h', 'g', 'a', 'f', 'c', 'p', 'b', 'd', 'l', 'y'}"
      ],
      "execution_count": null,
      "outputs": []
    },
    {
      "cell_type": "code",
      "metadata": {
        "colab": {
          "base_uri": "https://localhost:8080/"
        },
        "id": "i2ewVhKK9ZSy",
        "outputId": "9bbe7237-9ceb-4878-846f-395273773deb"
      },
      "source": [
        "letter = \"a b c d e f g h i j k l m n o p r s t u v y\"\n",
        "\n",
        "print(set(letter))\n",
        "print(list(letter))"
      ],
      "execution_count": null,
      "outputs": [
        {
          "output_type": "stream",
          "text": [
            "{'b', 'n', 'h', 'y', 'l', 'c', 'i', 'k', 'r', 'p', 'm', 'd', 'u', 'v', 'o', 's', 'g', 'f', 't', 'j', 'a', 'e', ' '}\n",
            "['a', ' ', 'b', ' ', 'c', ' ', 'd', ' ', 'e', ' ', 'f', ' ', 'g', ' ', 'h', ' ', 'i', ' ', 'j', ' ', 'k', ' ', 'l', ' ', 'm', ' ', 'n', ' ', 'o', ' ', 'p', ' ', 'r', ' ', 's', ' ', 't', ' ', 'u', ' ', 'v', ' ', 'y']\n"
          ],
          "name": "stdout"
        }
      ]
    },
    {
      "cell_type": "code",
      "metadata": {
        "colab": {
          "base_uri": "https://localhost:8080/"
        },
        "id": "pieE2oRe9ZPP",
        "outputId": "21b5edaf-dae2-4a0e-b06f-777c23f3e352"
      },
      "source": [
        "1 >= 2"
      ],
      "execution_count": null,
      "outputs": [
        {
          "output_type": "execute_result",
          "data": {
            "text/plain": [
              "False"
            ]
          },
          "metadata": {
            "tags": []
          },
          "execution_count": 69
        }
      ]
    },
    {
      "cell_type": "code",
      "metadata": {
        "colab": {
          "base_uri": "https://localhost:8080/"
        },
        "id": "j2yVIL989ZL5",
        "outputId": "d2b3046b-7c2a-481e-f165-b34da2ee8754"
      },
      "source": [
        "flower_list = ['rose', 'violet', 'carnation', 'rose', 'rose', 'orchid', 'rose', 'orchid']\n",
        "flowerset = set(flower_list)\n",
        "flowerlist = list(flowerset)\n",
        "print(flowerset)\n",
        "print(flowerlist)\n",
        "print(flower_list)"
      ],
      "execution_count": null,
      "outputs": [
        {
          "output_type": "stream",
          "text": [
            "{'violet', 'carnation', 'orchid', 'rose'}\n",
            "['violet', 'carnation', 'orchid', 'rose']\n",
            "['rose', 'violet', 'carnation', 'rose', 'rose', 'orchid', 'rose', 'orchid']\n"
          ],
          "name": "stdout"
        }
      ]
    },
    {
      "cell_type": "code",
      "metadata": {
        "id": "N1e1r7jw9ZH0",
        "colab": {
          "base_uri": "https://localhost:8080/"
        },
        "outputId": "a3acce0b-4e8f-47f6-a359-85a7806e42a1"
      },
      "source": [
        "sales = {\n",
        "  \"cost_value\": 31.87,\n",
        "  \"sell_value\": 45.00,\n",
        "  \"inventory\": 1000\n",
        "}  \n",
        "\n",
        "print(\"$\",(sales[\"sell_value\"] * sales[\"inventory\"]) - (sales[\"cost_value\"] * sales[\"inventory\"]))"
      ],
      "execution_count": null,
      "outputs": [
        {
          "output_type": "stream",
          "text": [
            "$ 13130.0\n"
          ],
          "name": "stdout"
        }
      ]
    },
    {
      "cell_type": "code",
      "metadata": {
        "id": "5eM3sWTw9ZBi",
        "colab": {
          "base_uri": "https://localhost:8080/"
        },
        "outputId": "4639e557-a53e-4f4b-ff34-17c943601aa2"
      },
      "source": [
        " salery = 5000         #digit\n",
        " dolar = 8.30\n",
        " result = float(salery * dolar)\n",
        " print(\"${d:.2f}\" .format(d = result))\n",
        "\n"
      ],
      "execution_count": null,
      "outputs": [
        {
          "output_type": "stream",
          "text": [
            "$41500.00\n"
          ],
          "name": "stdout"
        }
      ]
    },
    {
      "cell_type": "code",
      "metadata": {
        "colab": {
          "base_uri": "https://localhost:8080/"
        },
        "id": "_kWHTmyCDBou",
        "outputId": "4ded580a-b615-473b-bba6-23db7f3f2cf8"
      },
      "source": [
        "a = 200 / 700    #****    digits\n",
        "print(\"{r:.3}\".format(r = a))"
      ],
      "execution_count": null,
      "outputs": [
        {
          "output_type": "stream",
          "text": [
            "0.286\n"
          ],
          "name": "stdout"
        }
      ]
    },
    {
      "cell_type": "code",
      "metadata": {
        "id": "yk1z5wK3DBkw",
        "colab": {
          "base_uri": "https://localhost:8080/"
        },
        "outputId": "364ca896-7ae9-43e3-e71d-8c92d6ee4749"
      },
      "source": [
        "money = float(input())                # digits digit\n",
        "print(\"${:.2f}\".format(money))"
      ],
      "execution_count": null,
      "outputs": [
        {
          "output_type": "stream",
          "text": [
            "444\n",
            "$444.00\n"
          ],
          "name": "stdout"
        }
      ]
    },
    {
      "cell_type": "code",
      "metadata": {
        "id": "jbKmbHnNDBhy",
        "colab": {
          "base_uri": "https://localhost:8080/"
        },
        "outputId": "603dc559-af5f-44dd-8fb9-f551ef54e9f3"
      },
      "source": [
        "numbers = [1, 3, 7, 4, 3, 0, 3, 6, 3]\n",
        "\n",
        "print(\"The most frequent number is {} and it was {} times repeated\".format(max(set(numbers), key = numbers.count), numbers.count(max(set(numbers), key = numbers.count))))"
      ],
      "execution_count": null,
      "outputs": [
        {
          "output_type": "stream",
          "text": [
            "The most frequent number is 3 and it was 4 times repeated\n"
          ],
          "name": "stdout"
        }
      ]
    },
    {
      "cell_type": "code",
      "metadata": {
        "id": "hEh0MdODDBe0",
        "colab": {
          "base_uri": "https://localhost:8080/"
        },
        "outputId": "12e65814-d86d-4de1-f347-88ed9f207f43"
      },
      "source": [
        "left = {\"q\", \"w\", \"e\", \"r\", \"t\", \"a\", \"s\", \"d\", \"f\", \"g\", \"z\", \"x\", \"c\", \"v\", \"b\"} #comfortable words\n",
        "right = {\"y\", \"u\", \"i\", \"o\", \"p\", \"h\", \"j\", \"k\", \"l\", \"n\", \"m\"}\n",
        "word = set(input(\"Please enter word \"))\n",
        "print(\n",
        "      (word.intersection(right) and \n",
        "      (word.intersection(left))))"
      ],
      "execution_count": null,
      "outputs": [
        {
          "output_type": "stream",
          "text": [
            "Please enter word aşk\n",
            "{'a'}\n"
          ],
          "name": "stdout"
        }
      ]
    },
    {
      "cell_type": "code",
      "metadata": {
        "id": "kBCPlezuDBbS",
        "colab": {
          "base_uri": "https://localhost:8080/"
        },
        "outputId": "10ee423e-997a-4f69-feab-0b11570e03c7"
      },
      "source": [
        "lettuce = True\n",
        "chees = True\n",
        "meat = True\n",
        "pepper = False\n",
        "bread = True\n",
        "hamburger = (lettuce or pepper and meat and chees and bread)\n",
        "if hamburger:\n",
        "  print(\"bon apetite\")\n",
        "else:\n",
        "  print()"
      ],
      "execution_count": null,
      "outputs": [
        {
          "output_type": "stream",
          "text": [
            "bon apetite\n"
          ],
          "name": "stdout"
        }
      ]
    },
    {
      "cell_type": "code",
      "metadata": {
        "id": "_3mHUaPEDBX8",
        "colab": {
          "base_uri": "https://localhost:8080/"
        },
        "outputId": "1475fca3-8920-430d-c971-bf76722f2ad0"
      },
      "source": [
        "a = set(\"bnn\")\n",
        "b = set(\"ntt\")\n",
        "if (a) == (b):\n",
        "  print(\"its equal\")\n",
        "else:\n",
        "  print(\"xxx\")"
      ],
      "execution_count": null,
      "outputs": [
        {
          "output_type": "stream",
          "text": [
            "xxx\n"
          ],
          "name": "stdout"
        }
      ]
    },
    {
      "cell_type": "code",
      "metadata": {
        "id": "A6NG_6LiDBU1",
        "colab": {
          "base_uri": "https://localhost:8080/"
        },
        "outputId": "38499bd2-a1ef-471f-e585-f82f5bf4c012"
      },
      "source": [
        "users = input(\"please write yes or no \")\n",
        "if users == \"yes\":\n",
        "  print(\"True\")\n",
        "if users == \"no\":\n",
        "  print(\"False\")"
      ],
      "execution_count": null,
      "outputs": [
        {
          "output_type": "stream",
          "text": [
            "please write yes or no no\n",
            "False\n"
          ],
          "name": "stdout"
        }
      ]
    },
    {
      "cell_type": "code",
      "metadata": {
        "id": "DI0reQOQDBRG",
        "colab": {
          "base_uri": "https://localhost:8080/"
        },
        "outputId": "3179a5cf-ebc6-4c59-bb5d-a486bd2319b7"
      },
      "source": [
        "print(input(\"please write yes or no \").title().strip() == \"Yes\")  #title ve strip ekleme \n",
        "\n",
        "  \n",
        "\n",
        " "
      ],
      "execution_count": null,
      "outputs": [
        {
          "output_type": "stream",
          "text": [
            "please write yes or no sdddd\n",
            "False\n"
          ],
          "name": "stdout"
        }
      ]
    },
    {
      "cell_type": "code",
      "metadata": {
        "id": "ZSSa5Gi0DBMt",
        "colab": {
          "base_uri": "https://localhost:8080/"
        },
        "outputId": "515dcd6a-ba6c-4e4c-db96-95c01bdf40c0"
      },
      "source": [
        "print(\"Merhaba, \\n\"\n",
        "      \"Şimdi seninle bir tahmin oyunu oynayacağız. \\n\"\n",
        "      \"İpucu: ..., Avrat, Silah\")\n",
        "gizli_kelime = \"At\"\n",
        "tahmin = \"\"\n",
        "tahmin_sayısı = 0\n",
        "tahmin_sınırı = 3\n",
        "tahmin_bitti = False\n",
        "while tahmin != gizli_kelime and not (tahmin_bitti):\n",
        "    if tahmin_sayısı < tahmin_sınırı:\n",
        "        tahmin = input(\"Tahmin nedir?: \")\n",
        "        tahmin_sayısı += 1\n",
        "    else:\n",
        "        tahmin_bitti = True\n",
        "if tahmin_bitti:\n",
        "    print(\"NE yazık ki bilemedin! :( \")\n",
        "else:\n",
        "    print(\"Aferin, bildin :) \")"
      ],
      "execution_count": null,
      "outputs": [
        {
          "output_type": "stream",
          "text": [
            "Merhaba, \n",
            "Şimdi seninle bir tahmin oyunu oynayacağız. \n",
            "İpucu: ..., Avrat, Silah\n",
            "Tahmin nedir?: at\n",
            "Tahmin nedir?: eşek\n",
            "Tahmin nedir?: 5\n",
            "NE yazık ki bilemedin! :( \n"
          ],
          "name": "stdout"
        }
      ]
    },
    {
      "cell_type": "code",
      "metadata": {
        "colab": {
          "base_uri": "https://localhost:8080/"
        },
        "id": "l79s2NqRFe5v",
        "outputId": "a28391fa-2587-4e17-a310-e2050c6b203e"
      },
      "source": [
        "x = int(input('bir sayı '))  # çift mi tek mi ? is it even or add?\n",
        "if (x % 2 == 0):              # != eşit değil\n",
        "    print('even')\n",
        "else:\n",
        "    print('odd')"
      ],
      "execution_count": null,
      "outputs": [
        {
          "output_type": "stream",
          "text": [
            "bir sayı 5\n",
            "even\n"
          ],
          "name": "stdout"
        }
      ]
    },
    {
      "cell_type": "code",
      "metadata": {
        "colab": {
          "base_uri": "https://localhost:8080/"
        },
        "id": "tMyGqahCFe2E",
        "outputId": "5c42de81-a0de-4f0e-bcf3-6a1558c9a192"
      },
      "source": [
        "whether = int(input(\"enter degree \"))\n",
        "if ( whether > 0):\n",
        "  print(\"possitif degree \",whether)\n",
        "else:\n",
        "  print(\"negatif degree \",whether)\n"
      ],
      "execution_count": null,
      "outputs": [
        {
          "output_type": "stream",
          "text": [
            "enter degree 4\n",
            "possitif degree  4\n"
          ],
          "name": "stdout"
        }
      ]
    },
    {
      "cell_type": "code",
      "metadata": {
        "colab": {
          "base_uri": "https://localhost:8080/"
        },
        "id": "4YZn0kZjFezB",
        "outputId": "e07ceee8-a742-4477-fa51-1c32936434df"
      },
      "source": [
        "a = int(input(\"enter number \"))\n",
        "b = int(input(\"enter 2. number \"))\n",
        "if a > b:\n",
        "  print(f\"{a} lerger then {b}\")\n",
        "else:\n",
        "  print(f\"{b} lerger then {a}\")"
      ],
      "execution_count": null,
      "outputs": [
        {
          "output_type": "stream",
          "text": [
            "enter number 4\n",
            "enter 2. number 3\n",
            "4 lerger then 3\n"
          ],
          "name": "stdout"
        }
      ]
    },
    {
      "cell_type": "code",
      "metadata": {
        "colab": {
          "base_uri": "https://localhost:8080/"
        },
        "id": "h5Oes5-0Fev3",
        "outputId": "49e489ec-6bee-4f02-e221-81d74f825f7e"
      },
      "source": [
        "a = int(input(\"enter number \"))\n",
        "b = int(input(\"enter 2. number \"))\n",
        "if a > b:\n",
        "  larger = a\n",
        "else:\n",
        "  larger = b\n",
        "  print(\"the larger number is :\", larger)"
      ],
      "execution_count": null,
      "outputs": [
        {
          "output_type": "stream",
          "text": [
            "enter number 4\n",
            "enter 2. number 7\n",
            "the larger number is : 7\n"
          ],
          "name": "stdout"
        }
      ]
    },
    {
      "cell_type": "code",
      "metadata": {
        "colab": {
          "base_uri": "https://localhost:8080/"
        },
        "id": "oiRgIDQxFesb",
        "outputId": "4d99baca-b556-4f00-cc0d-b830488ad364"
      },
      "source": [
        "a = 3 == 4\n",
        "b = 5 == 5\n",
        "if a:\n",
        "  print(\"no\")\n",
        "else:\n",
        "  print(\"yes\")"
      ],
      "execution_count": null,
      "outputs": [
        {
          "output_type": "stream",
          "text": [
            "yes\n"
          ],
          "name": "stdout"
        }
      ]
    },
    {
      "cell_type": "code",
      "metadata": {
        "id": "-pGVJ9cjFeo9",
        "colab": {
          "base_uri": "https://localhost:8080/"
        },
        "outputId": "de122f3f-96b4-48e1-a4bd-2fd07051565c"
      },
      "source": [
        "a = [1, 2, 3, 4]\n",
        "b = [sum(a[0:x+1]) for x in range(0,len(a))]\n",
        "print(b)"
      ],
      "execution_count": null,
      "outputs": [
        {
          "output_type": "stream",
          "text": [
            "[1, 3, 6, 10]\n"
          ],
          "name": "stdout"
        }
      ]
    },
    {
      "cell_type": "code",
      "metadata": {
        "id": "94F93HVaFelh",
        "colab": {
          "base_uri": "https://localhost:8080/"
        },
        "outputId": "2d3504e8-686c-404f-e7d9-3858c85783ef"
      },
      "source": [
        "### Verilen listedeki ilk item ı sırasıyla diğerleri ile karşılaştırır,\n",
        "### benzer olanları \"deger\" listesinde toplar,\n",
        "### her grup için output_list listesine yeni ir item olarak ekler...\n",
        "input_list = [\"eat\", \"tea\", \"tan\", \"ate\", \"nat\", \"bat\"]\n",
        "output_list = []\n",
        "i = 0                                                     # Daima ilk elemanı karşılaştırır\n",
        "while len(input_list) > 0 :\n",
        "  deger = [input_list[i].lower()]\n",
        "  sayac = len(input_list)\n",
        "  x = 1                                                   # Daima ikinci elemandan başlayarak karşılaştırır\n",
        "  while x < sayac :\n",
        "    if set(input_list[i].lower()) == set(input_list[x].lower()) :\n",
        "      deger.append(input_list[x].lower())                 # Benzer olanları bir listede toplar\n",
        "      input_list.pop(x)                                   # Benzer olanları ana listeden çıkarır\n",
        "      sayac = sayac-1\n",
        "    else :\n",
        "      x += 1\n",
        "  output_list.append(deger)                               # Benzer elemanlar listesini ana çıktı listesine ekler\n",
        "  input_list.pop(i)                                       # İlk elemanı ana listeden silerek bir sonraki gruba geçer\n",
        "for i in range(0,len(output_list)) :\n",
        "  print(output_list[i], \"\\n\")"
      ],
      "execution_count": null,
      "outputs": [
        {
          "output_type": "stream",
          "text": [
            "['eat', 'tea', 'ate'] \n",
            "\n",
            "['tan', 'nat'] \n",
            "\n",
            "['bat'] \n",
            "\n"
          ],
          "name": "stdout"
        }
      ]
    },
    {
      "cell_type": "code",
      "metadata": {
        "id": "PrcH-a18Feib",
        "colab": {
          "base_uri": "https://localhost:8080/"
        },
        "outputId": "6d8159d7-4bc3-46f5-ff1c-a0369f22d739"
      },
      "source": [
        "sayı = int(input(\"notunuzu giriniz \"))\n",
        "if sayı >= 95:\n",
        "  print(\"A+\")\n",
        "\n",
        "  \n",
        "   "
      ],
      "execution_count": null,
      "outputs": [
        {
          "output_type": "stream",
          "text": [
            "notunuzu giriniz 55\n",
            "A\n"
          ],
          "name": "stdout"
        }
      ]
    },
    {
      "cell_type": "code",
      "metadata": {
        "id": "mSLisb4NFefa",
        "colab": {
          "base_uri": "https://localhost:8080/"
        },
        "outputId": "55545b1f-e1ef-425c-9b7f-7a6c09c778ad"
      },
      "source": [
        "score = int(input())\n",
        "if score>79:\n",
        "  if score>84:\n",
        "    if score>89:\n",
        "      if score>94:\n",
        "        print('Your degree : A+')\n",
        "      else:\n",
        "        print('Your degree : A')\n",
        "    else:\n",
        "      print('Your degree : B+')\n",
        "  else:\n",
        "    print('Your degree : B')\n",
        "else:\n",
        "  print('Your degree : B-')"
      ],
      "execution_count": null,
      "outputs": [
        {
          "output_type": "stream",
          "text": [
            "88\n",
            "Your degree : B+\n"
          ],
          "name": "stdout"
        }
      ]
    },
    {
      "cell_type": "code",
      "metadata": {
        "id": "au_Q0DpjFecO",
        "colab": {
          "base_uri": "https://localhost:8080/"
        },
        "outputId": "b0202605-2462-412c-86c0-f61852af841b"
      },
      "source": [
        "yaş = input(\"yaşınız: \")\n",
        "\n",
        "while not yaş.isdigit():\n",
        "  print(\"yanlış bilgi\")\n",
        "  yaş = input(\"lütfen tekrar giriniz \")\n",
        "print(\"doğru teşekkürler\",yaş)"
      ],
      "execution_count": null,
      "outputs": [
        {
          "output_type": "stream",
          "text": [
            "yaşınız: jnj\n",
            "yanlış bilgi\n",
            "lütfen tekrar giriniz 44\n",
            "doğru teşekkürler 44\n"
          ],
          "name": "stdout"
        }
      ]
    },
    {
      "cell_type": "code",
      "metadata": {
        "id": "T9m5jv_NFeYD",
        "colab": {
          "base_uri": "https://localhost:8080/"
        },
        "outputId": "f8138b5e-2a4b-4b14-8692-13d0316ee1c9"
      },
      "source": [
        "answer = 8\n",
        "while True:\n",
        "  numb = int(input(\"Guess the number\"))\n",
        "  if numb > answer :\n",
        "    print(\"Little lower\")\n",
        "  elif numb < answer :\n",
        "    print(\"little higher\")\n",
        "  else:\n",
        "    print(\"Great! You are right.\")\n",
        "    break"
      ],
      "execution_count": null,
      "outputs": [
        {
          "output_type": "stream",
          "text": [
            "Guess the number6\n",
            "little higher\n",
            "Guess the number8\n",
            "Great! You are right.\n"
          ],
          "name": "stdout"
        }
      ]
    },
    {
      "cell_type": "code",
      "metadata": {
        "id": "XqKLre-vFeU4",
        "colab": {
          "base_uri": "https://localhost:8080/"
        },
        "outputId": "d510b786-9f6c-49d3-d5b5-d0ec3da2548e"
      },
      "source": [
        "numbers = [1,2,3,3,3,3,6,7,7,7,8]\n",
        "max(1,2,3,6,7,8)\n"
      ],
      "execution_count": null,
      "outputs": [
        {
          "output_type": "execute_result",
          "data": {
            "text/plain": [
              "8"
            ]
          },
          "metadata": {
            "tags": []
          },
          "execution_count": 54
        }
      ]
    },
    {
      "cell_type": "code",
      "metadata": {
        "colab": {
          "base_uri": "https://localhost:8080/"
        },
        "id": "icZvLfZzNzF6",
        "outputId": "3455646b-5466-4a43-fd3c-49b0a3c66b75"
      },
      "source": [
        "numbers = [1,2,3,3,3,3,6,7,7,7,8]\n",
        "numbers.count(3)"
      ],
      "execution_count": null,
      "outputs": [
        {
          "output_type": "execute_result",
          "data": {
            "text/plain": [
              "4"
            ]
          },
          "metadata": {
            "tags": []
          },
          "execution_count": 62
        }
      ]
    },
    {
      "cell_type": "code",
      "metadata": {
        "colab": {
          "base_uri": "https://localhost:8080/"
        },
        "id": "Qi12wATJNzCu",
        "outputId": "fd88b902-f1ac-46e3-9775-c3800e7bd8e3"
      },
      "source": [
        "numbers.count(8)"
      ],
      "execution_count": null,
      "outputs": [
        {
          "output_type": "execute_result",
          "data": {
            "text/plain": [
              "1"
            ]
          },
          "metadata": {
            "tags": []
          },
          "execution_count": 60
        }
      ]
    },
    {
      "cell_type": "code",
      "metadata": {
        "colab": {
          "base_uri": "https://localhost:8080/"
        },
        "id": "YNrJ38X9Ny_6",
        "outputId": "28afcaa2-e1b2-41c5-dc6c-1dbea13e8e68"
      },
      "source": [
        "numbers.count(7)"
      ],
      "execution_count": null,
      "outputs": [
        {
          "output_type": "execute_result",
          "data": {
            "text/plain": [
              "3"
            ]
          },
          "metadata": {
            "tags": []
          },
          "execution_count": 61
        }
      ]
    },
    {
      "cell_type": "code",
      "metadata": {
        "id": "yxbEuaAvNy86"
      },
      "source": [
        "item = max(numbers, key = numbers.count)\n"
      ],
      "execution_count": null,
      "outputs": []
    },
    {
      "cell_type": "code",
      "metadata": {
        "colab": {
          "base_uri": "https://localhost:8080/"
        },
        "id": "7ffRbcyENy5e",
        "outputId": "9d04e4de-4d33-4795-f078-568d43b2f21e"
      },
      "source": [
        "numbers.count(item)"
      ],
      "execution_count": null,
      "outputs": [
        {
          "output_type": "execute_result",
          "data": {
            "text/plain": [
              "4"
            ]
          },
          "metadata": {
            "tags": []
          },
          "execution_count": 67
        }
      ]
    },
    {
      "cell_type": "code",
      "metadata": {
        "colab": {
          "base_uri": "https://localhost:8080/"
        },
        "id": "oEU8lAJpNy2l",
        "outputId": "b24e5954-1509-4f28-ff7d-57b6bd98a1bf"
      },
      "source": [
        "print(\"1, \\n2, \\n3,  \\n4, \\n5, \\n6, \\n 7, \\n 8, \\n 9\")"
      ],
      "execution_count": null,
      "outputs": [
        {
          "output_type": "stream",
          "text": [
            "1, \n",
            "2, \n",
            "3,  \n",
            "4, \n",
            "5, \n",
            "6, \n",
            " 7, \n",
            " 8, \n",
            " 9\n"
          ],
          "name": "stdout"
        }
      ]
    },
    {
      "cell_type": "code",
      "metadata": {
        "id": "FOKIwOE6NyyQ",
        "colab": {
          "base_uri": "https://localhost:8080/"
        },
        "outputId": "0bebc4a5-972b-4988-85cd-870f15df14cf"
      },
      "source": [
        "weight = int(input(\"enter your weight \"))\n",
        "height = float(input(\"enter your height \"))\n",
        "result = float((weight/(height**2)))\n",
        "if result < 18.5:\n",
        "  print(\"Underweight\")\n",
        "elif (18.5 <= result < 25):\n",
        "  print(\"normal\")\n",
        "elif 25<= result <30:\n",
        "  print(\"Overweight\")\n",
        "else:\n",
        "  print(\"Obesity\")"
      ],
      "execution_count": null,
      "outputs": [
        {
          "output_type": "stream",
          "text": [
            "enter your weight 55\n",
            "enter your height 1.84\n",
            "Underweight\n"
          ],
          "name": "stdout"
        }
      ]
    },
    {
      "cell_type": "code",
      "metadata": {
        "id": "i-J-WjrFNyvH"
      },
      "source": [
        ""
      ],
      "execution_count": null,
      "outputs": []
    },
    {
      "cell_type": "code",
      "metadata": {
        "id": "NYITQuP_Nyrs",
        "colab": {
          "base_uri": "https://localhost:8080/"
        },
        "outputId": "e3638231-715e-413a-cbeb-a187c8d8ebfc"
      },
      "source": [
        "def search():\n",
        "  print(\"search\")\n",
        "text = (\"I need to more study python\")\n",
        "result = text.split(' ')\n",
        "word = input()\n",
        "if word in text:\n",
        "    print(\"word found\")\n",
        "else:\n",
        "    print(\"not found\")\n"
      ],
      "execution_count": null,
      "outputs": [
        {
          "output_type": "stream",
          "text": [
            "more\n",
            "word found\n"
          ],
          "name": "stdout"
        }
      ]
    },
    {
      "cell_type": "code",
      "metadata": {
        "colab": {
          "base_uri": "https://localhost:8080/"
        },
        "id": "sIklxU5oPUnN",
        "outputId": "561b6950-1112-4500-efd2-6e129571f3fe"
      },
      "source": [
        "N = int(input())     #solo learn\n",
        "B = sum(range(0,N+1))\n",
        "print(B)\n"
      ],
      "execution_count": null,
      "outputs": [
        {
          "output_type": "stream",
          "text": [
            "7\n",
            "28\n"
          ],
          "name": "stdout"
        }
      ]
    },
    {
      "cell_type": "code",
      "metadata": {
        "colab": {
          "base_uri": "https://localhost:8080/"
        },
        "id": "mJeduo_QPUkC",
        "outputId": "2ce54d86-de2c-495e-9ed1-6c2afc00aa26"
      },
      "source": [
        "Height=float(input())\n",
        "Weight=float(input())\n",
        "x= \"BMI\"\n",
        "x = Height/Weight ** 2\n",
        "\n",
        "if x<18.5:\n",
        " print(\"Underweight\") \n",
        "elif x>=30:\n",
        " print(\"Obesity\")\n",
        "elif x>=18 and x<25: \n",
        " print(\"Normal\") \n",
        "elif x>=25 and x<30:\n",
        "    \n",
        " print(\"Overweight\")"
      ],
      "execution_count": null,
      "outputs": [
        {
          "output_type": "stream",
          "text": [
            "55\n",
            "1.77\n",
            "Underweight\n"
          ],
          "name": "stdout"
        }
      ]
    },
    {
      "cell_type": "code",
      "metadata": {
        "colab": {
          "base_uri": "https://localhost:8080/"
        },
        "id": "xb8c6SJoPUgj",
        "outputId": "da089d54-b511-4e42-ba62-660dea94c817"
      },
      "source": [
        "text = input()\n",
        "Word = input()\n",
        "def search(text,Word):\n",
        " if Word in text:\n",
        "    print(\"Word found\")\n",
        " else:\n",
        "    print(\"Word not found\")\n",
        "search(text,Word)"
      ],
      "execution_count": null,
      "outputs": [
        {
          "output_type": "stream",
          "text": [
            "elsa\n",
            "holo\n",
            "Word not found\n"
          ],
          "name": "stdout"
        }
      ]
    },
    {
      "cell_type": "code",
      "metadata": {
        "colab": {
          "base_uri": "https://localhost:8080/"
        },
        "id": "n1xZ98ObPUdk",
        "outputId": "61f1caca-4495-44fb-da8c-0048e73c927c"
      },
      "source": [
        "print(\"\"\"this\n",
        "is\n",
        "great\"\"\")\n"
      ],
      "execution_count": null,
      "outputs": [
        {
          "output_type": "stream",
          "text": [
            "this\n",
            "is\n",
            "great\n"
          ],
          "name": "stdout"
        }
      ]
    },
    {
      "cell_type": "code",
      "metadata": {
        "colab": {
          "base_uri": "https://localhost:8080/"
        },
        "id": "P8XeePVXPUaN",
        "outputId": "7f10ed58-4c58-4719-b88e-c4fb0d2e3b63"
      },
      "source": [
        "print(3 * '7')"
      ],
      "execution_count": null,
      "outputs": [
        {
          "output_type": "stream",
          "text": [
            "777\n"
          ],
          "name": "stdout"
        }
      ]
    },
    {
      "cell_type": "code",
      "metadata": {
        "colab": {
          "base_uri": "https://localhost:8080/"
        },
        "id": "KCSCeqh_PUW-",
        "outputId": "435c8bd0-2b43-4f4f-d8fc-d57847d20e79"
      },
      "source": [
        "num1 = int(input(\"enter a number \"))\n",
        "num2 = int(input(\"enter another number \"))\n",
        "print(num1 + num2)"
      ],
      "execution_count": null,
      "outputs": [
        {
          "output_type": "stream",
          "text": [
            "enter a number 4\n",
            "enter another number 5\n",
            "9\n"
          ],
          "name": "stdout"
        }
      ]
    },
    {
      "cell_type": "code",
      "metadata": {
        "colab": {
          "base_uri": "https://localhost:8080/"
        },
        "id": "kFN53mzXPUSu",
        "outputId": "c5f27018-9ae1-49f2-cbac-9c502b5abe58"
      },
      "source": [
        "n = int(input())\n",
        "\n",
        "for x in range(1, n):\n",
        "    if x % 3 == 0 and x % 5 == 0:\n",
        "        print(\"SoloLearn\")\n",
        "    elif x % 3 == 0:\n",
        "        print(\"Solo\")\n",
        "    elif x % 5 == 0:\n",
        "        print(\"Learn\")\n",
        "    else:\n",
        "        print(x)"
      ],
      "execution_count": null,
      "outputs": [
        {
          "output_type": "stream",
          "text": [
            "8\n",
            "1\n",
            "2\n",
            "Solo\n",
            "4\n",
            "Learn\n",
            "Solo\n",
            "7\n"
          ],
          "name": "stdout"
        }
      ]
    },
    {
      "cell_type": "code",
      "metadata": {
        "colab": {
          "base_uri": "https://localhost:8080/"
        },
        "id": "Outv-qg6PUO9",
        "outputId": "92b09e72-b60b-49b3-cb25-2d89e6c67b8e"
      },
      "source": [
        "n = int(input(\"Enter the ending number: \"))\n",
        "\n",
        "for x in range(1, n):\n",
        "    if x % 3 == 0 and x % 5 == 0:\n",
        "        print(\"FizzBuzz\")\n",
        "    elif x % 3 == 0:\n",
        "        print(\"Fizz\")\n",
        "    elif x % 5 == 0:\n",
        "        print(\"Buzz\")\n",
        "    else:\n",
        "      print(\"wow\")"
      ],
      "execution_count": null,
      "outputs": [
        {
          "output_type": "stream",
          "text": [
            "Enter the ending number: 9\n",
            "wow\n",
            "wow\n",
            "Fizz\n",
            "wow\n",
            "Buzz\n",
            "Fizz\n",
            "wow\n",
            "wow\n"
          ],
          "name": "stdout"
        }
      ]
    },
    {
      "cell_type": "code",
      "metadata": {
        "id": "h--75CfqRvLT",
        "colab": {
          "base_uri": "https://localhost:8080/"
        },
        "outputId": "1b07f38a-55d7-449b-9012-5f4b1122de94"
      },
      "source": [
        "def hello():\n",
        "  print(\"hi\")\n",
        "hello()"
      ],
      "execution_count": null,
      "outputs": [
        {
          "output_type": "stream",
          "text": [
            "hi\n"
          ],
          "name": "stdout"
        }
      ]
    },
    {
      "cell_type": "code",
      "metadata": {
        "id": "F6oNCYIARvIE"
      },
      "source": [
        "def greet():\n",
        "    \"\"\"This function displays 'Hello World!'\"\"\"\n",
        "    print('Hello World!')"
      ],
      "execution_count": null,
      "outputs": []
    },
    {
      "cell_type": "code",
      "metadata": {
        "id": "8zTm-iHLRvEx",
        "colab": {
          "base_uri": "https://localhost:8080/"
        },
        "outputId": "a5c63aff-04ef-4fea-fe90-1304f9681792"
      },
      "source": [
        "greet()"
      ],
      "execution_count": null,
      "outputs": [
        {
          "output_type": "stream",
          "text": [
            "Hello World!\n"
          ],
          "name": "stdout"
        }
      ]
    },
    {
      "cell_type": "code",
      "metadata": {
        "id": "TkNUy-Z3RvBg"
      },
      "source": [
        "def karebul(a):\n",
        "  karesi =(a*a)\n",
        "  print(karesi)\n"
      ],
      "execution_count": null,
      "outputs": []
    },
    {
      "cell_type": "code",
      "metadata": {
        "id": "p9TLMwnKRu-1",
        "colab": {
          "base_uri": "https://localhost:8080/"
        },
        "outputId": "90610497-035e-4088-e6d6-d679e39ffc7e"
      },
      "source": [
        "karebul(3)"
      ],
      "execution_count": null,
      "outputs": [
        {
          "output_type": "stream",
          "text": [
            "9\n"
          ],
          "name": "stdout"
        }
      ]
    },
    {
      "cell_type": "code",
      "metadata": {
        "id": "mJswfajIRu8K",
        "colab": {
          "base_uri": "https://localhost:8080/"
        },
        "outputId": "e42d4408-59bf-4a14-d1cf-0bc821b4a949"
      },
      "source": [
        "def func(p1):\n",
        "  print(p1)\n",
        "\n",
        "for a in range(10):\n",
        "  func(a)\n"
      ],
      "execution_count": null,
      "outputs": [
        {
          "output_type": "stream",
          "text": [
            "0\n",
            "1\n",
            "2\n",
            "3\n",
            "4\n",
            "5\n",
            "6\n",
            "7\n",
            "8\n",
            "9\n"
          ],
          "name": "stdout"
        }
      ]
    },
    {
      "cell_type": "code",
      "metadata": {
        "id": "jEuj2fQDRu4v",
        "colab": {
          "base_uri": "https://localhost:8080/"
        },
        "outputId": "82c885dc-2622-4277-c324-e71ef369cbfd"
      },
      "source": [
        "for x in range(5,10):\n",
        "  func(x)"
      ],
      "execution_count": null,
      "outputs": [
        {
          "output_type": "stream",
          "text": [
            "5\n",
            "6\n",
            "7\n",
            "8\n",
            "9\n"
          ],
          "name": "stdout"
        }
      ]
    },
    {
      "cell_type": "code",
      "metadata": {
        "id": "P8WRIhJYRu1A",
        "colab": {
          "base_uri": "https://localhost:8080/",
          "height": 130
        },
        "outputId": "a91baba2-d78e-4325-c224-94cf14895e62"
      },
      "source": [
        "height = []\n",
        "while True:\n",
        "    num = input(\"Type 'ok' when you are done: \")\n",
        "    if num != \"ok\":\n",
        "        height.append(int(num))\n",
        "    else:\n",
        "        break\n",
        "areas = 0\n",
        "max_l = max_r = 0\n",
        "\n",
        "l = 0\n",
        "r = len(height)-1\n",
        "while l < r:\n",
        "    if height[l] < height[r]:\n",
        "        if height[l] > max_l:\n",
        "            max_l = height[l]\n",
        "        else:\n",
        "            areas += max_l - height[l]\n",
        "        l += 1\n",
        "    else:\n",
        "        if height[r] > max_r:\n",
        "            max_r = height[r]\n",
        "        else:\n",
        "            areas += max_r - height[r]\n",
        "        r -= 1\n",
        "\n",
        "print(\"\\nRain-trapped area : \", areas)"
      ],
      "execution_count": null,
      "outputs": [
        {
          "output_type": "error",
          "ename": "IndentationError",
          "evalue": "ignored",
          "traceback": [
            "\u001b[0;36m  File \u001b[0;32m\"<ipython-input-3-24933b24950d>\"\u001b[0;36m, line \u001b[0;32m16\u001b[0m\n\u001b[0;31m    else:\u001b[0m\n\u001b[0m       ^\u001b[0m\n\u001b[0;31mIndentationError\u001b[0m\u001b[0;31m:\u001b[0m expected an indented block\n"
          ]
        }
      ]
    },
    {
      "cell_type": "code",
      "metadata": {
        "id": "kJmFd0f7Rute",
        "colab": {
          "base_uri": "https://localhost:8080/"
        },
        "outputId": "372915be-bfc0-47e9-f333-bebde65aee8f"
      },
      "source": [
        "i = int(input())\n",
        "while i < 10:\n",
        "  print(\"ix\")\n",
        "  i = i+1"
      ],
      "execution_count": null,
      "outputs": [
        {
          "output_type": "stream",
          "text": [
            "4\n",
            "ix\n",
            "ix\n",
            "ix\n",
            "ix\n",
            "ix\n",
            "ix\n"
          ],
          "name": "stdout"
        }
      ]
    },
    {
      "cell_type": "code",
      "metadata": {
        "colab": {
          "base_uri": "https://localhost:8080/"
        },
        "id": "SoGcUPAOAhLx",
        "outputId": "f93281c6-b7fd-42a2-f75a-edc2afefe6a9"
      },
      "source": [
        "sayac = 0\n",
        "toplam=0\n",
        "while sayac<= 100:\n",
        "    sayac=sayac+ 2\n",
        "    toplam=toplam+sayac\n",
        " \n",
        "print(\"0 ile 100 arasındaki çift sayıların toplam:{0}\".format(toplam))\n"
      ],
      "execution_count": null,
      "outputs": [
        {
          "output_type": "stream",
          "text": [
            "0 ile 100 arasındaki çift sayıların toplam:5151\n"
          ],
          "name": "stdout"
        }
      ]
    },
    {
      "cell_type": "code",
      "metadata": {
        "colab": {
          "base_uri": "https://localhost:8080/"
        },
        "id": "umuM_KMhAhIK",
        "outputId": "1cc6e56d-da26-4752-fc2e-f772dd61d2ec"
      },
      "source": [
        "\n",
        "i = 0\n",
        "while i < 10:\n",
        "\ti = i+1\n",
        "\tprint(\"Sayi\",i)"
      ],
      "execution_count": null,
      "outputs": [
        {
          "output_type": "stream",
          "text": [
            "Sayi 1\n",
            "Sayi 2\n",
            "Sayi 3\n",
            "Sayi 4\n",
            "Sayi 5\n",
            "Sayi 6\n",
            "Sayi 7\n",
            "Sayi 8\n",
            "Sayi 9\n",
            "Sayi 10\n"
          ],
          "name": "stdout"
        }
      ]
    },
    {
      "cell_type": "code",
      "metadata": {
        "colab": {
          "base_uri": "https://localhost:8080/"
        },
        "id": "OM3CmBMKAhEN",
        "outputId": "9c9135f6-d14c-4b70-8740-1c1d631c30ce"
      },
      "source": [
        "toplam=0\n",
        " \n",
        "while True:\n",
        "   print(\"Sayı Girin:\")\n",
        "   deger= input()\n",
        "   sayi= int(deger)\n",
        "   toplam = toplam + sayi\n",
        "   if sayi==0:break\n",
        " \n",
        "print(\"Girilen Sayıların Toplamı: \",toplam)"
      ],
      "execution_count": null,
      "outputs": [
        {
          "output_type": "stream",
          "text": [
            "Sayı Girin:\n",
            "5\n",
            "Sayı Girin:\n",
            "5\n",
            "Sayı Girin:\n",
            "5\n",
            "Sayı Girin:\n",
            "0\n",
            "Girilen Sayıların Toplamı:  15\n"
          ],
          "name": "stdout"
        }
      ]
    },
    {
      "cell_type": "code",
      "metadata": {
        "colab": {
          "base_uri": "https://localhost:8080/"
        },
        "id": "LizYac8OAhBH",
        "outputId": "f1f51389-f4ea-4219-d720-40660b232421"
      },
      "source": [
        "k_adı = \"eşek\"\n",
        "şifre = \"maymun\"\n",
        "while True:\n",
        "  kAdı = input(\"kullanıcı adı\")\n",
        "  şfr = input(\"şifre\")\n",
        "  if k_adı==kAdı and şifre==şfr:\n",
        "    \n",
        "    print(\"hoşgeldiniz\", k_adı)\n",
        "    break\n",
        "  else:\n",
        "    print(\"lütfen tekrar deneyin\")"
      ],
      "execution_count": null,
      "outputs": [
        {
          "output_type": "stream",
          "text": [
            "kullanıcı adıcjkjv\n",
            "şifrelkclnkv\n",
            "lütfen tekrar deneyin\n",
            "kullanıcı adıeşek\n",
            "şifremaymun\n",
            "hoşgeldiniz eşek\n"
          ],
          "name": "stdout"
        }
      ]
    },
    {
      "cell_type": "code",
      "metadata": {
        "colab": {
          "base_uri": "https://localhost:8080/"
        },
        "id": "Ik_0dbVqAg9a",
        "outputId": "fad48220-691e-4b9c-8423-a0fe49e21511"
      },
      "source": [
        "n = int(input())\n",
        "i = 0\n",
        "s = 0\n",
        "while i < n:\n",
        "    s = s + a\n",
        "    i = i + 1\n",
        "print(s)"
      ],
      "execution_count": null,
      "outputs": [
        {
          "output_type": "stream",
          "text": [
            "7\n",
            "38888888885\n"
          ],
          "name": "stdout"
        }
      ]
    },
    {
      "cell_type": "code",
      "metadata": {
        "colab": {
          "base_uri": "https://localhost:8080/"
        },
        "id": "NgFMlwlvAg6A",
        "outputId": "1c5b9fe7-92c2-49ef-822c-4dd9c5220caa"
      },
      "source": [
        "a = int(input()) # girilen sayı kaç basamaklı\n",
        "i = 0\n",
        "while a > 0:\n",
        "    a = a // 10\n",
        "    i = i + 1\n",
        "print(i)"
      ],
      "execution_count": null,
      "outputs": [
        {
          "output_type": "stream",
          "text": [
            "444\n",
            "3\n"
          ],
          "name": "stdout"
        }
      ]
    },
    {
      "cell_type": "code",
      "metadata": {
        "colab": {
          "base_uri": "https://localhost:8080/"
        },
        "id": "-x6Cdb_IAg2l",
        "outputId": "0658e0fe-bfdb-4acc-d0b3-66596e3e6232"
      },
      "source": [
        "222//10\n"
      ],
      "execution_count": null,
      "outputs": [
        {
          "output_type": "execute_result",
          "data": {
            "text/plain": [
              "22"
            ]
          },
          "metadata": {
            "tags": []
          },
          "execution_count": 29
        }
      ]
    },
    {
      "cell_type": "code",
      "metadata": {
        "colab": {
          "base_uri": "https://localhost:8080/"
        },
        "id": "mcBr5gxMJcuX",
        "outputId": "b11a3a99-a3bb-4926-bdf6-80d13690a45d"
      },
      "source": [
        "import random                          #tahmin oyunu\n",
        "sayı = random.randint(1,10)\n",
        "can = int(input(\"kac hakınız olsun istersiniz: \"))\n",
        "hak = can\n",
        "sayac = 0\n",
        "while hak > 0:\n",
        "  hak -=1\n",
        "  sayac += 1\n",
        "  tahmin = int(input(\"tahmininizi giriniz: \"))\n",
        "  if sayı == tahmin:\n",
        "    print(f\"tebrikler {sayac}. defada bildiniz.toplam puanınız: {100 - ((sayac-1)*(100/can))}\")\n",
        "    break\n",
        "  elif sayı > tahmin:\n",
        "    print(\"yükarı\")\n",
        "  else:\n",
        "    print(\"aşağı\")\n",
        "  if hak == 0:\n",
        "    print(f\"hakkınız bitti tutulan sayı:\", {sayı})"
      ],
      "execution_count": null,
      "outputs": [
        {
          "output_type": "stream",
          "text": [
            "kac hakınız olsun istersiniz: 5\n",
            "tahmininizi giriniz: 5\n",
            "yükarı\n",
            "tahmininizi giriniz: 8\n",
            "aşağı\n",
            "tahmininizi giriniz: 7\n",
            "tebrikler 3. defada bildiniz.toplam puanınız: 60.0\n"
          ],
          "name": "stdout"
        }
      ]
    },
    {
      "cell_type": "code",
      "metadata": {
        "id": "XSl5MQO6JcrZ"
      },
      "source": [
        "x, y, *z = (1,4,5,7,88,75,3445)"
      ],
      "execution_count": null,
      "outputs": []
    },
    {
      "cell_type": "code",
      "metadata": {
        "colab": {
          "base_uri": "https://localhost:8080/"
        },
        "id": "gTf9n8oJJcn2",
        "outputId": "f5deace3-203d-448f-bbb0-c6a24ac62d2f"
      },
      "source": [
        "print(x)     #yıldız     \n",
        "print(y)\n",
        "print(z)"
      ],
      "execution_count": null,
      "outputs": [
        {
          "output_type": "stream",
          "text": [
            "1\n",
            "4\n",
            "[5, 7, 88, 75, 3445]\n"
          ],
          "name": "stdout"
        }
      ]
    },
    {
      "cell_type": "code",
      "metadata": {
        "id": "r_nUGM4PJcko"
      },
      "source": [
        "x, y, *_ = (1,4,5,7,88)"
      ],
      "execution_count": null,
      "outputs": []
    },
    {
      "cell_type": "code",
      "metadata": {
        "colab": {
          "base_uri": "https://localhost:8080/"
        },
        "id": "8zIg-BTCJchY",
        "outputId": "b083a49d-5a5c-4c3f-8531-c58f93733d3e"
      },
      "source": [
        "print(x)\n",
        "print(y)"
      ],
      "execution_count": null,
      "outputs": [
        {
          "output_type": "stream",
          "text": [
            "1\n",
            "4\n"
          ],
          "name": "stdout"
        }
      ]
    },
    {
      "cell_type": "code",
      "metadata": {
        "colab": {
          "base_uri": "https://localhost:8080/"
        },
        "id": "v7UcI1CkJceQ",
        "outputId": "a6061b40-34c6-4ed8-c209-df55291bc029"
      },
      "source": [
        "number = int(input(\"enter a number: \"))\n",
        "for i in range(11):\n",
        "  print(\"{}x{} = \" .format(number, i),number*i)\n"
      ],
      "execution_count": null,
      "outputs": [
        {
          "output_type": "stream",
          "text": [
            "enter a number: 5\n",
            "5x0 =  0\n",
            "5x1 =  5\n",
            "5x2 =  10\n",
            "5x3 =  15\n",
            "5x4 =  20\n",
            "5x5 =  25\n",
            "5x6 =  30\n",
            "5x7 =  35\n",
            "5x8 =  40\n",
            "5x9 =  45\n",
            "5x10 =  50\n"
          ],
          "name": "stdout"
        }
      ]
    },
    {
      "cell_type": "code",
      "metadata": {
        "colab": {
          "base_uri": "https://localhost:8080/"
        },
        "id": "v8-sRlbXJca4",
        "outputId": "c6af85bf-1c30-49bb-b2d2-ed1b59ec9bbf"
      },
      "source": [
        "print(*range(5,25,2))"
      ],
      "execution_count": null,
      "outputs": [
        {
          "output_type": "stream",
          "text": [
            "5 7 9 11 13 15 17 19 21 23\n"
          ],
          "name": "stdout"
        }
      ]
    },
    {
      "cell_type": "code",
      "metadata": {
        "colab": {
          "base_uri": "https://localhost:8080/"
        },
        "id": "-ghDd_pSJcXg",
        "outputId": "aa178d1d-ee22-4d72-fa87-17e7bc74dd4c"
      },
      "source": [
        "print(range(5,25,2))"
      ],
      "execution_count": null,
      "outputs": [
        {
          "output_type": "stream",
          "text": [
            "range(5, 25, 2)\n"
          ],
          "name": "stdout"
        }
      ]
    },
    {
      "cell_type": "code",
      "metadata": {
        "colab": {
          "base_uri": "https://localhost:8080/"
        },
        "id": "gLfKEEZrJcTm",
        "outputId": "99c04f83-434a-4725-ba26-e3847593c7c7"
      },
      "source": [
        "print(*range(5,0,-2))"
      ],
      "execution_count": null,
      "outputs": [
        {
          "output_type": "stream",
          "text": [
            "5 3 1\n"
          ],
          "name": "stdout"
        }
      ]
    },
    {
      "cell_type": "code",
      "metadata": {
        "colab": {
          "base_uri": "https://localhost:8080/"
        },
        "id": "WIq8s5GxJcRO",
        "outputId": "3033358c-1184-40b1-a246-8aad35bff908"
      },
      "source": [
        "text = ['one','two','three','four','five']  # zip karşılaştırıyor\n",
        "numbers = [1, 2, 3, 4, 5]\n",
        "for x, y in zip(text, numbers):\n",
        "    print(x, ':', y)"
      ],
      "execution_count": null,
      "outputs": [
        {
          "output_type": "stream",
          "text": [
            "one : 1\n",
            "two : 2\n",
            "three : 3\n",
            "four : 4\n",
            "five : 5\n"
          ],
          "name": "stdout"
        }
      ]
    },
    {
      "cell_type": "code",
      "metadata": {
        "colab": {
          "base_uri": "https://localhost:8080/"
        },
        "id": "zszYFocTJcNe",
        "outputId": "07452df6-7bc1-4b80-9b6b-0d20290b1039"
      },
      "source": [
        "zippo = zip(text, numbers)\n",
        "dict(zippo)\n",
        "\n"
      ],
      "execution_count": null,
      "outputs": [
        {
          "output_type": "execute_result",
          "data": {
            "text/plain": [
              "{'five': 5, 'four': 4, 'one': 1, 'three': 3, 'two': 2}"
            ]
          },
          "metadata": {
            "tags": []
          },
          "execution_count": 29
        }
      ]
    },
    {
      "cell_type": "code",
      "metadata": {
        "colab": {
          "base_uri": "https://localhost:8080/"
        },
        "id": "wImgh2Y0JcJR",
        "outputId": "09d8b703-cd1a-4b2d-b436-04825b013545"
      },
      "source": [
        "zippo = zip(text, numbers)\n",
        "list(zippo)\n",
        "\n"
      ],
      "execution_count": null,
      "outputs": [
        {
          "output_type": "execute_result",
          "data": {
            "text/plain": [
              "[('one', 1), ('two', 2), ('three', 3), ('four', 4), ('five', 5)]"
            ]
          },
          "metadata": {
            "tags": []
          },
          "execution_count": 30
        }
      ]
    },
    {
      "cell_type": "code",
      "metadata": {
        "colab": {
          "base_uri": "https://localhost:8080/"
        },
        "id": "Fxi7nPQHJb3r",
        "outputId": "dcfd832e-4220-4fd3-e7b9-5f307755525a"
      },
      "source": [
        "zippo = zip(text, numbers)\n",
        "tuple(zippo)\n",
        "\n"
      ],
      "execution_count": null,
      "outputs": [
        {
          "output_type": "execute_result",
          "data": {
            "text/plain": [
              "(('one', 1), ('two', 2), ('three', 3), ('four', 4), ('five', 5))"
            ]
          },
          "metadata": {
            "tags": []
          },
          "execution_count": 31
        }
      ]
    },
    {
      "cell_type": "code",
      "metadata": {
        "id": "mEGYtC1FRwfP"
      },
      "source": [
        "text = ['one','two','three','four','five']  # zip karşılaştırıyor\n",
        "numbers = [1, 2, 3, 4, 5]"
      ],
      "execution_count": null,
      "outputs": []
    },
    {
      "cell_type": "code",
      "metadata": {
        "colab": {
          "base_uri": "https://localhost:8080/"
        },
        "id": "XpLrdJrERwb6",
        "outputId": "c5b06c1f-f903-489b-aa5c-d7417eca63ee"
      },
      "source": [
        "numbers.reverse()\n",
        "print(numbers)"
      ],
      "execution_count": null,
      "outputs": [
        {
          "output_type": "stream",
          "text": [
            "[5, 4, 3, 2, 1]\n"
          ],
          "name": "stdout"
        }
      ]
    },
    {
      "cell_type": "code",
      "metadata": {
        "colab": {
          "base_uri": "https://localhost:8080/"
        },
        "id": "i7enaXW-RwYi",
        "outputId": "0cd98688-670c-4736-b0e9-e1da7fa8e469"
      },
      "source": [
        "numbers.sort()\n",
        "print(numbers)"
      ],
      "execution_count": null,
      "outputs": [
        {
          "output_type": "stream",
          "text": [
            "[1, 2, 3, 4, 5]\n"
          ],
          "name": "stdout"
        }
      ]
    },
    {
      "cell_type": "code",
      "metadata": {
        "colab": {
          "base_uri": "https://localhost:8080/"
        },
        "id": "5M-2iRCzRwV0",
        "outputId": "b610d479-1764-4400-d178-84f1a0117708"
      },
      "source": [
        "numbers.pop(1)\n",
        "print(numbers)"
      ],
      "execution_count": null,
      "outputs": [
        {
          "output_type": "stream",
          "text": [
            "[1, 3, 4, 5]\n"
          ],
          "name": "stdout"
        }
      ]
    },
    {
      "cell_type": "code",
      "metadata": {
        "colab": {
          "base_uri": "https://localhost:8080/"
        },
        "id": "gQNaCrilRwSz",
        "outputId": "93bb7206-4fd4-4710-ab1f-d1d05ff3aa31"
      },
      "source": [
        "text.clear()\n",
        "print(text)"
      ],
      "execution_count": null,
      "outputs": [
        {
          "output_type": "stream",
          "text": [
            "[]\n"
          ],
          "name": "stdout"
        }
      ]
    },
    {
      "cell_type": "code",
      "metadata": {
        "colab": {
          "base_uri": "https://localhost:8080/"
        },
        "id": "Fa8LuKsXRwPB",
        "outputId": "6d2c16eb-ff98-4b1f-eb4c-b1b4c8c61b65"
      },
      "source": [
        "sayi=int(input(\"Sayıyı Girin : \"))   ###prime number\n",
        "if sayi > 1:\n",
        "   \n",
        "   for i in range(2,sayi):\n",
        "       if (sayi % i) == 0:\n",
        "           print(sayi,\" Asal Sayı Değildir.\")\n",
        "           break\n",
        "   else:\n",
        "       print(sayi,\" Asal Sayıdır.\")\n",
        " \n",
        "else:\n",
        "   print(sayi,\" Asal Sayı Değildir.\")"
      ],
      "execution_count": null,
      "outputs": [
        {
          "output_type": "stream",
          "text": [
            "Sayıyı Girin : 24\n",
            "24  Asal Sayı Değildir.\n"
          ],
          "name": "stdout"
        }
      ]
    },
    {
      "cell_type": "code",
      "metadata": {
        "colab": {
          "base_uri": "https://localhost:8080/"
        },
        "id": "2Esjrj1rYG82",
        "outputId": "7b77eb34-f50a-48f8-d5c5-8e09c02432ad"
      },
      "source": [
        "sayi=int(input(\"Sayıyı Girin : \")) ##### prime number\n",
        "count = 0\n",
        "for i in range(1, sayi+1):\n",
        "  if not sayi % i:\n",
        "    count +=1\n",
        "if (sayi==0) or (sayi==1) or (count >= 3) :\n",
        "  print(sayi, \"is not a prime number\")\n",
        "else:\n",
        "  print(sayi, \"is a prime number\")\n"
      ],
      "execution_count": null,
      "outputs": [
        {
          "output_type": "stream",
          "text": [
            "Sayıyı Girin : 5\n",
            "5 is a prime number\n"
          ],
          "name": "stdout"
        }
      ]
    },
    {
      "cell_type": "code",
      "metadata": {
        "colab": {
          "base_uri": "https://localhost:8080/"
        },
        "id": "0UMKqpzFbryg",
        "outputId": "70d66e15-3f2d-4d80-b0bd-9558177ed35e"
      },
      "source": [
        "print(not 5%5)"
      ],
      "execution_count": null,
      "outputs": [
        {
          "output_type": "stream",
          "text": [
            "True\n"
          ],
          "name": "stdout"
        }
      ]
    },
    {
      "cell_type": "code",
      "metadata": {
        "id": "5m-6zs8aRwL3",
        "colab": {
          "base_uri": "https://localhost:8080/"
        },
        "outputId": "894886f5-6db9-43e2-be2f-72d80ae47f5f"
      },
      "source": [
        "print(\"Estimating the risk of death from coronavirus.\")\n",
        "list1 = []  \n",
        "age = input(\"do you have elder 75 years old: \")\n",
        "list1.append(age)\n",
        "chronic = input(\"do you have a chronic disease(yes or no): \")\n",
        "list1.append(age)\n",
        "immune = input(\"are you have immune weak(yes or no): \")\n",
        "list1.append(age)\n",
        "smoke = input(\"do you smoke(yes or no): \")\n",
        "list1.append(age)\n",
        "if \"yes\" in list1:     # If there is already a \"yes\" in the list, the result is true of type bool.\n",
        "                         # so the same as the \"and\" operator !!!!!!!\n",
        "  print(\"You are in risky group\")\n",
        "elif \"no\" in list1:\n",
        "  print(\"You are not in risky group\")\n",
        "else:\n",
        "\n",
        "  print(\"please write just yes or no \")\n",
        "\n",
        "\n",
        "\n",
        "\n"
      ],
      "execution_count": null,
      "outputs": [
        {
          "output_type": "stream",
          "text": [
            "Estimating the risk of death from coronavirus.\n",
            "do you have elder 75 years old: yes\n",
            "do you have a chronic disease(yes or no): no\n",
            "are you have immune weak(yes or no): no\n",
            "do you smoke(yes or no): no\n",
            "You are in risky group\n"
          ],
          "name": "stdout"
        }
      ]
    },
    {
      "cell_type": "code",
      "metadata": {
        "id": "hF1lDMrMRwJB",
        "colab": {
          "base_uri": "https://localhost:8080/"
        },
        "outputId": "cee2fe06-cdd9-427b-ac2b-7b054600a21c"
      },
      "source": [
        "\n",
        "list1 = []\n",
        "list2 = []\n",
        "for i in range(1, 11):\n",
        "  if i%2==0:\n",
        "    list1.append(i)\n",
        "    \n",
        "  else:\n",
        "    list2.append(i)\n",
        "print(list1)\n",
        "print(list2)\n",
        "\n"
      ],
      "execution_count": null,
      "outputs": [
        {
          "output_type": "stream",
          "text": [
            "[2, 4, 6, 8, 10]\n",
            "[1, 3, 5, 7, 9]\n"
          ],
          "name": "stdout"
        }
      ]
    },
    {
      "cell_type": "code",
      "metadata": {
        "id": "z8QiyFqkRwFW",
        "colab": {
          "base_uri": "https://localhost:8080/"
        },
        "outputId": "944014ce-88d5-4155-e333-f96512af610b"
      },
      "source": [
        "evens = []\n",
        "odd = []\n",
        "for i in range(1, 11):\n",
        "  if i % 2 == 0:\n",
        "    evens.append(i)\n",
        "  else:\n",
        "    odd.append(i)\n",
        "print(evens)\n",
        "print(odd)\n"
      ],
      "execution_count": null,
      "outputs": [
        {
          "output_type": "stream",
          "text": [
            "[2, 4, 6, 8, 10]\n",
            "[1, 3, 5, 7, 9]\n"
          ],
          "name": "stdout"
        }
      ]
    },
    {
      "cell_type": "code",
      "metadata": {
        "id": "_wzaY6P9RwCg",
        "colab": {
          "base_uri": "https://localhost:8080/"
        },
        "outputId": "4488d5bd-2ddc-4a4b-8758-6ebb08e24691"
      },
      "source": [
        "elist = [11,2,24,61,48,33,3]\n",
        "odd = []\n",
        "even = []\n",
        "for i in elist:\n",
        "  if i%2==0:\n",
        "    even.append(i)\n",
        "  else:\n",
        "    odd.append(i)\n",
        "\n",
        "print(len(even),\"adet\",even)\n",
        "print(len(odd), \"adet\", odd)\n"
      ],
      "execution_count": null,
      "outputs": [
        {
          "output_type": "stream",
          "text": [
            "3 adet [2, 24, 48]\n",
            "4 adet [11, 61, 33, 3]\n"
          ],
          "name": "stdout"
        }
      ]
    },
    {
      "cell_type": "code",
      "metadata": {
        "id": "jpq2tT7TRv-l",
        "colab": {
          "base_uri": "https://localhost:8080/"
        },
        "outputId": "8147dd9e-0b37-4821-ce49-2972f51d643a"
      },
      "source": [
        "elist = [11,2,24,61,48,33,3]\n",
        "odd = 0\n",
        "even = 0\n",
        "for i in elist:\n",
        "  if not i%2==0:\n",
        "    even +=1\n",
        "  else:\n",
        "    \n",
        "    odd += 1\n",
        "\n",
        "print(\"count of numbers even\",even)\n",
        "print(\"count of numbers odd\",odd)\n"
      ],
      "execution_count": null,
      "outputs": [
        {
          "output_type": "stream",
          "text": [
            "count of numbers even 4\n",
            "count of numbers odd 3\n"
          ],
          "name": "stdout"
        }
      ]
    },
    {
      "cell_type": "code",
      "metadata": {
        "id": "CMAMi3jIRv7w",
        "colab": {
          "base_uri": "https://localhost:8080/"
        },
        "outputId": "a5d94ec8-66aa-413f-cef6-d4e4f1e85412"
      },
      "source": [
        "numbers = [11,2,24,61,48,33,3,78,88,96,54]\n",
        "evens = 0\n",
        "odds = 0\n",
        "for i in numbers:\n",
        "    if not i%2 :\n",
        "        evens += 1\n",
        "    else:\n",
        "        odds += 1\n",
        "print(\"The count of even numbers : \", evens)\n",
        "print(\"The count of odd numbers : \", odds)"
      ],
      "execution_count": null,
      "outputs": [
        {
          "output_type": "stream",
          "text": [
            "The count of even numbers :  7\n",
            "The count of odd numbers :  4\n"
          ],
          "name": "stdout"
        }
      ]
    },
    {
      "cell_type": "code",
      "metadata": {
        "id": "_fNIwTkURv4J",
        "colab": {
          "base_uri": "https://localhost:8080/"
        },
        "outputId": "56848f69-8f29-4239-e097-a47aa369f3a7"
      },
      "source": [
        "for i in range(10):\n",
        "    print(str(i)*i)"
      ],
      "execution_count": null,
      "outputs": [
        {
          "output_type": "stream",
          "text": [
            "\n",
            "1\n",
            "22\n",
            "333\n",
            "4444\n",
            "55555\n",
            "666666\n",
            "7777777\n",
            "88888888\n",
            "999999999\n"
          ],
          "name": "stdout"
        }
      ]
    },
    {
      "cell_type": "code",
      "metadata": {
        "id": "0hWzuoHdRv03",
        "colab": {
          "base_uri": "https://localhost:8080/"
        },
        "outputId": "ba370f98-64f8-414d-bdf5-76193a9dfe0a"
      },
      "source": [
        "toplam = 0\n",
        "for i in range(1,75):           # sayıların toplamı\n",
        "  \n",
        "  toplam = toplam + i\n",
        "print(toplam)"
      ],
      "execution_count": null,
      "outputs": [
        {
          "output_type": "stream",
          "text": [
            "2775\n"
          ],
          "name": "stdout"
        }
      ]
    },
    {
      "cell_type": "code",
      "metadata": {
        "id": "TS2w-iMoRvwv",
        "colab": {
          "base_uri": "https://localhost:8080/"
        },
        "outputId": "ead05d26-2131-4e24-a8d6-28b38735da8f"
      },
      "source": [
        "sum(range(1, 75)).  # toplamı"
      ],
      "execution_count": null,
      "outputs": [
        {
          "output_type": "execute_result",
          "data": {
            "text/plain": [
              "2775"
            ]
          },
          "metadata": {
            "tags": []
          },
          "execution_count": 53
        }
      ]
    },
    {
      "cell_type": "code",
      "metadata": {
        "colab": {
          "base_uri": "https://localhost:8080/"
        },
        "id": "ZRYWdPDHJSM5",
        "outputId": "f7f29a57-126d-4d2b-860e-8da913a6fbcc"
      },
      "source": [
        "who = [\"i am\" , \"you are\"]\n",
        "mood = [\"good\", \"confident\"]\n",
        "for i in who:\n",
        "  for ii in mood:\n",
        "    print(i, ii)"
      ],
      "execution_count": null,
      "outputs": [
        {
          "output_type": "stream",
          "text": [
            "i am good\n",
            "i am confident\n",
            "you are good\n",
            "you are confident\n"
          ],
          "name": "stdout"
        }
      ]
    },
    {
      "cell_type": "code",
      "metadata": {
        "colab": {
          "base_uri": "https://localhost:8080/"
        },
        "id": "nfHtoptXJSI3",
        "outputId": "cb216f0a-6bc6-49c9-866c-9f3cc99dd9a2"
      },
      "source": [
        "names = [\"susan\", \"tom\", \"edward\"] \n",
        "mood = [\"happy\", \"sad\"]\n",
        "for i in names:\n",
        "  for ii in mood:\n",
        "    print(i ,\"is\", ii)"
      ],
      "execution_count": null,
      "outputs": [
        {
          "output_type": "stream",
          "text": [
            "susan is happy\n",
            "susan is sad\n",
            "tom is happy\n",
            "tom is sad\n",
            "edward is happy\n",
            "edward is sad\n"
          ],
          "name": "stdout"
        }
      ]
    },
    {
      "cell_type": "code",
      "metadata": {
        "colab": {
          "base_uri": "https://localhost:8080/"
        },
        "id": "KOyECS6zJSFk",
        "outputId": "e444f2de-425a-4cdd-f246-155c97ffa2f7"
      },
      "source": [
        "my_list = [1, 2 , 3 , 4 , 5 , 6]\n",
        "new_list = []\n",
        "for i in my_list :\n",
        "  if i % 2 :\n",
        "    new_list.append(i ** 2)\n",
        "print(new_list)"
      ],
      "execution_count": null,
      "outputs": [
        {
          "output_type": "stream",
          "text": [
            "[1, 9, 25]\n"
          ],
          "name": "stdout"
        }
      ]
    },
    {
      "cell_type": "code",
      "metadata": {
        "colab": {
          "base_uri": "https://localhost:8080/"
        },
        "id": "pAlEEDISJSCG",
        "outputId": "df1e0869-deed-4765-b7ae-c941fb46c0da"
      },
      "source": [
        "print([i for i in range(5)])    # list comprehension\n"
      ],
      "execution_count": null,
      "outputs": [
        {
          "output_type": "stream",
          "text": [
            "[0, 1, 2, 3, 4]\n"
          ],
          "name": "stdout"
        }
      ]
    },
    {
      "cell_type": "code",
      "metadata": {
        "colab": {
          "base_uri": "https://localhost:8080/"
        },
        "id": "MB6Rc2omJR_C",
        "outputId": "d4c19be0-526e-41d1-e284-f7449391f061"
      },
      "source": [
        "print([i**2 for i in range(5)])  # list comprehension"
      ],
      "execution_count": null,
      "outputs": [
        {
          "output_type": "stream",
          "text": [
            "[0, 1, 4, 9, 16]\n"
          ],
          "name": "stdout"
        }
      ]
    },
    {
      "cell_type": "code",
      "metadata": {
        "colab": {
          "base_uri": "https://localhost:8080/"
        },
        "id": "m2k1zwZHJR8K",
        "outputId": "9a53423b-fb7b-4856-df3c-f5fe1e8cf65d"
      },
      "source": [
        "my_list = [1, 2, 3, 4, 5, 6]     #ternary condition yapısı\n",
        "[i ** 2 for i in my_list if i %2]"
      ],
      "execution_count": null,
      "outputs": [
        {
          "output_type": "execute_result",
          "data": {
            "text/plain": [
              "[1, 9, 25]"
            ]
          },
          "metadata": {
            "tags": []
          },
          "execution_count": 68
        }
      ]
    },
    {
      "cell_type": "code",
      "metadata": {
        "id": "5frWhxP8l_Vy"
      },
      "source": [
        ""
      ],
      "execution_count": null,
      "outputs": []
    },
    {
      "cell_type": "code",
      "metadata": {
        "colab": {
          "base_uri": "https://localhost:8080/"
        },
        "id": "hzxESmepJR5s",
        "outputId": "9ff9b1a1-7a2b-432d-9c8c-4c3a32541ba7"
      },
      "source": [
        "my_list = [1, 2, 3, 4, 5, 6]     #ternary condition yapısı\n",
        "[i ** 2 for i in my_list if not i %2]"
      ],
      "execution_count": null,
      "outputs": [
        {
          "output_type": "execute_result",
          "data": {
            "text/plain": [
              "[4, 16, 36]"
            ]
          },
          "metadata": {
            "tags": []
          },
          "execution_count": 69
        }
      ]
    },
    {
      "cell_type": "code",
      "metadata": {
        "id": "X5qPMoshJR25"
      },
      "source": [
        "def px(a):\n",
        "\n",
        "  px = a*3.14\n",
        "  print(px)\n",
        "  "
      ],
      "execution_count": null,
      "outputs": []
    },
    {
      "cell_type": "code",
      "metadata": {
        "colab": {
          "base_uri": "https://localhost:8080/"
        },
        "id": "BFL-2545mRd9",
        "outputId": "396fb318-490e-4e30-daea-53af4926d2e8"
      },
      "source": [
        "px(5)"
      ],
      "execution_count": null,
      "outputs": [
        {
          "output_type": "stream",
          "text": [
            "15.700000000000001\n"
          ],
          "name": "stdout"
        }
      ]
    },
    {
      "cell_type": "code",
      "metadata": {
        "id": "4y1drwAYJRzp"
      },
      "source": [
        "def karebul(a):\n",
        "  karesi =(a*a)\n",
        "  print(karesi)"
      ],
      "execution_count": null,
      "outputs": []
    },
    {
      "cell_type": "code",
      "metadata": {
        "id": "e7fqsHV2JRud",
        "colab": {
          "base_uri": "https://localhost:8080/"
        },
        "outputId": "116e9d74-f9c0-4d9c-bbc9-9e7ac2549ea2"
      },
      "source": [
        "karebul(5)"
      ],
      "execution_count": null,
      "outputs": [
        {
          "output_type": "stream",
          "text": [
            "25\n"
          ],
          "name": "stdout"
        }
      ]
    },
    {
      "cell_type": "code",
      "metadata": {
        "id": "dBn_xbmjm7_o"
      },
      "source": [
        "def px(a):\n",
        "\n",
        "  px = (a*3.14)\n",
        "  return\n",
        "  "
      ],
      "execution_count": null,
      "outputs": []
    },
    {
      "cell_type": "code",
      "metadata": {
        "colab": {
          "base_uri": "https://localhost:8080/"
        },
        "id": "MDwzdmB8m78b",
        "outputId": "b8b75d74-e99a-4c51-e5cd-8dfe792ba5cd"
      },
      "source": [
        "print(px(5))"
      ],
      "execution_count": null,
      "outputs": [
        {
          "output_type": "stream",
          "text": [
            "None\n"
          ],
          "name": "stdout"
        }
      ]
    },
    {
      "cell_type": "code",
      "metadata": {
        "id": "ZP_REv17m75L"
      },
      "source": [
        "def ccevresi(r):\n",
        "  ccevresi = (2*3.14*r*r)\n",
        "  print(ccevresi)\n"
      ],
      "execution_count": null,
      "outputs": []
    },
    {
      "cell_type": "code",
      "metadata": {
        "colab": {
          "base_uri": "https://localhost:8080/"
        },
        "id": "zdwM0wTtm71g",
        "outputId": "abb6ff03-3b4d-4318-c0e8-e47d5560d3ac"
      },
      "source": [
        "ccevresi(5)"
      ],
      "execution_count": null,
      "outputs": [
        {
          "output_type": "stream",
          "text": [
            "157.0\n"
          ],
          "name": "stdout"
        }
      ]
    },
    {
      "cell_type": "code",
      "metadata": {
        "colab": {
          "base_uri": "https://localhost:8080/"
        },
        "id": "oWi0rJKfm7yw",
        "outputId": "9995d010-b377-4f4c-b422-7ab824a3e41a"
      },
      "source": [
        "grocery = \"bread\", \"water\", \"oil\"\n",
        "enum_grocery = list(enumerate(grocery,1000))\n",
        "print(enum_grocery)"
      ],
      "execution_count": null,
      "outputs": [
        {
          "output_type": "stream",
          "text": [
            "[(1000, 'bread'), (1001, 'water'), (1002, 'oil')]\n"
          ],
          "name": "stdout"
        }
      ]
    },
    {
      "cell_type": "code",
      "metadata": {
        "colab": {
          "base_uri": "https://localhost:8080/"
        },
        "id": "smMntFNWm7vM",
        "outputId": "3f5fdf63-4aae-4c66-d8bb-854437522bb0"
      },
      "source": [
        "grocery = \"bread\", \"water\", \"oil\"\n",
        "enum_grocery = list(enumerate(grocery,0))\n",
        "print(enum_grocery)"
      ],
      "execution_count": null,
      "outputs": [
        {
          "output_type": "stream",
          "text": [
            "[(0, 'bread'), (1, 'water'), (2, 'oil')]\n"
          ],
          "name": "stdout"
        }
      ]
    },
    {
      "cell_type": "code",
      "metadata": {
        "colab": {
          "base_uri": "https://localhost:8080/"
        },
        "id": "iWnjBqLYm7r2",
        "outputId": "abab40e5-3111-4e0b-85df-6b1f342f8bd0"
      },
      "source": [
        "ord(\"a\")   # ascii sayısal karşılığı verir"
      ],
      "execution_count": null,
      "outputs": [
        {
          "output_type": "execute_result",
          "data": {
            "text/plain": [
              "97"
            ]
          },
          "metadata": {
            "tags": []
          },
          "execution_count": 48
        }
      ]
    },
    {
      "cell_type": "code",
      "metadata": {
        "colab": {
          "base_uri": "https://localhost:8080/"
        },
        "id": "5HIK7LHHm7o5",
        "outputId": "e294a62b-8dde-405d-b49b-5da4a90599da"
      },
      "source": [
        "a = []\n",
        "for i in range(10):\n",
        "  a.append(i)\n",
        "print(a)\n",
        "print(sum(a))"
      ],
      "execution_count": null,
      "outputs": [
        {
          "output_type": "stream",
          "text": [
            "[0, 1, 2, 3, 4, 5, 6, 7, 8, 9]\n",
            "45\n"
          ],
          "name": "stdout"
        }
      ]
    },
    {
      "cell_type": "code",
      "metadata": {
        "colab": {
          "base_uri": "https://localhost:8080/"
        },
        "id": "wheAbDTum7mV",
        "outputId": "bbb3e1d6-d27c-44bd-884d-0d51834ac89e"
      },
      "source": [
        "print(round(12.43453,3))\n"
      ],
      "execution_count": null,
      "outputs": [
        {
          "output_type": "stream",
          "text": [
            "12.435\n"
          ],
          "name": "stdout"
        }
      ]
    },
    {
      "cell_type": "code",
      "metadata": {
        "colab": {
          "base_uri": "https://localhost:8080/"
        },
        "id": "f6Wlv38JAQlh",
        "outputId": "05604518-dc10-4763-edb7-b68b6bee244c"
      },
      "source": [
        "print(round(12.43553,3))"
      ],
      "execution_count": null,
      "outputs": [
        {
          "output_type": "stream",
          "text": [
            "12.436\n"
          ],
          "name": "stdout"
        }
      ]
    },
    {
      "cell_type": "code",
      "metadata": {
        "colab": {
          "base_uri": "https://localhost:8080/"
        },
        "id": "yOIHu3f8m7jI",
        "outputId": "ba397973-f1a1-49c5-c970-92f0f572c47a"
      },
      "source": [
        "print(round(12.43453))"
      ],
      "execution_count": null,
      "outputs": [
        {
          "output_type": "stream",
          "text": [
            "12\n"
          ],
          "name": "stdout"
        }
      ]
    },
    {
      "cell_type": "code",
      "metadata": {
        "colab": {
          "base_uri": "https://localhost:8080/"
        },
        "id": "nsM0UNc8m7f8",
        "outputId": "46ec9b61-dcf0-402b-c6c2-fd77d883fb6a"
      },
      "source": [
        "def multiply(a, b) :\n",
        "    print(a * b)\n",
        "multiply(3, 5)\n",
        "multiply(-1, 2.5)\n",
        "multiply('amazing ', 3)"
      ],
      "execution_count": null,
      "outputs": [
        {
          "output_type": "stream",
          "text": [
            "15\n",
            "-2.5\n",
            "amazing amazing amazing \n"
          ],
          "name": "stdout"
        }
      ]
    },
    {
      "cell_type": "code",
      "metadata": {
        "colab": {
          "base_uri": "https://localhost:8080/"
        },
        "id": "iOvYXqcjm7c9",
        "outputId": "b1ec3d57-b570-4dfe-f5c2-29a6decb84a1"
      },
      "source": [
        "def multiply(a, b, c) :\n",
        "    print(a * b* c)\n",
        "multiply(3, 5, 2)\n",
        "multiply(-1, 2.5, 0)\n",
        "multiply('amazing ', 3, 2)"
      ],
      "execution_count": null,
      "outputs": [
        {
          "output_type": "stream",
          "text": [
            "30\n",
            "-0.0\n",
            "amazing amazing amazing amazing amazing amazing \n"
          ],
          "name": "stdout"
        }
      ]
    },
    {
      "cell_type": "code",
      "metadata": {
        "id": "VLJZfwprEjuj"
      },
      "source": [
        "def siir():\n",
        "  siir = \"\"\"Ne hasta bekler sabahı\n",
        "Ne taze ölüyü mezar.\n",
        "Ne de şeytan, bir günahı\n",
        "Seni beklediğim kadar.\n",
        "Geçti istemem gelmeni\n",
        "Yokluğunda buldum seni\n",
        "Bırak  vehmimde gölgeni\n",
        "Gelme, artık neye yarar?\"\"\"\n",
        "  return siir"
      ],
      "execution_count": 11,
      "outputs": []
    },
    {
      "cell_type": "code",
      "metadata": {
        "colab": {
          "base_uri": "https://localhost:8080/",
          "height": 52
        },
        "id": "-ZrfCA_VEjrQ",
        "outputId": "ec770bcc-1d2e-4de9-f8cf-e21628941eb3"
      },
      "source": [
        "siir()"
      ],
      "execution_count": 14,
      "outputs": [
        {
          "output_type": "execute_result",
          "data": {
            "application/vnd.google.colaboratory.intrinsic+json": {
              "type": "string"
            },
            "text/plain": [
              "'Ne hasta bekler sabahı\\nNe taze ölüyü mezar.\\nNe de şeytan, bir günahı\\nSeni beklediğim kadar.\\nGeçti istemem gelmeni\\nYokluğunda buldum seni\\nBırak  vehmimde gölgeni\\nGelme, artık neye yarar?'"
            ]
          },
          "metadata": {
            "tags": []
          },
          "execution_count": 14
        }
      ]
    },
    {
      "cell_type": "code",
      "metadata": {
        "id": "5AFVX68YEjoE"
      },
      "source": [
        ""
      ],
      "execution_count": null,
      "outputs": []
    },
    {
      "cell_type": "code",
      "metadata": {
        "id": "beV09ohvEjko"
      },
      "source": [
        "def calculator(x, y, opr):\n",
        "    if opr == \"+\":\n",
        "        print(x + y)\n",
        "    elif opr == \"-\":\n",
        "        print(x - y)\n",
        "    elif opr == \"*\":\n",
        "        print(x * y)\n",
        "    elif opr == \"/\":\n",
        "        print(x / y)\n",
        "    else:\n",
        "        print(\"Enter a valid operator!\")"
      ],
      "execution_count": null,
      "outputs": []
    },
    {
      "cell_type": "code",
      "metadata": {
        "colab": {
          "base_uri": "https://localhost:8080/"
        },
        "id": "il1bZjpjEjhe",
        "outputId": "99c548f3-2a2a-4fc7-c3fc-b9f25284daed"
      },
      "source": [
        "calculator(3,23,\"*\")"
      ],
      "execution_count": null,
      "outputs": [
        {
          "output_type": "stream",
          "text": [
            "69\n"
          ],
          "name": "stdout"
        }
      ]
    },
    {
      "cell_type": "code",
      "metadata": {
        "id": "lEI6l5f8SjU-"
      },
      "source": [
        "def calculator(x, y, opr):\n",
        "    if opr == \"+\":\n",
        "        return x + y\n",
        "    elif opr == \"-\":\n",
        "        return x - y\n",
        "    elif opr == \"*\":\n",
        "        return x * y\n",
        "    elif opr == \"/\":\n",
        "        return x / y\n",
        "    else:\n",
        "        return \"Enter a valid operator!\""
      ],
      "execution_count": null,
      "outputs": []
    },
    {
      "cell_type": "code",
      "metadata": {
        "colab": {
          "base_uri": "https://localhost:8080/"
        },
        "id": "AKl8dJeUSic3",
        "outputId": "81a83637-a4e3-48cb-b4da-d2866d544986"
      },
      "source": [
        "print(calculator(2, 3, \"*\"))"
      ],
      "execution_count": null,
      "outputs": [
        {
          "output_type": "stream",
          "text": [
            "6\n"
          ],
          "name": "stdout"
        }
      ]
    },
    {
      "cell_type": "code",
      "metadata": {
        "colab": {
          "base_uri": "https://localhost:8080/"
        },
        "id": "5I81DeHpEjeY",
        "outputId": "ff4bf5f5-ef88-458c-ad4a-28bc7c1dce82"
      },
      "source": [
        "print(siir())"
      ],
      "execution_count": null,
      "outputs": [
        {
          "output_type": "stream",
          "text": [
            "Ne hasta bekler sabahı\n",
            "Ne taze ölüyü mezar.\n",
            "Ne de şeytan, bir günahı\n",
            "Seni beklediğim kadar.\n",
            "Geçti istemem gelmeni\n",
            "Yokluğunda buldum seni\n",
            "Bırak  vehmimde gölgeni\n",
            "Gelme, artık neye yarar?\n"
          ],
          "name": "stdout"
        }
      ]
    },
    {
      "cell_type": "code",
      "metadata": {
        "colab": {
          "base_uri": "https://localhost:8080/"
        },
        "id": "itfUfIyoEjbI",
        "outputId": "d5e3a2bc-5da6-4236-9a62-bc1cbb253674"
      },
      "source": [
        "def boolean():\n",
        "    return True\n",
        "if boolean():\n",
        "    print(\"ben çalıştım\")\n",
        "else :\n",
        "    print(\"beni rahatsız etmeyesen.\")"
      ],
      "execution_count": null,
      "outputs": [
        {
          "output_type": "stream",
          "text": [
            "ben çalıştım\n"
          ],
          "name": "stdout"
        }
      ]
    },
    {
      "cell_type": "code",
      "metadata": {
        "colab": {
          "base_uri": "https://localhost:8080/"
        },
        "id": "N4lsV5HlQDS3",
        "outputId": "03944af8-625a-4875-d235-0f40cea6f431"
      },
      "source": [
        "while True :\n",
        "    number = input(\"enter a positive number.\")\n",
        "    digits = len(number)\n",
        "    summ = 0\n",
        "    if not number.isdigit() :\n",
        "        print(number, \"is invalid entry. enter numberic value!\")\n",
        "    elif int(number) >= 0 :\n",
        "        for i in range(digits) :\n",
        "            summ = summ + int(number[i]) ** digits\n",
        "        if summ == int(number) :\n",
        "            print(number, \"is an Armstrong Number.\")\n",
        "            break\n",
        "        else :\n",
        "            print(number, \"is not an Armstrong Number.\")\n",
        "            break"
      ],
      "execution_count": null,
      "outputs": [
        {
          "output_type": "stream",
          "text": [
            "enter a positive number.433800000000281769391370\n",
            "433800000000281769391370 is not an Armstrong Number.\n"
          ],
          "name": "stdout"
        }
      ]
    },
    {
      "cell_type": "code",
      "metadata": {
        "id": "r7yAqjvuQC5t",
        "colab": {
          "base_uri": "https://localhost:8080/"
        },
        "outputId": "9341f8e8-ce14-43d7-e1b5-43daa0faf1c2"
      },
      "source": [
        "def  fibonacci(sinir):\n",
        "    sayi1=0\n",
        "    sayi2=1\n",
        "    print(sayi1)\n",
        "    print(sayi2)\n",
        "    i=0\n",
        "    while(i<sinir-2):\n",
        "        sayi3=sayi1+sayi2\n",
        "        print(sayi3)\n",
        "        sayi1=sayi2\n",
        "        sayi2=sayi3\n",
        "        i+=1\n",
        "sinir=int(input(\"lütfen sayı giriniz: \"))\n",
        "fibonacci(sinir)"
      ],
      "execution_count": null,
      "outputs": [
        {
          "output_type": "stream",
          "text": [
            "lütfen sayı giriniz: 5\n",
            "0\n",
            "1\n",
            "1\n",
            "2\n",
            "3\n"
          ],
          "name": "stdout"
        }
      ]
    },
    {
      "cell_type": "code",
      "metadata": {
        "id": "Za0GLu51QC2L",
        "colab": {
          "base_uri": "https://localhost:8080/"
        },
        "outputId": "0dc835f3-02d8-4437-d960-d4294603b5b1"
      },
      "source": [
        "def  fibonacci(sinir):\n",
        "    sayi1=0\n",
        "    sayi2=1\n",
        "    print(sayi1)\n",
        "    print(sayi2)\n",
        "    for i in range(sinir-2):\n",
        "        sayi3=sayi1+sayi2\n",
        "        print(sayi3)\n",
        "        sayi1=sayi2\n",
        "        sayi2=sayi3\n",
        "sinir=int(input(\"lütfen sayı giriniz\"))\n",
        "fibonacci(sinir)"
      ],
      "execution_count": null,
      "outputs": [
        {
          "output_type": "stream",
          "text": [
            "lütfen sayı giriniz5\n",
            "0\n",
            "1\n",
            "1\n",
            "2\n",
            "3\n"
          ],
          "name": "stdout"
        }
      ]
    },
    {
      "cell_type": "code",
      "metadata": {
        "id": "_Mk8fOoWQCzm",
        "colab": {
          "base_uri": "https://localhost:8080/"
        },
        "outputId": "438167f4-c140-4c2a-bb5e-ecb899e0b777"
      },
      "source": [
        "\n",
        "dizi = [] #dizi tanımladık\n",
        "a = 1\n",
        "b = 1\n",
        "c = 1\n",
        "while c<1000: #1000 e kadar devam etmesi için while döngüsüne aldık\n",
        "    c = a+b\n",
        "    a = b\n",
        "    b = c\n",
        "    dizi.append(b) #diziye aktardık\n",
        "print(dizi)"
      ],
      "execution_count": null,
      "outputs": [
        {
          "output_type": "stream",
          "text": [
            "[2, 3, 5, 8, 13, 21, 34, 55, 89, 144, 233, 377, 610, 987, 1597]\n"
          ],
          "name": "stdout"
        }
      ]
    },
    {
      "cell_type": "code",
      "metadata": {
        "id": "Dw5E_5urQCv2",
        "colab": {
          "base_uri": "https://localhost:8080/"
        },
        "outputId": "512f2edc-36ad-466c-f211-a09dfd90fc2d"
      },
      "source": [
        "#Fibonacci dizisi hangi terimine kadar yazdırılsın onu giriyoruz.\n",
        "toplamsayi = int(input(\"Terim sayısı giriniz: \"))\n",
        "#Burada ilk 2 değeri girdik.Yani 0 ve 1'i manuel ekledik.\n",
        "a1 = 0\n",
        "a2 = 1\n",
        "saydir = 0\n",
        "#Burada ilk girdiğimiz değeri kontrol ettiriyoruz.Eğer 0'dan küçük sayı girdiksek program hata verecektir.\n",
        "if toplamsayi <= 0:\n",
        "    print(\"Lütfen pozitif bir sayı giriniz.\")\n",
        "elif toplamsayi == 1:\n",
        "    print(\"Fibonacci dizisi girdiğiniz\",toplamsayi,\"değerine kadar :\")\n",
        "    print(a1)\n",
        "else:\n",
        "    print(\"Fibonacci dizisi girdiğiniz\",toplamsayi,\"değerine kadar :\")\n",
        "while saydir < toplamsayi:\n",
        "    print(a1,end=' , ')\n",
        "    aa1 = a1 + a2\n",
        "    #Burada değerleri yeniliyoruz.Yani bir önceki sayıyı bir sonrakine ekledik ve yer değiştirdik.\n",
        "    a1 = a2\n",
        "    a2 = aa1\n",
        "    saydir += 1"
      ],
      "execution_count": null,
      "outputs": [
        {
          "output_type": "stream",
          "text": [
            "Terim sayısı giriniz: 55\n",
            "Fibonacci dizisi girdiğiniz 55 değerine kadar :\n",
            "0 , 1 , 1 , 2 , 3 , 5 , 8 , 13 , 21 , 34 , 55 , 89 , 144 , 233 , 377 , 610 , 987 , 1597 , 2584 , 4181 , 6765 , 10946 , 17711 , 28657 , 46368 , 75025 , 121393 , 196418 , 317811 , 514229 , 832040 , 1346269 , 2178309 , 3524578 , 5702887 , 9227465 , 14930352 , 24157817 , 39088169 , 63245986 , 102334155 , 165580141 , 267914296 , 433494437 , 701408733 , 1134903170 , 1836311903 , 2971215073 , 4807526976 , 7778742049 , 12586269025 , 20365011074 , 32951280099 , 53316291173 , 86267571272 , "
          ],
          "name": "stdout"
        }
      ]
    },
    {
      "cell_type": "code",
      "metadata": {
        "id": "cKDOSCc0QCtD",
        "colab": {
          "base_uri": "https://localhost:8080/"
        },
        "outputId": "31e537c1-64f4-4b75-c44a-fff5f832164b"
      },
      "source": [
        "\n",
        "letters = \"the clarusway is the best.\"\n",
        "def filter_vowels(letter): # function that filters vowels\n",
        "    vowels = ['a', 'e', 'i', 'o', 'u']\n",
        "    if letter.lower() in vowels:\n",
        "        return True\n",
        "    else:\n",
        "        return False\n",
        "filtered_vowels = filter(filter_vowels, letters)\n",
        "print('The filtered vowels are:')\n",
        "for vowel in filtered_vowels:\n",
        "    print(vowel)"
      ],
      "execution_count": null,
      "outputs": [
        {
          "output_type": "stream",
          "text": [
            "The filtered vowels are:\n",
            "e\n",
            "a\n",
            "u\n",
            "a\n",
            "i\n",
            "e\n",
            "e\n"
          ],
          "name": "stdout"
        }
      ]
    },
    {
      "cell_type": "code",
      "metadata": {
        "id": "_iFRhTK-QCpu",
        "colab": {
          "base_uri": "https://localhost:8080/"
        },
        "outputId": "5bac7059-546e-49a3-c63e-516d9ac1d55e"
      },
      "source": [
        "\n",
        "letters = \"the clarusway is the best.\"\n",
        "def filter_vowels(letter): # function that filters vowels\n",
        "    vowels = ['a', 'e', 'i', 'o', 'u']\n",
        "    if letter.lower() in vowels:\n",
        "        return True\n",
        "    else:\n",
        "        return False\n",
        "filtered_vowels = filter(filter_vowels, letters)\n",
        "print(filter_vowels)\n",
        "\n",
        "    "
      ],
      "execution_count": null,
      "outputs": [
        {
          "output_type": "stream",
          "text": [
            "<function filter_vowels at 0x7fd1a68c7a70>\n"
          ],
          "name": "stdout"
        }
      ]
    },
    {
      "cell_type": "code",
      "metadata": {
        "id": "Sj13vLugQCmU"
      },
      "source": [
        ""
      ],
      "execution_count": null,
      "outputs": []
    },
    {
      "cell_type": "code",
      "metadata": {
        "id": "pHmfM_r6QCjP"
      },
      "source": [
        "def absolute_value(x):    #docstring\n",
        "  \"\"\" \n",
        "  docstring\n",
        "  \"\"\"\n",
        "  if  x > 0:\n",
        "      return x\n",
        "  else:\n",
        "      return x*(-1)\n"
      ],
      "execution_count": null,
      "outputs": []
    },
    {
      "cell_type": "code",
      "metadata": {
        "id": "SpZA-Um8QCf7",
        "colab": {
          "base_uri": "https://localhost:8080/"
        },
        "outputId": "c09d99b4-b9a0-477a-c759-5cfa93626227"
      },
      "source": [
        "print(absolute_value.__doc__)"
      ],
      "execution_count": null,
      "outputs": [
        {
          "output_type": "stream",
          "text": [
            " \n",
            "  docstring\n",
            "  \n"
          ],
          "name": "stdout"
        }
      ]
    },
    {
      "cell_type": "code",
      "metadata": {
        "id": "ZQPDkOyVQCc7",
        "colab": {
          "base_uri": "https://localhost:8080/"
        },
        "outputId": "1fec9f55-10c3-4810-8c18-bc86d7e25d64"
      },
      "source": [
        "def pos_args(a, b):\n",
        "    print(a, 'is the first argument')\n",
        "    print(b, 'is the second argument')\n",
        "pos_args(3,4)\n",
        "print()\n",
        "pos_args(4,3)"
      ],
      "execution_count": null,
      "outputs": [
        {
          "output_type": "stream",
          "text": [
            "3 is the first argument\n",
            "4 is the second argument\n",
            "\n",
            "4 is the first argument\n",
            "3 is the second argument\n"
          ],
          "name": "stdout"
        }
      ]
    },
    {
      "cell_type": "code",
      "metadata": {
        "id": "czdFxgs9QCZa",
        "colab": {
          "base_uri": "https://localhost:8080/"
        },
        "outputId": "f84fc060-97f0-434e-8a03-c5b5fc3adecb"
      },
      "source": [
        "a = \"I\"\n",
        "b = \"love\"\n",
        "c = \"you\"\n",
        "def texter(a,b,c):\n",
        "  print(a,b,c)\n",
        "texter(a,b,c)\n"
      ],
      "execution_count": null,
      "outputs": [
        {
          "output_type": "stream",
          "text": [
            "I love you\n"
          ],
          "name": "stdout"
        }
      ]
    },
    {
      "cell_type": "code",
      "metadata": {
        "id": "2rQiLQ-yQCV4",
        "colab": {
          "base_uri": "https://localhost:8080/"
        },
        "outputId": "e06ea2a4-3ad3-4d7a-b6b6-ffdea542258a"
      },
      "source": [
        "def texter(a, b, c):\n",
        "    print(c, b, a)\n",
        "texter(\"you\", \"love\", \"I\")"
      ],
      "execution_count": null,
      "outputs": [
        {
          "output_type": "stream",
          "text": [
            "I love you\n"
          ],
          "name": "stdout"
        }
      ]
    },
    {
      "cell_type": "code",
      "metadata": {
        "id": "oclU4xTFJ2qd"
      },
      "source": [
        "def parrot(voltage, state='fuat', action='ceyhan', typek='nörüyon lenn'):\n",
        "    print(\"-- This parrot wouldn't\", action, end=' ')\n",
        "    print(\"if you put\", voltage, \"volts through it.\")\n",
        "    print(\"-- Lovely plumage, the\", typek)\n",
        "    print(\"-- It's\", state, \"!\")\n",
        "    "
      ],
      "execution_count": null,
      "outputs": []
    },
    {
      "cell_type": "code",
      "metadata": {
        "colab": {
          "base_uri": "https://localhost:8080/"
        },
        "id": "AsLjWcvkJ2md",
        "outputId": "711f829e-1720-47a3-f19b-efdee551ca49"
      },
      "source": [
        "parrot(10)                                          # 1 positional argument\n",
        "parrot(voltage=10)                                  # 1 keyword argument\n",
        "parrot(voltage=1000000, action='VOOOOOM')             # 2 keyword arguments\n",
        "parrot(action='VOOOOOM', voltage=1000000)             # 2 keyword arguments\n",
        "parrot('a million', 'bereft of life', 'jump')         # 3 positional arguments\n",
        "parrot('a thousand', state='pushing up the daisies')  # 1 positional, 1 keyword"
      ],
      "execution_count": null,
      "outputs": [
        {
          "output_type": "stream",
          "text": [
            "-- This parrot wouldn't ceyhan if you put 10 volts through it.\n",
            "-- Lovely plumage, the nörüyon lenn\n",
            "-- It's fuat !\n",
            "-- This parrot wouldn't ceyhan if you put 10 volts through it.\n",
            "-- Lovely plumage, the nörüyon lenn\n",
            "-- It's fuat !\n",
            "-- This parrot wouldn't VOOOOOM if you put 1000000 volts through it.\n",
            "-- Lovely plumage, the nörüyon lenn\n",
            "-- It's fuat !\n",
            "-- This parrot wouldn't VOOOOOM if you put 1000000 volts through it.\n",
            "-- Lovely plumage, the nörüyon lenn\n",
            "-- It's fuat !\n",
            "-- This parrot wouldn't jump if you put a million volts through it.\n",
            "-- Lovely plumage, the nörüyon lenn\n",
            "-- It's bereft of life !\n",
            "-- This parrot wouldn't ceyhan if you put a thousand volts through it.\n",
            "-- Lovely plumage, the nörüyon lenn\n",
            "-- It's pushing up the daisies !\n"
          ],
          "name": "stdout"
        }
      ]
    },
    {
      "cell_type": "code",
      "metadata": {
        "colab": {
          "base_uri": "https://localhost:8080/"
        },
        "id": "qGZzKuMYJ2jk",
        "outputId": "aa378f4c-c23c-4a25-becd-f6efabcaaf73"
      },
      "source": [
        "def argu(a, c, b = \"Dünya\", d = \"Saturn\"):\n",
        "    print(a, b, c, d, sep=\"\\n\")\n",
        "argu(\"Uranüs\", \"Jupiter\")"
      ],
      "execution_count": null,
      "outputs": [
        {
          "output_type": "stream",
          "text": [
            "Uranüs\n",
            "Dünya\n",
            "Jupiter\n",
            "Saturn\n"
          ],
          "name": "stdout"
        }
      ]
    },
    {
      "cell_type": "code",
      "metadata": {
        "colab": {
          "base_uri": "https://localhost:8080/"
        },
        "id": "nYQbuvyMJ2f6",
        "outputId": "2b8832c0-0103-4aa7-82d1-54b8a6ae955f"
      },
      "source": [
        "def city(capital, continent='Europe'):\n",
        "    print(capital, 'in', continent)\n",
        "city('Athens') # we don't have to pass any arguments into 'continent'\n",
        "city('Ulaanbaatar', continent='Asia') # we can change the default value by kwargs\n",
        "city('Cape Town', 'Africa') # we can change the default value by positional args."
      ],
      "execution_count": null,
      "outputs": [
        {
          "output_type": "stream",
          "text": [
            "Athens in Europe\n",
            "Ulaanbaatar in Asia\n",
            "Cape Town in Africa\n"
          ],
          "name": "stdout"
        }
      ]
    },
    {
      "cell_type": "code",
      "metadata": {
        "colab": {
          "base_uri": "https://localhost:8080/"
        },
        "id": "9m6V71-cJ2cY",
        "outputId": "031d3e31-83d7-41fd-e2ba-b6e8daf527eb"
      },
      "source": [
        "def fruiterer(fruit1, fruit2) :\n",
        "    print(\"I want to get\", fruit1, 'and', fruit2)\n",
        "fruiterer('orange', 'banana')"
      ],
      "execution_count": null,
      "outputs": [
        {
          "output_type": "stream",
          "text": [
            "I want to get orange and banana\n"
          ],
          "name": "stdout"
        }
      ]
    },
    {
      "cell_type": "code",
      "metadata": {
        "colab": {
          "base_uri": "https://localhost:8080/"
        },
        "id": "7jZnTNjwJ2ZN",
        "outputId": "91cb7c95-0c0b-439b-94ee-041d7b928a5e"
      },
      "source": [
        "def fruiterer(*fruit) :\n",
        "    print(\"I want to get :\")\n",
        "    for i in fruit :\n",
        "        print('-', i)\n",
        "fruiterer('orange', 'banana', 'melon', 'ananas')"
      ],
      "execution_count": null,
      "outputs": [
        {
          "output_type": "stream",
          "text": [
            "I want to get :\n",
            "- orange\n",
            "- banana\n",
            "- melon\n",
            "- ananas\n"
          ],
          "name": "stdout"
        }
      ]
    },
    {
      "cell_type": "code",
      "metadata": {
        "colab": {
          "base_uri": "https://localhost:8080/"
        },
        "id": "qxnlTNcTJ2Vn",
        "outputId": "69d46abe-4916-43d8-d039-18f8660811ed"
      },
      "source": [
        "def fruiterer(*fruit) :\n",
        "    print(\"I want to get :\")\n",
        "    for i in fruit :\n",
        "        print('-', i)\n",
        "fruiterer(input(\"istediğin meyveyi gir:\"))"
      ],
      "execution_count": null,
      "outputs": [
        {
          "output_type": "stream",
          "text": [
            "istediğin meyveyi gir:nar\n",
            "I want to get :\n",
            "- nar\n"
          ],
          "name": "stdout"
        }
      ]
    },
    {
      "cell_type": "code",
      "metadata": {
        "id": "YV_dk4-gJ2SF"
      },
      "source": [
        "def slicer(*nums):\n",
        "    even_list = []\n",
        "    odd_list = []\n",
        "    for i in nums:\n",
        "        if nums %2 == 0:\n",
        "            even_list.append(i)\n",
        "        else:\n",
        "            odd_list.append(i)"
      ],
      "execution_count": null,
      "outputs": []
    },
    {
      "cell_type": "code",
      "metadata": {
        "id": "vOYKqruOJ2O-"
      },
      "source": [
        "def slicer(*numbers):\n",
        "    even_list = []\n",
        "    odd_list = []\n",
        "    for i in numbers:\n",
        "        if i % 2 == 0:\n",
        "           even_list.append(i)\n",
        "        else:\n",
        "            odd_list.append(i)\n",
        "            return (even, odd)\n",
        "    print(\"even list \", even_list)\n",
        "    print(\"odd list \", odd_list)"
      ],
      "execution_count": null,
      "outputs": []
    },
    {
      "cell_type": "code",
      "metadata": {
        "colab": {
          "base_uri": "https://localhost:8080/"
        },
        "id": "eyYuHdc2J2Lm",
        "outputId": "82396847-7aa2-47ae-e0f4-affba9a4d67a"
      },
      "source": [
        "def slicer(x):\n",
        "    odds = []\n",
        "    evens = []\n",
        "    for item in x:\n",
        "        if item % 2 == 0:\n",
        "            evens.append(item)\n",
        "        elif item % 2 != 0:\n",
        "            odds.append(item)\n",
        "    return odds, evens\n",
        "lst = [1,2,3,4,5,6,7,8,9]\n",
        "odd_lst, even_lst = slicer(lst)\n",
        "print(\"odd list \", odd_lst)\n",
        "print(\"even list \", even_lst)"
      ],
      "execution_count": null,
      "outputs": [
        {
          "output_type": "stream",
          "text": [
            "odd list  [1, 3, 5, 7, 9]\n",
            "even list  [2, 4, 6, 8]\n"
          ],
          "name": "stdout"
        }
      ]
    },
    {
      "cell_type": "code",
      "metadata": {
        "colab": {
          "base_uri": "https://localhost:8080/"
        },
        "id": "hqAFgUHWJ2IP",
        "outputId": "489545c2-25c1-4aae-e8f3-597eefc82231"
      },
      "source": [
        "def animals(**kwargs):\n",
        "    for key, value in kwargs.items():\n",
        "        print(value, \"are\", key)\n",
        "animals(Carnivores=\"Lions\", Omnivores=\"Bears\", Herbivores=\"Deers\", Nomnivores=\"Human\")"
      ],
      "execution_count": null,
      "outputs": [
        {
          "output_type": "stream",
          "text": [
            "Lions are Carnivores\n",
            "Bears are Omnivores\n",
            "Deers are Herbivores\n",
            "Human are Nomnivores\n"
          ],
          "name": "stdout"
        }
      ]
    },
    {
      "cell_type": "code",
      "metadata": {
        "id": "C5Evdqx3J2Eg"
      },
      "source": [
        "def organizer(**a):\n",
        "    keys=[]\n",
        "    values=[]\n",
        "    for key, value in a.items():\n",
        "        keys.append(key)\n",
        "        values.append(value)\n",
        "    print(keys)\n",
        "    print(values)"
      ],
      "execution_count": null,
      "outputs": []
    },
    {
      "cell_type": "code",
      "metadata": {
        "colab": {
          "base_uri": "https://localhost:8080/"
        },
        "id": "QTHDaJisJ15I",
        "outputId": "5c4ccd67-72f3-4ae2-ad87-2eafecd3ddab"
      },
      "source": [
        "organizer(ali=23, veli=33)"
      ],
      "execution_count": null,
      "outputs": [
        {
          "output_type": "stream",
          "text": [
            "['ali', 'veli']\n",
            "[23, 33]\n"
          ],
          "name": "stdout"
        }
      ]
    },
    {
      "cell_type": "code",
      "metadata": {
        "colab": {
          "base_uri": "https://localhost:8080/"
        },
        "id": "YhkKKZcIjxqp",
        "outputId": "33de2e99-fae7-4b1e-8e07-6678d40841ef"
      },
      "source": [
        "def defa(**x) :             # dictionary iki yıldız alır \n",
        "    for t, z in x.items():\n",
        "        print(t, \"is\", z, \"years old.\")\n",
        "defa(ali = 33, veli = 44, deli = 100, ayşe = 22, nazan = 77)"
      ],
      "execution_count": null,
      "outputs": [
        {
          "output_type": "stream",
          "text": [
            "ali is 33 years old.\n",
            "veli is 44 years old.\n",
            "deli is 100 years old.\n",
            "ayşe is 22 years old.\n",
            "nazan is 77 years old.\n"
          ],
          "name": "stdout"
        }
      ]
    },
    {
      "cell_type": "code",
      "metadata": {
        "id": "AQd_3Zp0jxmA",
        "colab": {
          "base_uri": "https://localhost:8080/"
        },
        "outputId": "02560bb6-eb5f-42bb-e6f2-c2ba2c8b894f"
      },
      "source": [
        "def defa(*x):           # tuple bir yıldız alır\n",
        "  say = 0\n",
        "  for t in x:\n",
        "    say +=t\n",
        "  return say\n",
        "print(defa(10,20,35,50,15))"
      ],
      "execution_count": null,
      "outputs": [
        {
          "output_type": "stream",
          "text": [
            "130\n"
          ],
          "name": "stdout"
        }
      ]
    },
    {
      "cell_type": "code",
      "metadata": {
        "id": "Us-2d_1PjxiY",
        "colab": {
          "base_uri": "https://localhost:8080/"
        },
        "outputId": "5d9404e3-8801-42f2-d0b6-525ae011e39a"
      },
      "source": [
        "def defa(*x):           # tuple bir yıldız alır\n",
        "  return sum(x)\n",
        "print(defa(10,20,35,50,15))"
      ],
      "execution_count": null,
      "outputs": [
        {
          "output_type": "stream",
          "text": [
            "130\n"
          ],
          "name": "stdout"
        }
      ]
    },
    {
      "cell_type": "code",
      "metadata": {
        "id": "Rx8oxmDHjxfO",
        "colab": {
          "base_uri": "https://localhost:8080/"
        },
        "outputId": "206556ad-d25a-4876-eb21-2b2e63680323"
      },
      "source": [
        "def kelime(x):\n",
        "  for a in x:\n",
        "    return x * 5\n",
        "print(kelime(\"aşk \"))\n"
      ],
      "execution_count": null,
      "outputs": [
        {
          "output_type": "stream",
          "text": [
            "aşk aşk aşk aşk aşk \n"
          ],
          "name": "stdout"
        }
      ]
    },
    {
      "cell_type": "code",
      "metadata": {
        "colab": {
          "base_uri": "https://localhost:8080/"
        },
        "id": "Eg3GuSp4IDOm",
        "outputId": "024b2d82-f9f3-4141-c76d-222aa310af1c"
      },
      "source": [
        "def yazdir(kelime, adet):\n",
        "  print(kelime * adet)\n",
        "\n",
        "yazdir(\"aşk \",5)"
      ],
      "execution_count": null,
      "outputs": [
        {
          "output_type": "stream",
          "text": [
            "aşk aşk aşk aşk aşk \n"
          ],
          "name": "stdout"
        }
      ]
    },
    {
      "cell_type": "code",
      "metadata": {
        "id": "xwoZJqjxjxbp",
        "colab": {
          "base_uri": "https://localhost:8080/"
        },
        "outputId": "526eacfc-e42a-4fc0-83f3-8d68fa68a7b3"
      },
      "source": [
        "def listeyecevir(*params):\n",
        "  liste = []\n",
        "  for param in params:\n",
        "    liste.append(param)\n",
        "\n",
        "  return liste\n",
        "\n",
        "result = listeyecevir(10,20,33, \"merhaba\")\n",
        "\n",
        "print(result)\n"
      ],
      "execution_count": null,
      "outputs": [
        {
          "output_type": "stream",
          "text": [
            "[10, 20, 33, 'merhaba']\n"
          ],
          "name": "stdout"
        }
      ]
    },
    {
      "cell_type": "code",
      "metadata": {
        "id": "vEYVvgFmjxYE",
        "colab": {
          "base_uri": "https://localhost:8080/"
        },
        "outputId": "d2df4133-3a06-4c10-807d-729560fc7ae1"
      },
      "source": [
        "square = lambda num: num**2          # lambda metodu\n",
        "numbers = [2,4,6,8,9]\n",
        "result = list(map(square, numbers))\n",
        "print(result)"
      ],
      "execution_count": null,
      "outputs": [
        {
          "output_type": "stream",
          "text": [
            "[4, 16, 36, 64, 81]\n"
          ],
          "name": "stdout"
        }
      ]
    },
    {
      "cell_type": "code",
      "metadata": {
        "id": "-equfENljxUk",
        "colab": {
          "base_uri": "https://localhost:8080/"
        },
        "outputId": "8f118464-5276-4204-a0dd-627bbe62f015"
      },
      "source": [
        "square = lambda num: num**2          # lambda metodu\n",
        "\n",
        "result = square(9)\n",
        "print(result)"
      ],
      "execution_count": null,
      "outputs": [
        {
          "output_type": "stream",
          "text": [
            "81\n"
          ],
          "name": "stdout"
        }
      ]
    },
    {
      "cell_type": "code",
      "metadata": {
        "id": "yJVuE_4DjxRG",
        "colab": {
          "base_uri": "https://localhost:8080/"
        },
        "outputId": "5b68f681-ccfe-4cc7-81c9-a3036b2df45c"
      },
      "source": [
        "a = input(\"bir yazı giriniz \").upper().strip()\n",
        "print(a)"
      ],
      "execution_count": null,
      "outputs": [
        {
          "output_type": "stream",
          "text": [
            "bir yazı giriniz text                                 \n",
            "TEXT                                 \n"
          ],
          "name": "stdout"
        }
      ]
    },
    {
      "cell_type": "code",
      "metadata": {
        "id": "USS_KuDqjxOK"
      },
      "source": [
        "\n",
        "  \n",
        "  \n"
      ],
      "execution_count": null,
      "outputs": []
    },
    {
      "cell_type": "code",
      "metadata": {
        "id": "d4fEYiSBjxKw",
        "colab": {
          "base_uri": "https://localhost:8080/"
        },
        "outputId": "92c9727a-dca9-4c79-e804-f542bdf1af1a"
      },
      "source": [
        "from datetime import date\n",
        "\n",
        "today = date.today()\n",
        "\n",
        "# dd/mm/YY\n",
        "d1 = today.strftime(\"%d/%m/%Y\")\n",
        "print(\"d1 =\", d1)\n",
        "\n",
        "# Textual month, day and year\t\n",
        "d2 = today.strftime(\"%B %d, %Y\")\n",
        "print(\"d2 =\", d2)\n",
        "\n",
        "# mm/dd/y\n",
        "d3 = today.strftime(\"%m/%d/%y/%t\")\n",
        "print(\"d3 =\", d3)\n",
        "\n",
        "# Month abbreviation, day and year\t\n",
        "d4 = today.strftime(\"%b-%d-%Y\")\n",
        "print(\"d4 =\", d4)"
      ],
      "execution_count": null,
      "outputs": [
        {
          "output_type": "stream",
          "text": [
            "d1 = 03/05/2021\n",
            "d2 = May 03, 2021\n",
            "d3 = 05/03/21/\t\n",
            "d4 = May-03-2021\n"
          ],
          "name": "stdout"
        }
      ]
    },
    {
      "cell_type": "code",
      "metadata": {
        "id": "seqYwHQCjxH-",
        "colab": {
          "base_uri": "https://localhost:8080/"
        },
        "outputId": "3ef37d1d-f5d9-4e82-e7e7-545aa9d23b7f"
      },
      "source": [
        "import datetime\n",
        "now = datetime.datetime.now()\n",
        "\n",
        "print (now.strftime(\"%Y-%m-%d %H:%M:%S\"))"
      ],
      "execution_count": null,
      "outputs": [
        {
          "output_type": "stream",
          "text": [
            "2021-05-03 23:15:38\n"
          ],
          "name": "stdout"
        }
      ]
    },
    {
      "cell_type": "code",
      "metadata": {
        "id": "ZVSRswp0jxDz",
        "colab": {
          "base_uri": "https://localhost:8080/"
        },
        "outputId": "1a2df2fe-7087-445e-b1a5-891ea5099583"
      },
      "source": [
        "eneshesap = {\n",
        "    'ad': 'enes kaya',\n",
        "    'hesno': '38573457',\n",
        "    'bakiye': 5000,\n",
        "    'ekhesap': 3000\n",
        "\n",
        "}\n",
        "furkanhesap = {\n",
        "    'ad': 'furkan kaya',\n",
        "    'hesno': '38573457',\n",
        "    'bakiye': 5000,\n",
        "    'ekhesap': 3000\n",
        "\n",
        "}\n",
        "import datetime\n",
        "now = datetime.datetime.now()\n",
        "\n",
        "time = (now.strftime(\"%Y-%m-%d %H:%M:%S\"))\n",
        "\n",
        "def bankamatik(hesap, cekim):\n",
        "  print(f\"merhaba  {hesap['ad']}\")\n",
        "\n",
        "  kalan = (hesap['bakiye'] + hesap['ekhesap'] - cekim)\n",
        "  borc = cekim - (hesap['bakiye'])\n",
        "  toplam = (hesap['bakiye'] + hesap['ekhesap'])\n",
        "\n",
        "  if (cekim > (hesap['bakiye'] + hesap['ekhesap'])):\n",
        "    print(f\"yetersiz limit! bakiyeniz: {hesap['bakiye']} TL ve ek hesabınız: {hesap['ekhesap']} TL dir. {toplam} TL dir\")\n",
        "  else:\n",
        "   \n",
        "  \n",
        "    if (cekim <= hesap['bakiye']):\n",
        "      print(f\"paranızı alınız. kalan bakiyeniz: {hesap['bakiye']-cekim} TL dir.\")\n",
        "      \n",
        "    else:\n",
        "      onay = input(\"ek hesap kullanmak istermisiniz: e/h: \")\n",
        "      if (onay == \"e\"):\n",
        "        print(f\"paranızı alabilirsiniz. {hesap['hesno']} nolu hesap borcunuz -{borc} TL dir.\\n {time}\")\n",
        "        \n",
        "      else:\n",
        "        print(\"kartınızı almayı unutmayın\")\n",
        "        \n",
        "      \n",
        "\n",
        "bankamatik(eneshesap, 8000)\n"
      ],
      "execution_count": null,
      "outputs": [
        {
          "output_type": "stream",
          "text": [
            "merhaba  enes kaya\n",
            "ek hesap kullanmak istermisiniz: e/h: e\n",
            "paranızı alabilirsiniz. 38573457 nolu hesap borcunuz -3000 TL dir.\n",
            " 2021-05-03 23:34:49\n"
          ],
          "name": "stdout"
        }
      ]
    },
    {
      "cell_type": "code",
      "metadata": {
        "id": "kFI-4wUujxAF",
        "colab": {
          "base_uri": "https://localhost:8080/"
        },
        "outputId": "3a570839-e143-43b3-c8bd-3cc8e222a483"
      },
      "source": [
        "def brothers(bro1, bro2, bro3):\n",
        "    print('Here are the names of brothers :')\n",
        "    print(bro1, bro2, bro3, sep='\\n')\n",
        "family = ['tom', 'sue', 'tim']\n",
        "brothers(*family)"
      ],
      "execution_count": null,
      "outputs": [
        {
          "output_type": "stream",
          "text": [
            "Here are the names of brothers :\n",
            "tom\n",
            "sue\n",
            "tim\n"
          ],
          "name": "stdout"
        }
      ]
    },
    {
      "cell_type": "code",
      "metadata": {
        "id": "Oy6whpJUjw9K",
        "colab": {
          "base_uri": "https://localhost:8080/"
        },
        "outputId": "57c62056-490b-4571-e3ea-ca29b2cefc44"
      },
      "source": [
        "def gene(x, y):  # defined by positional args\n",
        "    print(x, \"belongs to Generation X\")\n",
        "    print(y, \"belongs to Generation Y\")\n",
        "dict_gene = {'y' : \"Marry\", 'x' : \"Fred\"}\n",
        "gene(**dict_gene)  # we call the function by a single argument(variable)"
      ],
      "execution_count": null,
      "outputs": [
        {
          "output_type": "stream",
          "text": [
            "Fred belongs to Generation X\n",
            "Marry belongs to Generation Y\n"
          ],
          "name": "stdout"
        }
      ]
    },
    {
      "cell_type": "code",
      "metadata": {
        "id": "-v_BGBjJjw5n",
        "colab": {
          "base_uri": "https://localhost:8080/"
        },
        "outputId": "5483b7e3-af8f-4af4-ebbb-02f44ca54348"
      },
      "source": [
        "def gene(x='Solomon', y='David'):  # defined by kwargs (default values assigned to x and y)\n",
        "    print(x, \"belongs to Generation X\")\n",
        "    print(y, \"belongs to Generation Y\")\n",
        "# iki önemli nokta. Item sayısı ve key isimleri\n",
        "dict_gene = {'y' : \"Marry\", 'x' : \"Fred\"}\n",
        "gene(**dict_gene)  # Dictionary key ve valueları gelir\n",
        "gene()  # default argümanları getirir"
      ],
      "execution_count": null,
      "outputs": [
        {
          "output_type": "stream",
          "text": [
            "Fred belongs to Generation X\n",
            "Marry belongs to Generation Y\n",
            "Solomon belongs to Generation X\n",
            "David belongs to Generation Y\n"
          ],
          "name": "stdout"
        }
      ]
    },
    {
      "cell_type": "code",
      "metadata": {
        "id": "_uSR3kVXjw2S",
        "colab": {
          "base_uri": "https://localhost:8080/"
        },
        "outputId": "c74e4b68-517d-4b55-bdcc-183205385e0a"
      },
      "source": [
        "[(\"mary\", \"rye\"), (\"bella\", \"fred\"), (\"linda\", \"roland\")]\n",
        "dict_couple = {\"bride\": [\"mary\", \"bella\", \"linda\"],\n",
        "               \"groom\": [\"rye\", \"fred\", \"roland\"]}\n",
        "def couples(bride, groom):\n",
        "    couple_list = []\n",
        "    for i in zip(bride, groom):\n",
        "        couple_list.append(i)\n",
        "    return couple_list\n",
        "couples(**dict_couple)"
      ],
      "execution_count": null,
      "outputs": [
        {
          "output_type": "execute_result",
          "data": {
            "text/plain": [
              "[('mary', 'rye'), ('bella', 'fred'), ('linda', 'roland')]"
            ]
          },
          "metadata": {
            "tags": []
          },
          "execution_count": 4
        }
      ]
    },
    {
      "cell_type": "code",
      "metadata": {
        "id": "7y7LxlSVjwxo"
      },
      "source": [
        "def couples(bride,groom):\n",
        "  return list(zip(bride, groom))"
      ],
      "execution_count": null,
      "outputs": []
    },
    {
      "cell_type": "code",
      "metadata": {
        "id": "mTiorII8jwu9",
        "colab": {
          "base_uri": "https://localhost:8080/"
        },
        "outputId": "b6656428-70af-47b2-f1de-99613a45db41"
      },
      "source": [
        "def meaner(ali,veli,hakan):\n",
        "  average = (ali+veli+hakan) / 3\n",
        "  return(\"the average of three friends ages is\",average)\n",
        "name_dict = {\"ali\":25,\"veli\":36,\"hakan\":27} \n",
        "meaner(**name_dict)"
      ],
      "execution_count": null,
      "outputs": [
        {
          "output_type": "execute_result",
          "data": {
            "text/plain": [
              "('the average of three friends ages is', 29.333333333333332)"
            ]
          },
          "metadata": {
            "tags": []
          },
          "execution_count": 9
        }
      ]
    },
    {
      "cell_type": "code",
      "metadata": {
        "id": "EPZC0NyyjwrK",
        "colab": {
          "base_uri": "https://localhost:8080/"
        },
        "outputId": "b0e66032-1680-469e-8b09-1b44d4356110"
      },
      "source": [
        "friends = {\"Ali\":13,\"Veli\":12,\"Ceyhun\" : 19}\n",
        "def meaner(Ali,Veli,Ceyhun):\n",
        "    print(\"avg of them is \", (Ali + Veli + Ceyhun)/3)\n",
        "meaner(**friends)"
      ],
      "execution_count": null,
      "outputs": [
        {
          "output_type": "stream",
          "text": [
            "avg of them is  14.666666666666666\n"
          ],
          "name": "stdout"
        }
      ]
    },
    {
      "cell_type": "code",
      "metadata": {
        "id": "Wip6878CjwmS",
        "colab": {
          "base_uri": "https://localhost:8080/"
        },
        "outputId": "04d83286-2555-41ca-979a-dc53bd6a1e0c"
      },
      "source": [
        "k = lambda x: x**2\n",
        "print(k(9))\n",
        "\n"
      ],
      "execution_count": null,
      "outputs": [
        {
          "output_type": "stream",
          "text": [
            "81\n"
          ],
          "name": "stdout"
        }
      ]
    },
    {
      "cell_type": "code",
      "metadata": {
        "colab": {
          "base_uri": "https://localhost:8080/"
        },
        "id": "BhdSHJ90zm3f",
        "outputId": "bfd346a0-dafd-4e20-a4b0-16f643008f45"
      },
      "source": [
        "y = lambda y,x: (x +y) * (x -y)\n",
        "print(y(2,3))"
      ],
      "execution_count": null,
      "outputs": [
        {
          "output_type": "stream",
          "text": [
            "5\n"
          ],
          "name": "stdout"
        }
      ]
    },
    {
      "cell_type": "code",
      "metadata": {
        "colab": {
          "base_uri": "https://localhost:8080/",
          "height": 35
        },
        "id": "Bp_M6Oq6zmz0",
        "outputId": "5ec19359-851f-494a-a455-f1d1dcb835c5"
      },
      "source": [
        "(lambda x: \"odd\" if x%2 else \"even\")(6)"
      ],
      "execution_count": null,
      "outputs": [
        {
          "output_type": "execute_result",
          "data": {
            "application/vnd.google.colaboratory.intrinsic+json": {
              "type": "string"
            },
            "text/plain": [
              "'even'"
            ]
          },
          "metadata": {
            "tags": []
          },
          "execution_count": 22
        }
      ]
    },
    {
      "cell_type": "code",
      "metadata": {
        "colab": {
          "base_uri": "https://localhost:8080/",
          "height": 35
        },
        "id": "TLg8aqcczmwc",
        "outputId": "6c06ea8b-5f35-4a54-9acc-76fedf4e9a5c"
      },
      "source": [
        "(lambda x: \"odd\" if x%2 else \"even\")(5)"
      ],
      "execution_count": null,
      "outputs": [
        {
          "output_type": "execute_result",
          "data": {
            "application/vnd.google.colaboratory.intrinsic+json": {
              "type": "string"
            },
            "text/plain": [
              "'odd'"
            ]
          },
          "metadata": {
            "tags": []
          },
          "execution_count": 23
        }
      ]
    },
    {
      "cell_type": "code",
      "metadata": {
        "colab": {
          "base_uri": "https://localhost:8080/"
        },
        "id": "q7GG16Nqzmpy",
        "outputId": "2f37f248-acc7-433a-e519-d742ab1e1091"
      },
      "source": [
        "print((lambda x: 'tek' if x % 2 else 'çift')(6))"
      ],
      "execution_count": null,
      "outputs": [
        {
          "output_type": "stream",
          "text": [
            "çift\n"
          ],
          "name": "stdout"
        }
      ]
    },
    {
      "cell_type": "code",
      "metadata": {
        "colab": {
          "base_uri": "https://localhost:8080/"
        },
        "id": "tLMxuKBVzmnN",
        "outputId": "310c6aa1-ddd3-41d3-d280-d3a8a3901d51"
      },
      "source": [
        "t = lambda x,y:(x**2) + (y**2) - (2*x*y)\n",
        "print(t(3,4))"
      ],
      "execution_count": null,
      "outputs": [
        {
          "output_type": "stream",
          "text": [
            "1\n"
          ],
          "name": "stdout"
        }
      ]
    },
    {
      "cell_type": "code",
      "metadata": {
        "colab": {
          "base_uri": "https://localhost:8080/"
        },
        "id": "6T3J4LcVzmka",
        "outputId": "efc5ee98-6f1c-4dfb-b9fd-4c81d6255a33"
      },
      "source": [
        "for i in range(5):\n",
        "  print(i, \":\" ,(lambda i: \"odd\" if i % 2  else \"even\")(i))"
      ],
      "execution_count": null,
      "outputs": [
        {
          "output_type": "stream",
          "text": [
            "0 : even\n",
            "1 : odd\n",
            "2 : even\n",
            "3 : odd\n",
            "4 : even\n"
          ],
          "name": "stdout"
        }
      ]
    },
    {
      "cell_type": "code",
      "metadata": {
        "colab": {
          "base_uri": "https://localhost:8080/"
        },
        "id": "LgKhRZzCzmgK",
        "outputId": "68d28e69-e3ad-4a21-f713-f2ad1618e348"
      },
      "source": [
        "iterable = \"clarusway\"\n",
        "reverser = (lambda x : x[::-1])\n",
        "print(reverser(iterable))"
      ],
      "execution_count": null,
      "outputs": [
        {
          "output_type": "stream",
          "text": [
            "yawsuralc\n"
          ],
          "name": "stdout"
        }
      ]
    },
    {
      "cell_type": "code",
      "metadata": {
        "colab": {
          "base_uri": "https://localhost:8080/"
        },
        "id": "ih7USGm2zmdZ",
        "outputId": "8fb25712-f3ee-4c36-b493-78d5462782c5"
      },
      "source": [
        "List = [1,2,3,4]\n",
        "for i in List:\n",
        "    print(i,\" : \", (lambda x : \"odd\" if not x%2 else \"even\" )(i))"
      ],
      "execution_count": null,
      "outputs": [
        {
          "output_type": "stream",
          "text": [
            "1  :  even\n",
            "2  :  odd\n",
            "3  :  even\n",
            "4  :  odd\n"
          ],
          "name": "stdout"
        }
      ]
    },
    {
      "cell_type": "code",
      "metadata": {
        "colab": {
          "base_uri": "https://localhost:8080/"
        },
        "id": "rDJpt5kezmZr",
        "outputId": "af791887-09da-49c3-cd19-f0d6a6e3fc65"
      },
      "source": [
        "iterable = [1, 2, 3, 4, 5]\n",
        "result = map(lambda x:x**2, iterable)\n",
        "print(result)\n",
        "\n",
        "print(type(result))  # it's a map type\n",
        "print(list(result))  # we've converted it to list type to print\n",
        "print(list(map(lambda x:x**2, iterable)))  # you can print directly"
      ],
      "execution_count": null,
      "outputs": [
        {
          "output_type": "stream",
          "text": [
            "<map object at 0x7fcd096bc710>\n",
            "<class 'map'>\n",
            "[1, 4, 9, 16, 25]\n",
            "[1, 4, 9, 16, 25]\n"
          ],
          "name": "stdout"
        }
      ]
    },
    {
      "cell_type": "code",
      "metadata": {
        "colab": {
          "base_uri": "https://localhost:8080/"
        },
        "id": "QrVExFJsRNAm",
        "outputId": "edfaca4f-ca24-4123-b270-416eb7a3307b"
      },
      "source": [
        "def kare(sayi):\n",
        "    return sayi * sayi\n",
        " \n",
        "sayilar = range(1,10)\n",
        "map(kare, sayilar)"
      ],
      "execution_count": 7,
      "outputs": [
        {
          "output_type": "stream",
          "text": [
            "<map object at 0x7fbfd8d02e10>\n"
          ],
          "name": "stdout"
        }
      ]
    },
    {
      "cell_type": "code",
      "metadata": {
        "colab": {
          "base_uri": "https://localhost:8080/"
        },
        "id": "Le2hIbguzmV8",
        "outputId": "b459fac3-3beb-47db-9c47-af1e275f86b0"
      },
      "source": [
        "letter1 = ['o', 's', 't', 't', 'k']              # ??????????????????????????\n",
        "letter2 = ['n', 'i', 'e', 'w']\n",
        "letter3 = ['e', 'x', 'n', 'o']\n",
        "numbers = map(lambda x, y, z: x+y+z, letter1, letter2, letter3)\n",
        "print(list(numbers))"
      ],
      "execution_count": 1,
      "outputs": [
        {
          "output_type": "stream",
          "text": [
            "['one', 'six', 'ten', 'two']\n"
          ],
          "name": "stdout"
        }
      ]
    },
    {
      "cell_type": "code",
      "metadata": {
        "id": "URTHufRqzmTn",
        "colab": {
          "base_uri": "https://localhost:8080/"
        },
        "outputId": "9785cc23-e62c-4e4b-c1a9-958ab4e6c811"
      },
      "source": [
        "def carp(sayi1,sayi2):\n",
        "    return sayi1 * sayi2\n",
        "def tek_sayi(number):\n",
        "    return number % 2 == 1\n",
        "\n",
        "liste1 = range(1, 10)\n",
        "liste2 = range(11, 20)\n",
        "liste3 = map(carp, liste1, liste2)\n",
        "i = filter(tek_sayi, liste3)\n",
        "print(*i)"
      ],
      "execution_count": 30,
      "outputs": [
        {
          "output_type": "stream",
          "text": [
            "11 39 75 119 171\n"
          ],
          "name": "stdout"
        }
      ]
    },
    {
      "cell_type": "code",
      "metadata": {
        "id": "EMXrCvGuzmPT",
        "colab": {
          "base_uri": "https://localhost:8080/"
        },
        "outputId": "1b3d10c9-00f4-44ff-9121-766752d061c3"
      },
      "source": [
        "ages = [5, 12, 17, 18, 24, 32]\n",
        "\n",
        "def myFunc(x):\n",
        "  if x < 18:\n",
        "    return False\n",
        "  else:\n",
        "    return True\n",
        "\n",
        "adults = filter(myFunc, ages)\n",
        "\n",
        "for x in adults:\n",
        "  print(x)"
      ],
      "execution_count": 26,
      "outputs": [
        {
          "output_type": "stream",
          "text": [
            "18\n",
            "24\n",
            "32\n"
          ],
          "name": "stdout"
        }
      ]
    },
    {
      "cell_type": "code",
      "metadata": {
        "id": "ffvzaydWzmME",
        "colab": {
          "base_uri": "https://localhost:8080/"
        },
        "outputId": "a0a260c4-3f62-49f6-d662-531e52b532cb"
      },
      "source": [
        "import datetime\n",
        "today = datetime.datetime.now()\n",
        "print(today.strftime(\"%d-%m-%y\"), \"Nesne Tabanlı Programlar\")"
      ],
      "execution_count": 38,
      "outputs": [
        {
          "output_type": "stream",
          "text": [
            "07-05-21 Nesne Tabanlı Programlar\n"
          ],
          "name": "stdout"
        }
      ]
    },
    {
      "cell_type": "code",
      "metadata": {
        "colab": {
          "base_uri": "https://localhost:8080/"
        },
        "id": "_P7SUxHNkHMn",
        "outputId": "9e699ee0-9b9c-4b7c-e186-fdb6baf9e076"
      },
      "source": [
        "# class\n",
        "class Person:\n",
        "  # class attributes\n",
        "  adress = \"no information.\"\n",
        " \n",
        "  #constructor (yapıcı metod)\n",
        "  def __init__(self, name, year):\n",
        "  #object atributes\n",
        "    self.name = name\n",
        "    self.year = year\n",
        "    print(\"init metodu çalıştı.\")\n",
        "\n",
        "  # methods\n",
        "\n",
        "  # object (instance)\n",
        "  p1 = Person(name=\"enes\",year=\"2013\")\n",
        "  p2 = Person(name=\"furkan\",year=\"2016\")\n",
        "\n",
        "  # updating\n",
        "  p1.name = \"enes\"\n",
        "  p1.adress = \"van\"\n",
        "\n",
        "  p2.name = \"furkan\"\n",
        "  p2.adress = \"van\"\n",
        "\n",
        "  #accessing objevt attributes\n",
        "\n",
        "  print(f\"name: {p1.name}, year: {p1.year},  adress: {p1.adress}\")\n",
        "  print(f\"name: {p2.name}, year: {p2.year},  adress: {p2.adress}\")"
      ],
      "execution_count": 50,
      "outputs": [
        {
          "output_type": "stream",
          "text": [
            "init metodu çalıştı.\n",
            "init metodu çalıştı.\n",
            "name: enes, year: 2013,  adress: van\n",
            "name: furkan, year: 2016,  adress: van\n"
          ],
          "name": "stdout"
        }
      ]
    },
    {
      "cell_type": "code",
      "metadata": {
        "colab": {
          "base_uri": "https://localhost:8080/"
        },
        "id": "XLDLgx2ckHI6",
        "outputId": "751430fe-c9ba-4f86-8d24-f8b09953c6c9"
      },
      "source": [
        "# class\n",
        "class Circle:\n",
        "  # class object attributes\n",
        "  pi = 3.14\n",
        " \n",
        "  def __init__(self, yaricap = 1):\n",
        "    self.yaricap = yaricap\n",
        "  # methods\n",
        "\n",
        "  # object (instance)\n",
        "  def cevre_hesapla(self):\n",
        "    return 2 * self.pi * self.yaricap\n",
        "\n",
        "  def alan_hesapla(self):\n",
        "    return self.pi * (self.yaricap**2)\n",
        "\n",
        "\n",
        "c1 = Circle(5)\n",
        "c2 = Circle() # değer girilmezse 1 alacaktır\n",
        "\n",
        "print(f\"c1 alan: {c1.alan_hesapla()}, c1 cevre: {c1.cevre_hesapla()}\")\n",
        "print(f\"c2 alan: {c2.alan_hesapla()}, c2 cevre: {c2.cevre_hesapla()}\")\n",
        "\n",
        "  "
      ],
      "execution_count": 56,
      "outputs": [
        {
          "output_type": "stream",
          "text": [
            "c1 alan: 78.5, c1 cevre: 31.400000000000002\n",
            "c2 alan: 3.14, c2 cevre: 6.28\n"
          ],
          "name": "stdout"
        }
      ]
    },
    {
      "cell_type": "code",
      "metadata": {
        "id": "zY4owDPhkHFX"
      },
      "source": [
        ""
      ],
      "execution_count": null,
      "outputs": []
    },
    {
      "cell_type": "code",
      "metadata": {
        "id": "a8Xb0b9oM2DG"
      },
      "source": [
        ""
      ],
      "execution_count": null,
      "outputs": []
    },
    {
      "cell_type": "code",
      "metadata": {
        "id": "hUgObu7bkHB3"
      },
      "source": [
        ""
      ],
      "execution_count": null,
      "outputs": []
    },
    {
      "cell_type": "code",
      "metadata": {
        "id": "KHpC5dRhkG-L"
      },
      "source": [
        ""
      ],
      "execution_count": null,
      "outputs": []
    },
    {
      "cell_type": "code",
      "metadata": {
        "id": "QR8S3TaHkG2z"
      },
      "source": [
        ""
      ],
      "execution_count": null,
      "outputs": []
    },
    {
      "cell_type": "code",
      "metadata": {
        "id": "LvRjQE5zkGzR"
      },
      "source": [
        ""
      ],
      "execution_count": null,
      "outputs": []
    },
    {
      "cell_type": "code",
      "metadata": {
        "id": "I_vtdFgkkGvd"
      },
      "source": [
        ""
      ],
      "execution_count": null,
      "outputs": []
    },
    {
      "cell_type": "code",
      "metadata": {
        "id": "gRZeuyH2kGs1"
      },
      "source": [
        ""
      ],
      "execution_count": null,
      "outputs": []
    },
    {
      "cell_type": "code",
      "metadata": {
        "id": "_KoIoMyGkGpA"
      },
      "source": [
        ""
      ],
      "execution_count": null,
      "outputs": []
    },
    {
      "cell_type": "code",
      "metadata": {
        "id": "jycpWaFSkGku"
      },
      "source": [
        ""
      ],
      "execution_count": null,
      "outputs": []
    },
    {
      "cell_type": "code",
      "metadata": {
        "id": "ilCW4PHNkGg-"
      },
      "source": [
        ""
      ],
      "execution_count": null,
      "outputs": []
    },
    {
      "cell_type": "markdown",
      "metadata": {
        "id": "5cerpDwZk9_4"
      },
      "source": [
        ""
      ]
    }
  ]
}